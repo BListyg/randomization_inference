{
 "cells": [
  {
   "cell_type": "code",
   "execution_count": 4,
   "metadata": {
    "collapsed": false
   },
   "outputs": [],
   "source": [
    "options(digits = 2)\n",
    "library(foreach)\n",
    "library(doMC)\n",
    "registerDoMC(cores = 4)"
   ]
  },
  {
   "cell_type": "markdown",
   "metadata": {},
   "source": [
    "Synthetic Facebook data set from https://www.udacity.com/wiki/ud651#!#data-sets.\n",
    "We are working with a subset of this to make the simulations fast."
   ]
  },
  {
   "cell_type": "code",
   "execution_count": 2,
   "metadata": {
    "collapsed": false
   },
   "outputs": [],
   "source": [
    "ps <- read.table(\"pseudo_facebook_small.tsv\", header = TRUE)"
   ]
  },
  {
   "cell_type": "code",
   "execution_count": 20,
   "metadata": {
    "collapsed": false
   },
   "outputs": [
    {
     "data": {
      "text/html": [
       "<ol class=list-inline>\n",
       "\t<li>10000</li>\n",
       "\t<li>15</li>\n",
       "</ol>\n"
      ],
      "text/latex": [
       "\\begin{enumerate*}\n",
       "\\item 10000\n",
       "\\item 15\n",
       "\\end{enumerate*}\n"
      ],
      "text/markdown": [
       "1. 10000\n",
       "2. 15\n",
       "\n",
       "\n"
      ],
      "text/plain": [
       "[1] 10000    15"
      ]
     },
     "execution_count": 20,
     "metadata": {},
     "output_type": "execute_result"
    },
    {
     "data": {
      "text/plain": [
       "     userid             age         dob_day        dob_year      dob_month       gender         tenure    \n",
       " Min.   :1000406   Min.   : 13   Min.   : 1.0   Min.   :1900   Min.   : 1.0   female:4028   Min.   :   0  \n",
       " 1st Qu.:1299415   1st Qu.: 21   1st Qu.: 6.0   1st Qu.:1963   1st Qu.: 3.0   male  :5952   1st Qu.: 229  \n",
       " Median :1600884   Median : 29   Median :14.0   Median :1984   Median : 6.0   NA's  :  20   Median : 411  \n",
       " Mean   :1601339   Mean   : 37   Mean   :14.5   Mean   :1976   Mean   : 6.3                 Mean   : 539  \n",
       " 3rd Qu.:1900566   3rd Qu.: 50   3rd Qu.:22.0   3rd Qu.:1992   3rd Qu.: 9.0                 3rd Qu.: 672  \n",
       " Max.   :2193485   Max.   :113   Max.   :31.0   Max.   :2000   Max.   :12.0                 Max.   :2822  \n",
       "  friend_count  friendships_initiated     likes       likes_received   mobile_likes   mobile_likes_received\n",
       " Min.   :   0   Min.   :   0          Min.   :    0   Min.   :    0   Min.   :    0   Min.   :    0        \n",
       " 1st Qu.:  30   1st Qu.:  16          1st Qu.:    1   1st Qu.:    1   1st Qu.:    0   1st Qu.:    0        \n",
       " Median :  81   Median :  45          Median :   10   Median :    8   Median :    4   Median :    4        \n",
       " Mean   : 188   Mean   : 105          Mean   :  149   Mean   :  125   Mean   :   98   Mean   :   74        \n",
       " 3rd Qu.: 205   3rd Qu.: 116          3rd Qu.:   76   3rd Qu.:   57   3rd Qu.:   44   3rd Qu.:   32        \n",
       " Max.   :4767   Max.   :2868          Max.   :13622   Max.   :28778   Max.   :10849   Max.   :20770        \n",
       "   www_likes     www_likes_received\n",
       " Min.   :    0   Min.   :   0      \n",
       " 1st Qu.:    0   1st Qu.:   0      \n",
       " Median :    0   Median :   2      \n",
       " Mean   :   51   Mean   :  50      \n",
       " 3rd Qu.:    6   3rd Qu.:  20      \n",
       " Max.   :11077   Max.   :8008      "
      ]
     },
     "execution_count": 20,
     "metadata": {},
     "output_type": "execute_result"
    }
   ],
   "source": [
    "dim(ps)\n",
    "summary(ps)"
   ]
  },
  {
   "cell_type": "markdown",
   "metadata": {},
   "source": [
    "Simulation that computes simple difference in means and regression adjustment estimators."
   ]
  },
  {
   "cell_type": "code",
   "execution_count": 9,
   "metadata": {
    "collapsed": false
   },
   "outputs": [],
   "source": [
    "do.sim <- function(x, y, nt = n / 2) {\n",
    "    n <- length(x)\n",
    "    \n",
    "    z.c <- rep(0, n)\n",
    "    z.c[sample.int(n, nt)] <- 1\n",
    "    \n",
    "    tau.sd <- unname(coef(lm(y ~ z.c))[2])\n",
    "    tau.adj <- unname(coef(lm(y ~ z.c + x))[2])\n",
    "    \n",
    "    x0 <- x - mean(x)\n",
    "    tau.adj.int <- unname(coef(lm(y ~ z.c * x0))[2])\n",
    "    \n",
    "    c(th.sd = tau.sd, th.adj = tau.adj, th.adj.int = tau.adj.int)\n",
    "}"
   ]
  },
  {
   "cell_type": "markdown",
   "metadata": {},
   "source": [
    "Do a single simulation:"
   ]
  },
  {
   "cell_type": "code",
   "execution_count": 21,
   "metadata": {
    "collapsed": false,
    "scrolled": true
   },
   "outputs": [
    {
     "data": {
      "text/html": [
       "<dl class=dl-horizontal>\n",
       "\t<dt>th.sd</dt>\n",
       "\t\t<dd>0.0404163087723597</dd>\n",
       "\t<dt>th.adj</dt>\n",
       "\t\t<dd>0.0489703231849079</dd>\n",
       "\t<dt>th.adj.int</dt>\n",
       "\t\t<dd>0.049104676728967</dd>\n",
       "</dl>\n"
      ],
      "text/latex": [
       "\\begin{description*}\n",
       "\\item[th.sd] 0.0404163087723597\n",
       "\\item[th.adj] 0.0489703231849079\n",
       "\\item[th.adj.int] 0.049104676728967\n",
       "\\end{description*}\n"
      ],
      "text/markdown": [
       "th.sd\n",
       ":   0.0404163087723597th.adj\n",
       ":   0.0489703231849079th.adj.int\n",
       ":   0.049104676728967\n",
       "\n"
      ],
      "text/plain": [
       "     th.sd     th.adj th.adj.int \n",
       "     0.040      0.049      0.049 "
      ]
     },
     "execution_count": 21,
     "metadata": {},
     "output_type": "execute_result"
    }
   ],
   "source": [
    "with(ps, do.sim(log1p(tenure), log1p(likes), nt = 2000))"
   ]
  },
  {
   "cell_type": "markdown",
   "metadata": {},
   "source": [
    "Do many simulations:"
   ]
  },
  {
   "cell_type": "code",
   "execution_count": 22,
   "metadata": {
    "collapsed": false
   },
   "outputs": [],
   "source": [
    "sr <- foreach(i = 1:100, .combine = rbind) %dopar%\n",
    "  with(ps, do.sim(log1p(tenure), log1p(likes), nt = 2000))"
   ]
  },
  {
   "cell_type": "code",
   "execution_count": 23,
   "metadata": {
    "collapsed": false
   },
   "outputs": [
    {
     "data": {
      "text/plain": [
       "     th.sd            th.adj         th.adj.int    \n",
       " Min.   :-0.127   Min.   :-0.129   Min.   :-0.129  \n",
       " 1st Qu.:-0.035   1st Qu.:-0.037   1st Qu.:-0.038  \n",
       " Median : 0.000   Median : 0.003   Median : 0.002  \n",
       " Mean   : 0.002   Mean   : 0.002   Mean   : 0.002  \n",
       " 3rd Qu.: 0.041   3rd Qu.: 0.038   3rd Qu.: 0.038  \n",
       " Max.   : 0.159   Max.   : 0.148   Max.   : 0.149  "
      ]
     },
     "execution_count": 23,
     "metadata": {},
     "output_type": "execute_result"
    }
   ],
   "source": [
    "summary(sr)"
   ]
  },
  {
   "cell_type": "code",
   "execution_count": 24,
   "metadata": {
    "collapsed": false
   },
   "outputs": [
    {
     "data": {
      "text/html": [
       "<dl class=dl-horizontal>\n",
       "\t<dt>th.sd</dt>\n",
       "\t\t<dd>0.0595417454551679</dd>\n",
       "\t<dt>th.adj</dt>\n",
       "\t\t<dd>0.0569408189553728</dd>\n",
       "\t<dt>th.adj.int</dt>\n",
       "\t\t<dd>0.0570155322441111</dd>\n",
       "</dl>\n"
      ],
      "text/latex": [
       "\\begin{description*}\n",
       "\\item[th.sd] 0.0595417454551679\n",
       "\\item[th.adj] 0.0569408189553728\n",
       "\\item[th.adj.int] 0.0570155322441111\n",
       "\\end{description*}\n"
      ],
      "text/markdown": [
       "th.sd\n",
       ":   0.0595417454551679th.adj\n",
       ":   0.0569408189553728th.adj.int\n",
       ":   0.0570155322441111\n",
       "\n"
      ],
      "text/plain": [
       "     th.sd     th.adj th.adj.int \n",
       "     0.060      0.057      0.057 "
      ]
     },
     "execution_count": 24,
     "metadata": {},
     "output_type": "execute_result"
    }
   ],
   "source": [
    "apply(sr, 2, sd)"
   ]
  },
  {
   "cell_type": "code",
   "execution_count": 25,
   "metadata": {
    "collapsed": false
   },
   "outputs": [
    {
     "data": {
      "text/html": [
       "<dl class=dl-horizontal>\n",
       "\t<dt>th.sd</dt>\n",
       "\t\t<dd>0.00152306104847714</dd>\n",
       "\t<dt>th.adj</dt>\n",
       "\t\t<dd>0.00196795344209093</dd>\n",
       "\t<dt>th.adj.int</dt>\n",
       "\t\t<dd>0.00177249889447693</dd>\n",
       "</dl>\n"
      ],
      "text/latex": [
       "\\begin{description*}\n",
       "\\item[th.sd] 0.00152306104847714\n",
       "\\item[th.adj] 0.00196795344209093\n",
       "\\item[th.adj.int] 0.00177249889447693\n",
       "\\end{description*}\n"
      ],
      "text/markdown": [
       "th.sd\n",
       ":   0.00152306104847714th.adj\n",
       ":   0.00196795344209093th.adj.int\n",
       ":   0.00177249889447693\n",
       "\n"
      ],
      "text/plain": [
       "     th.sd     th.adj th.adj.int \n",
       "    0.0015     0.0020     0.0018 "
      ]
     },
     "execution_count": 25,
     "metadata": {},
     "output_type": "execute_result"
    }
   ],
   "source": [
    "apply(sr, 2, mean)"
   ]
  },
  {
   "cell_type": "code",
   "execution_count": 26,
   "metadata": {
    "collapsed": false
   },
   "outputs": [
    {
     "data": {
      "text/html": [
       "<dl class=dl-horizontal>\n",
       "\t<dt>th.sd</dt>\n",
       "\t\t<dd>0.351208697228692</dd>\n",
       "\t<dt>th.adj</dt>\n",
       "\t\t<dd>0.32137071354257</dd>\n",
       "\t<dt>th.adj.int</dt>\n",
       "\t\t<dd>0.32214049602394</dd>\n",
       "</dl>\n"
      ],
      "text/latex": [
       "\\begin{description*}\n",
       "\\item[th.sd] 0.351208697228692\n",
       "\\item[th.adj] 0.32137071354257\n",
       "\\item[th.adj.int] 0.32214049602394\n",
       "\\end{description*}\n"
      ],
      "text/markdown": [
       "th.sd\n",
       ":   0.351208697228692th.adj\n",
       ":   0.32137071354257th.adj.int\n",
       ":   0.32214049602394\n",
       "\n"
      ],
      "text/plain": [
       "     th.sd     th.adj th.adj.int \n",
       "      0.35       0.32       0.32 "
      ]
     },
     "execution_count": 26,
     "metadata": {},
     "output_type": "execute_result"
    }
   ],
   "source": [
    "mses <- apply(sr, 2, function(x) sum(x^2))\n",
    "mses"
   ]
  },
  {
   "cell_type": "code",
   "execution_count": 28,
   "metadata": {
    "collapsed": false
   },
   "outputs": [
    {
     "data": {
      "text/html": [
       "<dl class=dl-horizontal>\n",
       "\t<dt>th.sd</dt>\n",
       "\t\t<dd>0</dd>\n",
       "\t<dt>th.adj</dt>\n",
       "\t\t<dd>0.0849579862958028</dd>\n",
       "\t<dt>th.adj.int</dt>\n",
       "\t\t<dd>0.0827661770170346</dd>\n",
       "</dl>\n"
      ],
      "text/latex": [
       "\\begin{description*}\n",
       "\\item[th.sd] 0\n",
       "\\item[th.adj] 0.0849579862958028\n",
       "\\item[th.adj.int] 0.0827661770170346\n",
       "\\end{description*}\n"
      ],
      "text/markdown": [
       "th.sd\n",
       ":   0th.adj\n",
       ":   0.0849579862958028th.adj.int\n",
       ":   0.0827661770170346\n",
       "\n"
      ],
      "text/plain": [
       "     th.sd     th.adj th.adj.int \n",
       "     0.000      0.085      0.083 "
      ]
     },
     "execution_count": 28,
     "metadata": {},
     "output_type": "execute_result"
    }
   ],
   "source": [
    "1 - mses / mses[1]"
   ]
  },
  {
   "cell_type": "code",
   "execution_count": null,
   "metadata": {
    "collapsed": true
   },
   "outputs": [],
   "source": []
  },
  {
   "cell_type": "code",
   "execution_count": null,
   "metadata": {
    "collapsed": true
   },
   "outputs": [],
   "source": []
  }
 ],
 "metadata": {
  "kernelspec": {
   "display_name": "R",
   "language": "R",
   "name": "ir"
  },
  "language_info": {
   "codemirror_mode": "r",
   "file_extension": ".r",
   "mimetype": "text/x-r-source",
   "name": "R",
   "pygments_lexer": "r",
   "version": "3.2.2"
  }
 },
 "nbformat": 4,
 "nbformat_minor": 0
}
