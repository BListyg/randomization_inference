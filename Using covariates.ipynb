{
 "cells": [
  {
   "cell_type": "markdown",
   "metadata": {},
   "source": [
    "# Using covariates to increase precision"
   ]
  },
  {
   "cell_type": "code",
   "execution_count": 67,
   "metadata": {
    "collapsed": false
   },
   "outputs": [],
   "source": [
    "options(digits = 2)\n",
    "library(foreach)\n",
    "library(doMC)\n",
    "registerDoMC(cores = 4)\n",
    "library(ggplot2)\n",
    "theme_set(theme_bw())\n",
    "library(repr)\n",
    "options(repr.plot.width=6, repr.plot.height=4)"
   ]
  },
  {
   "cell_type": "markdown",
   "metadata": {},
   "source": [
    "Synthetic Facebook data set from https://www.udacity.com/wiki/ud651#!#data-sets.\n",
    "We are working with a subset of this to make the simulations fast."
   ]
  },
  {
   "cell_type": "code",
   "execution_count": 42,
   "metadata": {
    "collapsed": false
   },
   "outputs": [],
   "source": [
    "ps <- read.table(\"pseudo_facebook_small.tsv\", header = TRUE)"
   ]
  },
  {
   "cell_type": "code",
   "execution_count": 72,
   "metadata": {
    "collapsed": false
   },
   "outputs": [
    {
     "data": {
      "text/html": [
       "<ol class=list-inline>\n",
       "\t<li>10000</li>\n",
       "\t<li>15</li>\n",
       "</ol>\n"
      ],
      "text/latex": [
       "\\begin{enumerate*}\n",
       "\\item 10000\n",
       "\\item 15\n",
       "\\end{enumerate*}\n"
      ],
      "text/markdown": [
       "1. 10000\n",
       "2. 15\n",
       "\n",
       "\n"
      ],
      "text/plain": [
       "[1] 10000    15"
      ]
     },
     "execution_count": 72,
     "metadata": {},
     "output_type": "execute_result"
    },
    {
     "data": {
      "text/plain": [
       "   Min. 1st Qu.  Median    Mean 3rd Qu.    Max. \n",
       "      0       1      10     149      76   13600 "
      ]
     },
     "execution_count": 72,
     "metadata": {},
     "output_type": "execute_result"
    },
    {
     "data": {
      "text/plain": [
       "   Min. 1st Qu.  Median    Mean 3rd Qu.    Max. \n",
       "      0     229     411     539     672    2820 "
      ]
     },
     "execution_count": 72,
     "metadata": {},
     "output_type": "execute_result"
    }
   ],
   "source": [
    "dim(ps)\n",
    "summary(ps$likes)\n",
    "summary(ps$tenure)"
   ]
  },
  {
   "cell_type": "markdown",
   "metadata": {},
   "source": [
    "# Simulate estimates under the sharp null\n",
    "Simulation that computes simple difference in means and regression adjustment estimators. We use two regression adjustments: one with a single linear term and one with an interaction term with the covariate centered. See Lin (2013) in Annals of Applied Statistics."
   ]
  },
  {
   "cell_type": "code",
   "execution_count": 73,
   "metadata": {
    "collapsed": false
   },
   "outputs": [],
   "source": [
    "do.sim <- function(x, y, nt = round(n / 2)) {\n",
    "    n <- length(x)\n",
    "    \n",
    "    z.c <- rep(0, n)\n",
    "    z.c[sample.int(n, nt)] <- 1\n",
    "    \n",
    "    tau.sd <- unname(coef(lm(y ~ z.c))[2])      # unadjusted\n",
    "    tau.adj <- unname(coef(lm(y ~ z.c + x))[2]) # regression adjustment\n",
    "    \n",
    "    # interaction w centered covariate:\n",
    "    x0 <- x - mean(x)\n",
    "    tau.adj.int <- unname(coef(lm(y ~ z.c * x0))[2])\n",
    "    \n",
    "    c(th.sd = tau.sd, th.adj = tau.adj, th.adj.int = tau.adj.int)\n",
    "}"
   ]
  },
  {
   "cell_type": "markdown",
   "metadata": {},
   "source": [
    "Do a single simulation:"
   ]
  },
  {
   "cell_type": "code",
   "execution_count": 66,
   "metadata": {
    "collapsed": false,
    "scrolled": true
   },
   "outputs": [
    {
     "data": {
      "text/html": [
       "<dl class=dl-horizontal>\n",
       "\t<dt>th.sd</dt>\n",
       "\t\t<dd>0.0513337038631001</dd>\n",
       "\t<dt>th.adj</dt>\n",
       "\t\t<dd>0.0596912108653627</dd>\n",
       "\t<dt>th.adj.int</dt>\n",
       "\t\t<dd>0.058737335222844</dd>\n",
       "</dl>\n"
      ],
      "text/latex": [
       "\\begin{description*}\n",
       "\\item[th.sd] 0.0513337038631001\n",
       "\\item[th.adj] 0.0596912108653627\n",
       "\\item[th.adj.int] 0.058737335222844\n",
       "\\end{description*}\n"
      ],
      "text/markdown": [
       "th.sd\n",
       ":   0.0513337038631001th.adj\n",
       ":   0.0596912108653627th.adj.int\n",
       ":   0.058737335222844\n",
       "\n"
      ],
      "text/plain": [
       "     th.sd     th.adj th.adj.int \n",
       "     0.051      0.060      0.059 "
      ]
     },
     "execution_count": 66,
     "metadata": {},
     "output_type": "execute_result"
    }
   ],
   "source": [
    "with(ps, do.sim(tenure, log1p(likes), nt = 2000))"
   ]
  },
  {
   "cell_type": "markdown",
   "metadata": {},
   "source": [
    "The estimates, as we should expect, are quite similar. But we really want to compare their variance and error across many possible randomizations.\n",
    "\n",
    "Do many simulations:"
   ]
  },
  {
   "cell_type": "code",
   "execution_count": 59,
   "metadata": {
    "collapsed": false
   },
   "outputs": [],
   "source": [
    "sr <- foreach(i = 1:1e3, .combine = rbind) %dopar%\n",
    "  with(ps, do.sim(tenure, log1p(likes), nt = 2000))"
   ]
  },
  {
   "cell_type": "code",
   "execution_count": 60,
   "metadata": {
    "collapsed": false
   },
   "outputs": [
    {
     "data": {
      "text/plain": [
       "     th.sd            th.adj         th.adj.int    \n",
       " Min.   :-0.182   Min.   :-0.182   Min.   :-0.184  \n",
       " 1st Qu.:-0.039   1st Qu.:-0.038   1st Qu.:-0.038  \n",
       " Median : 0.000   Median : 0.000   Median : 0.000  \n",
       " Mean   : 0.000   Mean   : 0.000   Mean   : 0.000  \n",
       " 3rd Qu.: 0.038   3rd Qu.: 0.036   3rd Qu.: 0.036  \n",
       " Max.   : 0.191   Max.   : 0.190   Max.   : 0.190  "
      ]
     },
     "execution_count": 60,
     "metadata": {},
     "output_type": "execute_result"
    }
   ],
   "source": [
    "summary(sr)"
   ]
  },
  {
   "cell_type": "code",
   "execution_count": 61,
   "metadata": {
    "collapsed": false
   },
   "outputs": [
    {
     "data": {
      "text/html": [
       "<dl class=dl-horizontal>\n",
       "\t<dt>th.sd</dt>\n",
       "\t\t<dd>0.0580209274316362</dd>\n",
       "\t<dt>th.adj</dt>\n",
       "\t\t<dd>0.0573698971473993</dd>\n",
       "\t<dt>th.adj.int</dt>\n",
       "\t\t<dd>0.0574078054448429</dd>\n",
       "</dl>\n"
      ],
      "text/latex": [
       "\\begin{description*}\n",
       "\\item[th.sd] 0.0580209274316362\n",
       "\\item[th.adj] 0.0573698971473993\n",
       "\\item[th.adj.int] 0.0574078054448429\n",
       "\\end{description*}\n"
      ],
      "text/markdown": [
       "th.sd\n",
       ":   0.0580209274316362th.adj\n",
       ":   0.0573698971473993th.adj.int\n",
       ":   0.0574078054448429\n",
       "\n"
      ],
      "text/plain": [
       "     th.sd     th.adj th.adj.int \n",
       "     0.058      0.057      0.057 "
      ]
     },
     "execution_count": 61,
     "metadata": {},
     "output_type": "execute_result"
    }
   ],
   "source": [
    "apply(sr, 2, sd)"
   ]
  },
  {
   "cell_type": "code",
   "execution_count": 62,
   "metadata": {
    "collapsed": false
   },
   "outputs": [
    {
     "data": {
      "text/html": [
       "<dl class=dl-horizontal>\n",
       "\t<dt>th.sd</dt>\n",
       "\t\t<dd>0.000182805467572636</dd>\n",
       "\t<dt>th.adj</dt>\n",
       "\t\t<dd>0.000250078723388885</dd>\n",
       "\t<dt>th.adj.int</dt>\n",
       "\t\t<dd>0.000304896568073275</dd>\n",
       "</dl>\n"
      ],
      "text/latex": [
       "\\begin{description*}\n",
       "\\item[th.sd] 0.000182805467572636\n",
       "\\item[th.adj] 0.000250078723388885\n",
       "\\item[th.adj.int] 0.000304896568073275\n",
       "\\end{description*}\n"
      ],
      "text/markdown": [
       "th.sd\n",
       ":   0.000182805467572636th.adj\n",
       ":   0.000250078723388885th.adj.int\n",
       ":   0.000304896568073275\n",
       "\n"
      ],
      "text/plain": [
       "     th.sd     th.adj th.adj.int \n",
       "   0.00018    0.00025    0.00030 "
      ]
     },
     "execution_count": 62,
     "metadata": {},
     "output_type": "execute_result"
    }
   ],
   "source": [
    "apply(sr, 2, mean)"
   ]
  },
  {
   "cell_type": "code",
   "execution_count": 63,
   "metadata": {
    "collapsed": false
   },
   "outputs": [
    {
     "data": {
      "text/html": [
       "<dl class=dl-horizontal>\n",
       "\t<dt>th.sd</dt>\n",
       "\t\t<dd>0.0579921978359688</dd>\n",
       "\t<dt>th.adj</dt>\n",
       "\t\t<dd>0.0573417503480001</dd>\n",
       "\t<dt>th.adj.int</dt>\n",
       "\t\t<dd>0.0573799044246692</dd>\n",
       "</dl>\n"
      ],
      "text/latex": [
       "\\begin{description*}\n",
       "\\item[th.sd] 0.0579921978359688\n",
       "\\item[th.adj] 0.0573417503480001\n",
       "\\item[th.adj.int] 0.0573799044246692\n",
       "\\end{description*}\n"
      ],
      "text/markdown": [
       "th.sd\n",
       ":   0.0579921978359688th.adj\n",
       ":   0.0573417503480001th.adj.int\n",
       ":   0.0573799044246692\n",
       "\n"
      ],
      "text/plain": [
       "     th.sd     th.adj th.adj.int \n",
       "     0.058      0.057      0.057 "
      ]
     },
     "execution_count": 63,
     "metadata": {},
     "output_type": "execute_result"
    }
   ],
   "source": [
    "rmses <- sqrt(apply(sr, 2, function(x) mean(x^2)))\n",
    "rmses"
   ]
  },
  {
   "cell_type": "markdown",
   "metadata": {},
   "source": [
    "Reduction in root mean squared error for tau:"
   ]
  },
  {
   "cell_type": "code",
   "execution_count": 64,
   "metadata": {
    "collapsed": false
   },
   "outputs": [
    {
     "data": {
      "text/html": [
       "<dl class=dl-horizontal>\n",
       "\t<dt>th.sd</dt>\n",
       "\t\t<dd>0</dd>\n",
       "\t<dt>th.adj</dt>\n",
       "\t\t<dd>0.0112161206548594</dd>\n",
       "\t<dt>th.adj.int</dt>\n",
       "\t\t<dd>0.0105582032436756</dd>\n",
       "</dl>\n"
      ],
      "text/latex": [
       "\\begin{description*}\n",
       "\\item[th.sd] 0\n",
       "\\item[th.adj] 0.0112161206548594\n",
       "\\item[th.adj.int] 0.0105582032436756\n",
       "\\end{description*}\n"
      ],
      "text/markdown": [
       "th.sd\n",
       ":   0th.adj\n",
       ":   0.0112161206548594th.adj.int\n",
       ":   0.0105582032436756\n",
       "\n"
      ],
      "text/plain": [
       "     th.sd     th.adj th.adj.int \n",
       "     0.000      0.011      0.011 "
      ]
     },
     "execution_count": 64,
     "metadata": {},
     "output_type": "execute_result"
    }
   ],
   "source": [
    "1 - rmses / rmses[1]"
   ]
  },
  {
   "cell_type": "markdown",
   "metadata": {},
   "source": [
    "This isn't much reduction. That doesn't mean there isn't clear evidence of tenure being related to likes; we can clearly detect a relationships, but mainly because we have a large N, not because there is a strong association:"
   ]
  },
  {
   "cell_type": "code",
   "execution_count": 65,
   "metadata": {
    "collapsed": false
   },
   "outputs": [
    {
     "data": {
      "text/plain": [
       "\n",
       "Call:\n",
       "lm(formula = log1p(likes) ~ tenure, data = ps)\n",
       "\n",
       "Residuals:\n",
       "   Min     1Q Median     3Q    Max \n",
       "-3.925 -2.120 -0.217  1.659  6.745 \n",
       "\n",
       "Coefficients:\n",
       "            Estimate Std. Error t value Pr(>|t|)    \n",
       "(Intercept) 2.233249   0.033869    65.9   <2e-16 ***\n",
       "tenure      0.000795   0.000048    16.6   <2e-16 ***\n",
       "---\n",
       "Signif. codes:  0 ‘***’ 0.001 ‘**’ 0.01 ‘*’ 0.05 ‘.’ 0.1 ‘ ’ 1\n",
       "\n",
       "Residual standard error: 2.2 on 9998 degrees of freedom\n",
       "Multiple R-squared:  0.0268,\tAdjusted R-squared:  0.0267 \n",
       "F-statistic:  275 on 1 and 9998 DF,  p-value: <2e-16\n"
      ]
     },
     "execution_count": 65,
     "metadata": {},
     "output_type": "execute_result"
    }
   ],
   "source": [
    "summary(lm(log1p(likes) ~ tenure, data = ps))"
   ]
  },
  {
   "cell_type": "code",
   "execution_count": 68,
   "metadata": {
    "collapsed": false
   },
   "outputs": [
    {
     "name": "stderr",
     "output_type": "stream",
     "text": [
      "geom_smooth: method=\"auto\" and size of largest group is >=1000, so using gam with formula: y ~ s(x, bs = \"cs\"). Use 'method = x' to change the smoothing method.\n"
     ]
    },
    {
     "data": {
      "image/png": "[encoded data removed]",
      "image/svg+xml": [
       "<?xml version=\"1.0\" encoding=\"UTF-8\"?>\n",
       "<svg xmlns=\"http://www.w3.org/2000/svg\" xmlns:xlink=\"http://www.w3.org/1999/xlink\" width=\"432pt\" height=\"288pt\" viewBox=\"0 0 432 288\" version=\"1.1\">\n",
       "<defs>\n",
       "<g>\n",
       "<symbol overflow=\"visible\" id=\"glyph0-0\">\n",
       "<path style=\"stroke:none;\" d=\"M 0.3125 0 L 0.3125 -6.875 L 5.765625 -6.875 L 5.765625 0 Z M 4.90625 -0.859375 L 4.90625 -6.015625 L 1.171875 -6.015625 L 1.171875 -0.859375 Z M 4.90625 -0.859375 \"/>\n",
       "</symbol>\n",
       "<symbol overflow=\"visible\" id=\"glyph0-1\">\n",
       "<path style=\"stroke:none;\" d=\"M 2.59375 -6.703125 C 3.457031 -6.703125 4.085938 -6.347656 4.484375 -5.640625 C 4.773438 -5.085938 4.921875 -4.328125 4.921875 -3.359375 C 4.921875 -2.453125 4.785156 -1.695312 4.515625 -1.09375 C 4.128906 -0.238281 3.488281 0.1875 2.59375 0.1875 C 1.78125 0.1875 1.179688 -0.160156 0.796875 -0.859375 C 0.460938 -1.453125 0.296875 -2.238281 0.296875 -3.21875 C 0.296875 -3.976562 0.394531 -4.632812 0.59375 -5.1875 C 0.957031 -6.195312 1.625 -6.703125 2.59375 -6.703125 Z M 2.578125 -0.578125 C 3.015625 -0.578125 3.363281 -0.769531 3.625 -1.15625 C 3.882812 -1.550781 4.015625 -2.273438 4.015625 -3.328125 C 4.015625 -4.085938 3.921875 -4.710938 3.734375 -5.203125 C 3.546875 -5.703125 3.179688 -5.953125 2.640625 -5.953125 C 2.148438 -5.953125 1.789062 -5.71875 1.5625 -5.25 C 1.332031 -4.78125 1.21875 -4.09375 1.21875 -3.1875 C 1.21875 -2.5 1.289062 -1.945312 1.4375 -1.53125 C 1.65625 -0.894531 2.035156 -0.578125 2.578125 -0.578125 Z M 2.578125 -0.578125 \"/>\n",
       "</symbol>\n",
       "<symbol overflow=\"visible\" id=\"glyph0-2\">\n",
       "<path style=\"stroke:none;\" d=\"M 0.921875 -4.75 L 0.921875 -5.390625 C 1.523438 -5.453125 1.945312 -5.550781 2.1875 -5.6875 C 2.425781 -5.832031 2.609375 -6.164062 2.734375 -6.6875 L 3.390625 -6.6875 L 3.390625 0 L 2.5 0 L 2.5 -4.75 Z M 0.921875 -4.75 \"/>\n",
       "</symbol>\n",
       "<symbol overflow=\"visible\" id=\"glyph0-3\">\n",
       "<path style=\"stroke:none;\" d=\"M 0.296875 0 C 0.328125 -0.570312 0.445312 -1.070312 0.65625 -1.5 C 0.863281 -1.9375 1.269531 -2.328125 1.875 -2.671875 L 2.765625 -3.1875 C 3.171875 -3.425781 3.457031 -3.628906 3.625 -3.796875 C 3.875 -4.054688 4 -4.351562 4 -4.6875 C 4 -5.070312 3.878906 -5.378906 3.640625 -5.609375 C 3.410156 -5.835938 3.101562 -5.953125 2.71875 -5.953125 C 2.132812 -5.953125 1.734375 -5.734375 1.515625 -5.296875 C 1.398438 -5.066406 1.335938 -4.742188 1.328125 -4.328125 L 0.46875 -4.328125 C 0.476562 -4.910156 0.582031 -5.382812 0.78125 -5.75 C 1.144531 -6.40625 1.789062 -6.734375 2.71875 -6.734375 C 3.488281 -6.734375 4.050781 -6.523438 4.40625 -6.109375 C 4.757812 -5.691406 4.9375 -5.226562 4.9375 -4.71875 C 4.9375 -4.1875 4.75 -3.726562 4.375 -3.34375 C 4.15625 -3.125 3.757812 -2.851562 3.1875 -2.53125 L 2.546875 -2.1875 C 2.242188 -2.019531 2.003906 -1.859375 1.828125 -1.703125 C 1.515625 -1.429688 1.316406 -1.128906 1.234375 -0.796875 L 4.90625 -0.796875 L 4.90625 0 Z M 0.296875 0 \"/>\n",
       "</symbol>\n",
       "<symbol overflow=\"visible\" id=\"glyph0-4\">\n",
       "<path style=\"stroke:none;\" d=\"M 2.484375 0.1875 C 1.691406 0.1875 1.117188 -0.03125 0.765625 -0.46875 C 0.410156 -0.90625 0.234375 -1.4375 0.234375 -2.0625 L 1.109375 -2.0625 C 1.148438 -1.625 1.234375 -1.304688 1.359375 -1.109375 C 1.578125 -0.753906 1.96875 -0.578125 2.53125 -0.578125 C 2.976562 -0.578125 3.335938 -0.695312 3.609375 -0.9375 C 3.878906 -1.175781 4.015625 -1.484375 4.015625 -1.859375 C 4.015625 -2.316406 3.867188 -2.640625 3.578125 -2.828125 C 3.296875 -3.015625 2.90625 -3.109375 2.40625 -3.109375 C 2.351562 -3.109375 2.296875 -3.101562 2.234375 -3.09375 C 2.179688 -3.09375 2.125 -3.09375 2.0625 -3.09375 L 2.0625 -3.84375 C 2.144531 -3.832031 2.21875 -3.820312 2.28125 -3.8125 C 2.34375 -3.8125 2.40625 -3.8125 2.46875 -3.8125 C 2.789062 -3.8125 3.050781 -3.863281 3.25 -3.96875 C 3.601562 -4.144531 3.78125 -4.457031 3.78125 -4.90625 C 3.78125 -5.238281 3.660156 -5.492188 3.421875 -5.671875 C 3.191406 -5.859375 2.914062 -5.953125 2.59375 -5.953125 C 2.03125 -5.953125 1.644531 -5.765625 1.4375 -5.390625 C 1.3125 -5.179688 1.242188 -4.882812 1.234375 -4.5 L 0.390625 -4.5 C 0.390625 -5 0.492188 -5.425781 0.703125 -5.78125 C 1.046875 -6.40625 1.648438 -6.71875 2.515625 -6.71875 C 3.191406 -6.71875 3.71875 -6.5625 4.09375 -6.25 C 4.46875 -5.945312 4.65625 -5.507812 4.65625 -4.9375 C 4.65625 -4.519531 4.546875 -4.1875 4.328125 -3.9375 C 4.191406 -3.78125 4.015625 -3.65625 3.796875 -3.5625 C 4.148438 -3.46875 4.425781 -3.28125 4.625 -3 C 4.820312 -2.71875 4.921875 -2.378906 4.921875 -1.984375 C 4.921875 -1.347656 4.707031 -0.828125 4.28125 -0.421875 C 3.863281 -0.015625 3.265625 0.1875 2.484375 0.1875 Z M 2.484375 0.1875 \"/>\n",
       "</symbol>\n",
       "<symbol overflow=\"visible\" id=\"glyph0-5\">\n",
       "<path style=\"stroke:none;\" d=\"M 3.171875 -2.375 L 3.171875 -5.421875 L 1.015625 -2.375 Z M 3.1875 0 L 3.1875 -1.640625 L 0.25 -1.640625 L 0.25 -2.46875 L 3.3125 -6.734375 L 4.03125 -6.734375 L 4.03125 -2.375 L 5.015625 -2.375 L 5.015625 -1.640625 L 4.03125 -1.640625 L 4.03125 0 Z M 3.1875 0 \"/>\n",
       "</symbol>\n",
       "<symbol overflow=\"visible\" id=\"glyph0-6\">\n",
       "<path style=\"stroke:none;\" d=\"M 2.8125 -6.734375 C 3.5625 -6.734375 4.082031 -6.535156 4.375 -6.140625 C 4.664062 -5.753906 4.8125 -5.359375 4.8125 -4.953125 L 3.984375 -4.953125 C 3.929688 -5.210938 3.851562 -5.421875 3.75 -5.578125 C 3.539062 -5.859375 3.226562 -6 2.8125 -6 C 2.34375 -6 1.96875 -5.78125 1.6875 -5.34375 C 1.414062 -4.90625 1.265625 -4.28125 1.234375 -3.46875 C 1.421875 -3.75 1.664062 -3.960938 1.96875 -4.109375 C 2.226562 -4.234375 2.523438 -4.296875 2.859375 -4.296875 C 3.421875 -4.296875 3.910156 -4.113281 4.328125 -3.75 C 4.742188 -3.394531 4.953125 -2.863281 4.953125 -2.15625 C 4.953125 -1.539062 4.753906 -1 4.359375 -0.53125 C 3.960938 -0.0625 3.398438 0.171875 2.671875 0.171875 C 2.046875 0.171875 1.503906 -0.0625 1.046875 -0.53125 C 0.585938 -1.007812 0.359375 -1.816406 0.359375 -2.953125 C 0.359375 -3.785156 0.460938 -4.488281 0.671875 -5.0625 C 1.054688 -6.175781 1.769531 -6.734375 2.8125 -6.734375 Z M 2.75 -0.578125 C 3.1875 -0.578125 3.515625 -0.722656 3.734375 -1.015625 C 3.960938 -1.316406 4.078125 -1.671875 4.078125 -2.078125 C 4.078125 -2.421875 3.976562 -2.75 3.78125 -3.0625 C 3.582031 -3.375 3.222656 -3.53125 2.703125 -3.53125 C 2.335938 -3.53125 2.019531 -3.410156 1.75 -3.171875 C 1.476562 -2.929688 1.34375 -2.566406 1.34375 -2.078125 C 1.34375 -1.648438 1.460938 -1.289062 1.703125 -1 C 1.953125 -0.71875 2.300781 -0.578125 2.75 -0.578125 Z M 2.75 -0.578125 \"/>\n",
       "</symbol>\n",
       "<symbol overflow=\"visible\" id=\"glyph0-7\">\n",
       "<path style=\"stroke:none;\" d=\"M 2.609375 -3.890625 C 2.984375 -3.890625 3.273438 -3.992188 3.484375 -4.203125 C 3.691406 -4.410156 3.796875 -4.660156 3.796875 -4.953125 C 3.796875 -5.203125 3.691406 -5.429688 3.484375 -5.640625 C 3.285156 -5.847656 2.984375 -5.953125 2.578125 -5.953125 C 2.171875 -5.953125 1.875 -5.847656 1.6875 -5.640625 C 1.507812 -5.429688 1.421875 -5.1875 1.421875 -4.90625 C 1.421875 -4.59375 1.535156 -4.34375 1.765625 -4.15625 C 2.003906 -3.976562 2.285156 -3.890625 2.609375 -3.890625 Z M 2.65625 -0.578125 C 3.050781 -0.578125 3.375 -0.679688 3.625 -0.890625 C 3.882812 -1.097656 4.015625 -1.414062 4.015625 -1.84375 C 4.015625 -2.269531 3.878906 -2.59375 3.609375 -2.8125 C 3.347656 -3.039062 3.007812 -3.15625 2.59375 -3.15625 C 2.195312 -3.15625 1.867188 -3.039062 1.609375 -2.8125 C 1.359375 -2.582031 1.234375 -2.265625 1.234375 -1.859375 C 1.234375 -1.515625 1.347656 -1.210938 1.578125 -0.953125 C 1.816406 -0.703125 2.175781 -0.578125 2.65625 -0.578125 Z M 1.46875 -3.578125 C 1.226562 -3.671875 1.039062 -3.785156 0.90625 -3.921875 C 0.664062 -4.171875 0.546875 -4.5 0.546875 -4.90625 C 0.546875 -5.40625 0.722656 -5.832031 1.078125 -6.1875 C 1.441406 -6.550781 1.957031 -6.734375 2.625 -6.734375 C 3.269531 -6.734375 3.773438 -6.5625 4.140625 -6.21875 C 4.503906 -5.875 4.6875 -5.476562 4.6875 -5.03125 C 4.6875 -4.613281 4.582031 -4.273438 4.375 -4.015625 C 4.25 -3.867188 4.0625 -3.722656 3.8125 -3.578125 C 4.09375 -3.453125 4.3125 -3.304688 4.46875 -3.140625 C 4.769531 -2.828125 4.921875 -2.421875 4.921875 -1.921875 C 4.921875 -1.335938 4.722656 -0.835938 4.328125 -0.421875 C 3.929688 -0.015625 3.367188 0.1875 2.640625 0.1875 C 1.984375 0.1875 1.429688 0.0078125 0.984375 -0.34375 C 0.535156 -0.695312 0.3125 -1.210938 0.3125 -1.890625 C 0.3125 -2.285156 0.40625 -2.625 0.59375 -2.90625 C 0.789062 -3.195312 1.082031 -3.421875 1.46875 -3.578125 Z M 1.46875 -3.578125 \"/>\n",
       "</symbol>\n",
       "<symbol overflow=\"visible\" id=\"glyph1-0\">\n",
       "<path style=\"stroke:none;\" d=\"M 0.390625 0 L 0.390625 -8.609375 L 7.21875 -8.609375 L 7.21875 0 Z M 6.140625 -1.078125 L 6.140625 -7.53125 L 1.46875 -7.53125 L 1.46875 -1.078125 Z M 6.140625 -1.078125 \"/>\n",
       "</symbol>\n",
       "<symbol overflow=\"visible\" id=\"glyph1-1\">\n",
       "<path style=\"stroke:none;\" d=\"M 0.796875 -8.609375 L 1.859375 -8.609375 L 1.859375 0 L 0.796875 0 Z M 0.796875 -8.609375 \"/>\n",
       "</symbol>\n",
       "<symbol overflow=\"visible\" id=\"glyph1-2\">\n",
       "<path style=\"stroke:none;\" d=\"M 3.265625 -0.6875 C 3.960938 -0.6875 4.441406 -0.945312 4.703125 -1.46875 C 4.960938 -2 5.09375 -2.585938 5.09375 -3.234375 C 5.09375 -3.828125 5 -4.304688 4.8125 -4.671875 C 4.507812 -5.242188 4 -5.53125 3.28125 -5.53125 C 2.632812 -5.53125 2.164062 -5.285156 1.875 -4.796875 C 1.582031 -4.304688 1.4375 -3.710938 1.4375 -3.015625 C 1.4375 -2.347656 1.582031 -1.789062 1.875 -1.34375 C 2.164062 -0.90625 2.628906 -0.6875 3.265625 -0.6875 Z M 3.3125 -6.453125 C 4.113281 -6.453125 4.789062 -6.179688 5.34375 -5.640625 C 5.90625 -5.109375 6.1875 -4.316406 6.1875 -3.265625 C 6.1875 -2.253906 5.941406 -1.414062 5.453125 -0.75 C 4.960938 -0.09375 4.203125 0.234375 3.171875 0.234375 C 2.304688 0.234375 1.617188 -0.0546875 1.109375 -0.640625 C 0.597656 -1.234375 0.34375 -2.019531 0.34375 -3 C 0.34375 -4.050781 0.609375 -4.890625 1.140625 -5.515625 C 1.679688 -6.140625 2.40625 -6.453125 3.3125 -6.453125 Z M 3.265625 -6.421875 Z M 3.265625 -6.421875 \"/>\n",
       "</symbol>\n",
       "<symbol overflow=\"visible\" id=\"glyph1-3\">\n",
       "<path style=\"stroke:none;\" d=\"M 2.984375 -6.390625 C 3.484375 -6.390625 3.914062 -6.269531 4.28125 -6.03125 C 4.476562 -5.882812 4.679688 -5.679688 4.890625 -5.421875 L 4.890625 -6.21875 L 5.859375 -6.21875 L 5.859375 -0.515625 C 5.859375 0.285156 5.742188 0.914062 5.515625 1.375 C 5.078125 2.226562 4.25 2.65625 3.03125 2.65625 C 2.351562 2.65625 1.785156 2.503906 1.328125 2.203125 C 0.867188 1.898438 0.609375 1.425781 0.546875 0.78125 L 1.625 0.78125 C 1.675781 1.0625 1.773438 1.28125 1.921875 1.4375 C 2.160156 1.664062 2.535156 1.78125 3.046875 1.78125 C 3.859375 1.78125 4.390625 1.492188 4.640625 0.921875 C 4.785156 0.585938 4.851562 -0.0078125 4.84375 -0.875 C 4.632812 -0.550781 4.378906 -0.3125 4.078125 -0.15625 C 3.785156 0 3.394531 0.078125 2.90625 0.078125 C 2.226562 0.078125 1.632812 -0.160156 1.125 -0.640625 C 0.613281 -1.128906 0.359375 -1.929688 0.359375 -3.046875 C 0.359375 -4.097656 0.613281 -4.914062 1.125 -5.5 C 1.644531 -6.09375 2.265625 -6.390625 2.984375 -6.390625 Z M 4.890625 -3.171875 C 4.890625 -3.941406 4.726562 -4.515625 4.40625 -4.890625 C 4.082031 -5.265625 3.675781 -5.453125 3.1875 -5.453125 C 2.4375 -5.453125 1.925781 -5.101562 1.65625 -4.40625 C 1.507812 -4.039062 1.4375 -3.554688 1.4375 -2.953125 C 1.4375 -2.242188 1.578125 -1.703125 1.859375 -1.328125 C 2.148438 -0.960938 2.539062 -0.78125 3.03125 -0.78125 C 3.789062 -0.78125 4.320312 -1.125 4.625 -1.8125 C 4.800781 -2.195312 4.890625 -2.648438 4.890625 -3.171875 Z M 3.109375 -6.421875 Z M 3.109375 -6.421875 \"/>\n",
       "</symbol>\n",
       "<symbol overflow=\"visible\" id=\"glyph1-4\">\n",
       "<path style=\"stroke:none;\" d=\"M 1.15625 -5.9375 L 1.15625 -6.75 C 1.914062 -6.820312 2.441406 -6.945312 2.734375 -7.125 C 3.035156 -7.300781 3.265625 -7.710938 3.421875 -8.359375 L 4.25 -8.359375 L 4.25 0 L 3.125 0 L 3.125 -5.9375 Z M 1.15625 -5.9375 \"/>\n",
       "</symbol>\n",
       "<symbol overflow=\"visible\" id=\"glyph1-5\">\n",
       "<path style=\"stroke:none;\" d=\"M 3.421875 -0.703125 C 3.910156 -0.703125 4.316406 -0.910156 4.640625 -1.328125 C 4.972656 -1.742188 5.140625 -2.359375 5.140625 -3.171875 C 5.140625 -3.671875 5.066406 -4.101562 4.921875 -4.46875 C 4.648438 -5.15625 4.148438 -5.5 3.421875 -5.5 C 2.691406 -5.5 2.191406 -5.132812 1.921875 -4.40625 C 1.773438 -4.019531 1.703125 -3.523438 1.703125 -2.921875 C 1.703125 -2.429688 1.773438 -2.019531 1.921875 -1.6875 C 2.191406 -1.03125 2.691406 -0.703125 3.421875 -0.703125 Z M 0.6875 -6.25 L 1.71875 -6.25 L 1.71875 -5.421875 C 1.925781 -5.703125 2.15625 -5.921875 2.40625 -6.078125 C 2.757812 -6.304688 3.175781 -6.421875 3.65625 -6.421875 C 4.375 -6.421875 4.976562 -6.148438 5.46875 -5.609375 C 5.96875 -5.066406 6.21875 -4.289062 6.21875 -3.28125 C 6.21875 -1.90625 5.859375 -0.925781 5.140625 -0.34375 C 4.691406 0.03125 4.164062 0.21875 3.5625 0.21875 C 3.09375 0.21875 2.695312 0.113281 2.375 -0.09375 C 2.1875 -0.21875 1.976562 -0.421875 1.75 -0.703125 L 1.75 2.5 L 0.6875 2.5 Z M 0.6875 -6.25 \"/>\n",
       "</symbol>\n",
       "<symbol overflow=\"visible\" id=\"glyph1-6\">\n",
       "<path style=\"stroke:none;\" d=\"M 3.546875 -8.75 C 2.929688 -7.5625 2.535156 -6.6875 2.359375 -6.125 C 2.078125 -5.257812 1.9375 -4.269531 1.9375 -3.15625 C 1.9375 -2.019531 2.097656 -0.984375 2.421875 -0.046875 C 2.609375 0.535156 2.988281 1.367188 3.5625 2.453125 L 2.859375 2.453125 C 2.285156 1.554688 1.929688 0.984375 1.796875 0.734375 C 1.660156 0.492188 1.515625 0.160156 1.359375 -0.265625 C 1.140625 -0.835938 0.984375 -1.453125 0.890625 -2.109375 C 0.847656 -2.453125 0.828125 -2.773438 0.828125 -3.078125 C 0.828125 -4.234375 1.007812 -5.265625 1.375 -6.171875 C 1.601562 -6.742188 2.082031 -7.601562 2.8125 -8.75 Z M 3.546875 -8.75 \"/>\n",
       "</symbol>\n",
       "<symbol overflow=\"visible\" id=\"glyph1-7\">\n",
       "<path style=\"stroke:none;\" d=\"M 0.984375 -8.03125 L 2.046875 -8.03125 L 2.046875 -6.28125 L 3.046875 -6.28125 L 3.046875 -5.421875 L 2.046875 -5.421875 L 2.046875 -1.3125 C 2.046875 -1.09375 2.125 -0.945312 2.28125 -0.875 C 2.351562 -0.832031 2.488281 -0.8125 2.6875 -0.8125 C 2.738281 -0.8125 2.789062 -0.8125 2.84375 -0.8125 C 2.90625 -0.820312 2.972656 -0.828125 3.046875 -0.828125 L 3.046875 0 C 2.929688 0.03125 2.804688 0.0507812 2.671875 0.0625 C 2.546875 0.0820312 2.40625 0.09375 2.25 0.09375 C 1.757812 0.09375 1.425781 -0.03125 1.25 -0.28125 C 1.070312 -0.53125 0.984375 -0.859375 0.984375 -1.265625 L 0.984375 -5.421875 L 0.140625 -5.421875 L 0.140625 -6.28125 L 0.984375 -6.28125 Z M 0.984375 -8.03125 \"/>\n",
       "</symbol>\n",
       "<symbol overflow=\"visible\" id=\"glyph1-8\">\n",
       "<path style=\"stroke:none;\" d=\"M 3.390625 -6.421875 C 3.835938 -6.421875 4.269531 -6.316406 4.6875 -6.109375 C 5.101562 -5.898438 5.421875 -5.628906 5.640625 -5.296875 C 5.847656 -4.972656 5.988281 -4.601562 6.0625 -4.1875 C 6.125 -3.894531 6.15625 -3.429688 6.15625 -2.796875 L 1.546875 -2.796875 C 1.566406 -2.160156 1.71875 -1.648438 2 -1.265625 C 2.28125 -0.878906 2.71875 -0.6875 3.3125 -0.6875 C 3.863281 -0.6875 4.300781 -0.867188 4.625 -1.234375 C 4.8125 -1.441406 4.945312 -1.6875 5.03125 -1.96875 L 6.0625 -1.96875 C 6.039062 -1.738281 5.953125 -1.484375 5.796875 -1.203125 C 5.640625 -0.921875 5.46875 -0.6875 5.28125 -0.5 C 4.957031 -0.1875 4.554688 0.0195312 4.078125 0.125 C 3.828125 0.1875 3.539062 0.21875 3.21875 0.21875 C 2.4375 0.21875 1.773438 -0.0625 1.234375 -0.625 C 0.691406 -1.195312 0.421875 -1.992188 0.421875 -3.015625 C 0.421875 -4.023438 0.691406 -4.84375 1.234375 -5.46875 C 1.785156 -6.101562 2.503906 -6.421875 3.390625 -6.421875 Z M 5.0625 -3.640625 C 5.019531 -4.097656 4.921875 -4.460938 4.765625 -4.734375 C 4.484375 -5.242188 4.003906 -5.5 3.328125 -5.5 C 2.835938 -5.5 2.425781 -5.320312 2.09375 -4.96875 C 1.769531 -4.625 1.597656 -4.179688 1.578125 -3.640625 Z M 3.28125 -6.421875 Z M 3.28125 -6.421875 \"/>\n",
       "</symbol>\n",
       "<symbol overflow=\"visible\" id=\"glyph1-9\">\n",
       "<path style=\"stroke:none;\" d=\"M 0.78125 -6.28125 L 1.78125 -6.28125 L 1.78125 -5.390625 C 2.070312 -5.753906 2.382812 -6.015625 2.71875 -6.171875 C 3.050781 -6.335938 3.421875 -6.421875 3.828125 -6.421875 C 4.710938 -6.421875 5.3125 -6.109375 5.625 -5.484375 C 5.800781 -5.140625 5.890625 -4.65625 5.890625 -4.03125 L 5.890625 0 L 4.8125 0 L 4.8125 -3.953125 C 4.8125 -4.335938 4.753906 -4.644531 4.640625 -4.875 C 4.453125 -5.269531 4.113281 -5.46875 3.625 -5.46875 C 3.375 -5.46875 3.171875 -5.441406 3.015625 -5.390625 C 2.722656 -5.304688 2.46875 -5.132812 2.25 -4.875 C 2.070312 -4.664062 1.957031 -4.453125 1.90625 -4.234375 C 1.851562 -4.015625 1.828125 -3.695312 1.828125 -3.28125 L 1.828125 0 L 0.78125 0 Z M 3.25 -6.421875 Z M 3.25 -6.421875 \"/>\n",
       "</symbol>\n",
       "<symbol overflow=\"visible\" id=\"glyph1-10\">\n",
       "<path style=\"stroke:none;\" d=\"M 1.828125 -6.28125 L 1.828125 -2.109375 C 1.828125 -1.785156 1.878906 -1.523438 1.984375 -1.328125 C 2.171875 -0.953125 2.519531 -0.765625 3.03125 -0.765625 C 3.757812 -0.765625 4.257812 -1.09375 4.53125 -1.75 C 4.675781 -2.101562 4.75 -2.582031 4.75 -3.1875 L 4.75 -6.28125 L 5.796875 -6.28125 L 5.796875 0 L 4.8125 0 L 4.8125 -0.921875 C 4.675781 -0.679688 4.507812 -0.484375 4.3125 -0.328125 C 3.90625 0.00390625 3.414062 0.171875 2.84375 0.171875 C 1.945312 0.171875 1.335938 -0.128906 1.015625 -0.734375 C 0.835938 -1.046875 0.75 -1.472656 0.75 -2.015625 L 0.75 -6.28125 Z M 3.28125 -6.421875 Z M 3.28125 -6.421875 \"/>\n",
       "</symbol>\n",
       "<symbol overflow=\"visible\" id=\"glyph1-11\">\n",
       "<path style=\"stroke:none;\" d=\"M 0.796875 -6.28125 L 1.8125 -6.28125 L 1.8125 -5.1875 C 1.882812 -5.40625 2.082031 -5.664062 2.40625 -5.96875 C 2.726562 -6.269531 3.097656 -6.421875 3.515625 -6.421875 C 3.535156 -6.421875 3.566406 -6.414062 3.609375 -6.40625 C 3.660156 -6.40625 3.742188 -6.398438 3.859375 -6.390625 L 3.859375 -5.28125 C 3.796875 -5.289062 3.738281 -5.296875 3.6875 -5.296875 C 3.632812 -5.296875 3.578125 -5.296875 3.515625 -5.296875 C 2.984375 -5.296875 2.570312 -5.125 2.28125 -4.78125 C 2 -4.445312 1.859375 -4.054688 1.859375 -3.609375 L 1.859375 0 L 0.796875 0 Z M 0.796875 -6.28125 \"/>\n",
       "</symbol>\n",
       "<symbol overflow=\"visible\" id=\"glyph1-12\">\n",
       "<path style=\"stroke:none;\" d=\"M 0.421875 2.453125 C 1.035156 1.242188 1.4375 0.359375 1.625 -0.203125 C 1.894531 -1.035156 2.03125 -2.019531 2.03125 -3.15625 C 2.03125 -4.28125 1.867188 -5.3125 1.546875 -6.25 C 1.359375 -6.832031 0.976562 -7.664062 0.40625 -8.75 L 1.109375 -8.75 C 1.710938 -7.789062 2.078125 -7.195312 2.203125 -6.96875 C 2.328125 -6.75 2.460938 -6.441406 2.609375 -6.046875 C 2.796875 -5.554688 2.929688 -5.070312 3.015625 -4.59375 C 3.097656 -4.113281 3.140625 -3.65625 3.140625 -3.21875 C 3.140625 -2.0625 2.953125 -1.03125 2.578125 -0.125 C 2.347656 0.457031 1.875 1.316406 1.15625 2.453125 Z M 0.421875 2.453125 \"/>\n",
       "</symbol>\n",
       "<symbol overflow=\"visible\" id=\"glyph2-0\">\n",
       "<path style=\"stroke:none;\" d=\"M 0 -0.390625 L -8.609375 -0.390625 L -8.609375 -7.21875 L 0 -7.21875 Z M -1.078125 -6.140625 L -7.53125 -6.140625 L -7.53125 -1.46875 L -1.078125 -1.46875 Z M -1.078125 -6.140625 \"/>\n",
       "</symbol>\n",
       "<symbol overflow=\"visible\" id=\"glyph2-1\">\n",
       "<path style=\"stroke:none;\" d=\"M -8.609375 -0.796875 L -8.609375 -1.859375 L 0 -1.859375 L 0 -0.796875 Z M -8.609375 -0.796875 \"/>\n",
       "</symbol>\n",
       "<symbol overflow=\"visible\" id=\"glyph2-2\">\n",
       "<path style=\"stroke:none;\" d=\"M -0.6875 -3.265625 C -0.6875 -3.960938 -0.945312 -4.441406 -1.46875 -4.703125 C -2 -4.960938 -2.585938 -5.09375 -3.234375 -5.09375 C -3.828125 -5.09375 -4.304688 -5 -4.671875 -4.8125 C -5.242188 -4.507812 -5.53125 -4 -5.53125 -3.28125 C -5.53125 -2.632812 -5.285156 -2.164062 -4.796875 -1.875 C -4.304688 -1.582031 -3.710938 -1.4375 -3.015625 -1.4375 C -2.347656 -1.4375 -1.789062 -1.582031 -1.34375 -1.875 C -0.90625 -2.164062 -0.6875 -2.628906 -0.6875 -3.265625 Z M -6.453125 -3.3125 C -6.453125 -4.113281 -6.179688 -4.789062 -5.640625 -5.34375 C -5.109375 -5.90625 -4.316406 -6.1875 -3.265625 -6.1875 C -2.253906 -6.1875 -1.414062 -5.941406 -0.75 -5.453125 C -0.09375 -4.960938 0.234375 -4.203125 0.234375 -3.171875 C 0.234375 -2.304688 -0.0546875 -1.617188 -0.640625 -1.109375 C -1.234375 -0.597656 -2.019531 -0.34375 -3 -0.34375 C -4.050781 -0.34375 -4.890625 -0.609375 -5.515625 -1.140625 C -6.140625 -1.679688 -6.453125 -2.40625 -6.453125 -3.3125 Z M -6.421875 -3.265625 Z M -6.421875 -3.265625 \"/>\n",
       "</symbol>\n",
       "<symbol overflow=\"visible\" id=\"glyph2-3\">\n",
       "<path style=\"stroke:none;\" d=\"M -6.390625 -2.984375 C -6.390625 -3.484375 -6.269531 -3.914062 -6.03125 -4.28125 C -5.882812 -4.476562 -5.679688 -4.679688 -5.421875 -4.890625 L -6.21875 -4.890625 L -6.21875 -5.859375 L -0.515625 -5.859375 C 0.285156 -5.859375 0.914062 -5.742188 1.375 -5.515625 C 2.226562 -5.078125 2.65625 -4.25 2.65625 -3.03125 C 2.65625 -2.351562 2.503906 -1.785156 2.203125 -1.328125 C 1.898438 -0.867188 1.425781 -0.609375 0.78125 -0.546875 L 0.78125 -1.625 C 1.0625 -1.675781 1.28125 -1.773438 1.4375 -1.921875 C 1.664062 -2.160156 1.78125 -2.535156 1.78125 -3.046875 C 1.78125 -3.859375 1.492188 -4.390625 0.921875 -4.640625 C 0.585938 -4.785156 -0.0078125 -4.851562 -0.875 -4.84375 C -0.550781 -4.632812 -0.3125 -4.378906 -0.15625 -4.078125 C 0 -3.785156 0.078125 -3.394531 0.078125 -2.90625 C 0.078125 -2.226562 -0.160156 -1.632812 -0.640625 -1.125 C -1.128906 -0.613281 -1.929688 -0.359375 -3.046875 -0.359375 C -4.097656 -0.359375 -4.914062 -0.613281 -5.5 -1.125 C -6.09375 -1.644531 -6.390625 -2.265625 -6.390625 -2.984375 Z M -3.171875 -4.890625 C -3.941406 -4.890625 -4.515625 -4.726562 -4.890625 -4.40625 C -5.265625 -4.082031 -5.453125 -3.675781 -5.453125 -3.1875 C -5.453125 -2.4375 -5.101562 -1.925781 -4.40625 -1.65625 C -4.039062 -1.507812 -3.554688 -1.4375 -2.953125 -1.4375 C -2.242188 -1.4375 -1.703125 -1.578125 -1.328125 -1.859375 C -0.960938 -2.148438 -0.78125 -2.539062 -0.78125 -3.03125 C -0.78125 -3.789062 -1.125 -4.320312 -1.8125 -4.625 C -2.195312 -4.800781 -2.648438 -4.890625 -3.171875 -4.890625 Z M -6.421875 -3.109375 Z M -6.421875 -3.109375 \"/>\n",
       "</symbol>\n",
       "<symbol overflow=\"visible\" id=\"glyph2-4\">\n",
       "<path style=\"stroke:none;\" d=\"M -5.9375 -1.15625 L -6.75 -1.15625 C -6.820312 -1.914062 -6.945312 -2.441406 -7.125 -2.734375 C -7.300781 -3.035156 -7.710938 -3.265625 -8.359375 -3.421875 L -8.359375 -4.25 L 0 -4.25 L 0 -3.125 L -5.9375 -3.125 Z M -5.9375 -1.15625 \"/>\n",
       "</symbol>\n",
       "<symbol overflow=\"visible\" id=\"glyph2-5\">\n",
       "<path style=\"stroke:none;\" d=\"M -0.703125 -3.421875 C -0.703125 -3.910156 -0.910156 -4.316406 -1.328125 -4.640625 C -1.742188 -4.972656 -2.359375 -5.140625 -3.171875 -5.140625 C -3.671875 -5.140625 -4.101562 -5.066406 -4.46875 -4.921875 C -5.15625 -4.648438 -5.5 -4.148438 -5.5 -3.421875 C -5.5 -2.691406 -5.132812 -2.191406 -4.40625 -1.921875 C -4.019531 -1.773438 -3.523438 -1.703125 -2.921875 -1.703125 C -2.429688 -1.703125 -2.019531 -1.773438 -1.6875 -1.921875 C -1.03125 -2.191406 -0.703125 -2.691406 -0.703125 -3.421875 Z M -6.25 -0.6875 L -6.25 -1.71875 L -5.421875 -1.71875 C -5.703125 -1.925781 -5.921875 -2.15625 -6.078125 -2.40625 C -6.304688 -2.757812 -6.421875 -3.175781 -6.421875 -3.65625 C -6.421875 -4.375 -6.148438 -4.976562 -5.609375 -5.46875 C -5.066406 -5.96875 -4.289062 -6.21875 -3.28125 -6.21875 C -1.90625 -6.21875 -0.925781 -5.859375 -0.34375 -5.140625 C 0.03125 -4.691406 0.21875 -4.164062 0.21875 -3.5625 C 0.21875 -3.09375 0.113281 -2.695312 -0.09375 -2.375 C -0.21875 -2.1875 -0.421875 -1.976562 -0.703125 -1.75 L 2.5 -1.75 L 2.5 -0.6875 Z M -6.25 -0.6875 \"/>\n",
       "</symbol>\n",
       "<symbol overflow=\"visible\" id=\"glyph2-6\">\n",
       "<path style=\"stroke:none;\" d=\"M -8.75 -3.546875 C -7.5625 -2.929688 -6.6875 -2.535156 -6.125 -2.359375 C -5.257812 -2.078125 -4.269531 -1.9375 -3.15625 -1.9375 C -2.019531 -1.9375 -0.984375 -2.097656 -0.046875 -2.421875 C 0.535156 -2.609375 1.367188 -2.988281 2.453125 -3.5625 L 2.453125 -2.859375 C 1.554688 -2.285156 0.984375 -1.929688 0.734375 -1.796875 C 0.492188 -1.660156 0.160156 -1.515625 -0.265625 -1.359375 C -0.835938 -1.140625 -1.453125 -0.984375 -2.109375 -0.890625 C -2.453125 -0.847656 -2.773438 -0.828125 -3.078125 -0.828125 C -4.234375 -0.828125 -5.265625 -1.007812 -6.171875 -1.375 C -6.742188 -1.601562 -7.601562 -2.082031 -8.75 -2.8125 Z M -8.75 -3.546875 \"/>\n",
       "</symbol>\n",
       "<symbol overflow=\"visible\" id=\"glyph2-7\">\n",
       "<path style=\"stroke:none;\" d=\"M -6.25 -0.78125 L -6.25 -1.84375 L 0 -1.84375 L 0 -0.78125 Z M -8.609375 -0.78125 L -8.609375 -1.84375 L -7.40625 -1.84375 L -7.40625 -0.78125 Z M -8.609375 -0.78125 \"/>\n",
       "</symbol>\n",
       "<symbol overflow=\"visible\" id=\"glyph2-8\">\n",
       "<path style=\"stroke:none;\" d=\"M -8.609375 -0.75 L -8.609375 -1.765625 L -3.609375 -1.765625 L -6.28125 -4.46875 L -6.28125 -5.8125 L -3.921875 -3.421875 L 0 -5.953125 L 0 -4.609375 L -3.171875 -2.65625 L -2.359375 -1.765625 L 0 -1.765625 L 0 -0.75 Z M -8.609375 -0.75 \"/>\n",
       "</symbol>\n",
       "<symbol overflow=\"visible\" id=\"glyph2-9\">\n",
       "<path style=\"stroke:none;\" d=\"M -6.421875 -3.390625 C -6.421875 -3.835938 -6.316406 -4.269531 -6.109375 -4.6875 C -5.898438 -5.101562 -5.628906 -5.421875 -5.296875 -5.640625 C -4.972656 -5.847656 -4.601562 -5.988281 -4.1875 -6.0625 C -3.894531 -6.125 -3.429688 -6.15625 -2.796875 -6.15625 L -2.796875 -1.546875 C -2.160156 -1.566406 -1.648438 -1.71875 -1.265625 -2 C -0.878906 -2.28125 -0.6875 -2.71875 -0.6875 -3.3125 C -0.6875 -3.863281 -0.867188 -4.300781 -1.234375 -4.625 C -1.441406 -4.8125 -1.6875 -4.945312 -1.96875 -5.03125 L -1.96875 -6.0625 C -1.738281 -6.039062 -1.484375 -5.953125 -1.203125 -5.796875 C -0.921875 -5.640625 -0.6875 -5.46875 -0.5 -5.28125 C -0.1875 -4.957031 0.0195312 -4.554688 0.125 -4.078125 C 0.1875 -3.828125 0.21875 -3.539062 0.21875 -3.21875 C 0.21875 -2.4375 -0.0625 -1.773438 -0.625 -1.234375 C -1.195312 -0.691406 -1.992188 -0.421875 -3.015625 -0.421875 C -4.023438 -0.421875 -4.84375 -0.691406 -5.46875 -1.234375 C -6.101562 -1.785156 -6.421875 -2.503906 -6.421875 -3.390625 Z M -3.640625 -5.0625 C -4.097656 -5.019531 -4.460938 -4.921875 -4.734375 -4.765625 C -5.242188 -4.484375 -5.5 -4.003906 -5.5 -3.328125 C -5.5 -2.835938 -5.320312 -2.425781 -4.96875 -2.09375 C -4.625 -1.769531 -4.179688 -1.597656 -3.640625 -1.578125 Z M -6.421875 -3.28125 Z M -6.421875 -3.28125 \"/>\n",
       "</symbol>\n",
       "<symbol overflow=\"visible\" id=\"glyph2-10\">\n",
       "<path style=\"stroke:none;\" d=\"M -1.96875 -1.40625 C -1.613281 -1.4375 -1.34375 -1.523438 -1.15625 -1.671875 C -0.820312 -1.929688 -0.65625 -2.390625 -0.65625 -3.046875 C -0.65625 -3.441406 -0.738281 -3.785156 -0.90625 -4.078125 C -1.070312 -4.378906 -1.332031 -4.53125 -1.6875 -4.53125 C -1.957031 -4.53125 -2.164062 -4.410156 -2.3125 -4.171875 C -2.394531 -4.015625 -2.492188 -3.710938 -2.609375 -3.265625 L -2.8125 -2.421875 C -2.945312 -1.890625 -3.097656 -1.5 -3.265625 -1.25 C -3.546875 -0.789062 -3.941406 -0.5625 -4.453125 -0.5625 C -5.046875 -0.5625 -5.523438 -0.773438 -5.890625 -1.203125 C -6.253906 -1.628906 -6.4375 -2.207031 -6.4375 -2.9375 C -6.4375 -3.875 -6.160156 -4.550781 -5.609375 -4.96875 C -5.253906 -5.238281 -4.875 -5.367188 -4.46875 -5.359375 L -4.46875 -4.359375 C -4.707031 -4.335938 -4.925781 -4.253906 -5.125 -4.109375 C -5.394531 -3.867188 -5.53125 -3.445312 -5.53125 -2.84375 C -5.53125 -2.445312 -5.453125 -2.144531 -5.296875 -1.9375 C -5.148438 -1.738281 -4.953125 -1.640625 -4.703125 -1.640625 C -4.429688 -1.640625 -4.210938 -1.773438 -4.046875 -2.046875 C -3.953125 -2.203125 -3.867188 -2.429688 -3.796875 -2.734375 L -3.625 -3.421875 C -3.4375 -4.179688 -3.257812 -4.691406 -3.09375 -4.953125 C -2.820312 -5.359375 -2.394531 -5.5625 -1.8125 -5.5625 C -1.257812 -5.5625 -0.78125 -5.347656 -0.375 -4.921875 C 0.03125 -4.503906 0.234375 -3.863281 0.234375 -3 C 0.234375 -2.0625 0.0234375 -1.394531 -0.390625 -1 C -0.816406 -0.613281 -1.34375 -0.410156 -1.96875 -0.390625 Z M -6.421875 -2.953125 Z M -6.421875 -2.953125 \"/>\n",
       "</symbol>\n",
       "<symbol overflow=\"visible\" id=\"glyph2-11\">\n",
       "<path style=\"stroke:none;\" d=\"M 2.453125 -0.421875 C 1.242188 -1.035156 0.359375 -1.4375 -0.203125 -1.625 C -1.035156 -1.894531 -2.019531 -2.03125 -3.15625 -2.03125 C -4.28125 -2.03125 -5.3125 -1.867188 -6.25 -1.546875 C -6.832031 -1.359375 -7.664062 -0.976562 -8.75 -0.40625 L -8.75 -1.109375 C -7.789062 -1.710938 -7.195312 -2.078125 -6.96875 -2.203125 C -6.75 -2.328125 -6.441406 -2.460938 -6.046875 -2.609375 C -5.554688 -2.796875 -5.070312 -2.929688 -4.59375 -3.015625 C -4.113281 -3.097656 -3.65625 -3.140625 -3.21875 -3.140625 C -2.0625 -3.140625 -1.03125 -2.953125 -0.125 -2.578125 C 0.457031 -2.347656 1.316406 -1.875 2.453125 -1.15625 Z M 2.453125 -0.421875 \"/>\n",
       "</symbol>\n",
       "</g>\n",
       "<clipPath id=\"clip1\">\n",
       "  <path d=\"M 35.429688 14.398438 L 418 14.398438 L 418 252 L 35.429688 252 Z M 35.429688 14.398438 \"/>\n",
       "</clipPath>\n",
       "<clipPath id=\"clip2\">\n",
       "  <path d=\"M 35.429688 209 L 418.597656 209 L 418.597656 211 L 35.429688 211 Z M 35.429688 209 \"/>\n",
       "</clipPath>\n",
       "<clipPath id=\"clip3\">\n",
       "  <path d=\"M 35.429688 163 L 418.597656 163 L 418.597656 165 L 35.429688 165 Z M 35.429688 163 \"/>\n",
       "</clipPath>\n",
       "<clipPath id=\"clip4\">\n",
       "  <path d=\"M 35.429688 117 L 418.597656 117 L 418.597656 120 L 35.429688 120 Z M 35.429688 117 \"/>\n",
       "</clipPath>\n",
       "<clipPath id=\"clip5\">\n",
       "  <path d=\"M 35.429688 72 L 418.597656 72 L 418.597656 74 L 35.429688 74 Z M 35.429688 72 \"/>\n",
       "</clipPath>\n",
       "<clipPath id=\"clip6\">\n",
       "  <path d=\"M 35.429688 26 L 418.597656 26 L 418.597656 28 L 35.429688 28 Z M 35.429688 26 \"/>\n",
       "</clipPath>\n",
       "<clipPath id=\"clip7\">\n",
       "  <path d=\"M 95 14.398438 L 98 14.398438 L 98 252 L 95 252 Z M 95 14.398438 \"/>\n",
       "</clipPath>\n",
       "<clipPath id=\"clip8\">\n",
       "  <path d=\"M 183 14.398438 L 185 14.398438 L 185 252 L 183 252 Z M 183 14.398438 \"/>\n",
       "</clipPath>\n",
       "<clipPath id=\"clip9\">\n",
       "  <path d=\"M 270 14.398438 L 272 14.398438 L 272 252 L 270 252 Z M 270 14.398438 \"/>\n",
       "</clipPath>\n",
       "<clipPath id=\"clip10\">\n",
       "  <path d=\"M 358 14.398438 L 360 14.398438 L 360 252 L 358 252 Z M 358 14.398438 \"/>\n",
       "</clipPath>\n",
       "<clipPath id=\"clip11\">\n",
       "  <path d=\"M 35.429688 232 L 418 232 L 418 233 L 35.429688 233 Z M 35.429688 232 \"/>\n",
       "</clipPath>\n",
       "<clipPath id=\"clip12\">\n",
       "  <path d=\"M 35.429688 186 L 418 186 L 418 188 L 35.429688 188 Z M 35.429688 186 \"/>\n",
       "</clipPath>\n",
       "<clipPath id=\"clip13\">\n",
       "  <path d=\"M 35.429688 141 L 418 141 L 418 142 L 35.429688 142 Z M 35.429688 141 \"/>\n",
       "</clipPath>\n",
       "<clipPath id=\"clip14\">\n",
       "  <path d=\"M 35.429688 95 L 418 95 L 418 96 L 35.429688 96 Z M 35.429688 95 \"/>\n",
       "</clipPath>\n",
       "<clipPath id=\"clip15\">\n",
       "  <path d=\"M 35.429688 49 L 418 49 L 418 51 L 35.429688 51 Z M 35.429688 49 \"/>\n",
       "</clipPath>\n",
       "<clipPath id=\"clip16\">\n",
       "  <path d=\"M 52 14.398438 L 54 14.398438 L 54 252 L 52 252 Z M 52 14.398438 \"/>\n",
       "</clipPath>\n",
       "<clipPath id=\"clip17\">\n",
       "  <path d=\"M 140 14.398438 L 141 14.398438 L 141 252 L 140 252 Z M 140 14.398438 \"/>\n",
       "</clipPath>\n",
       "<clipPath id=\"clip18\">\n",
       "  <path d=\"M 227 14.398438 L 228 14.398438 L 228 252 L 227 252 Z M 227 14.398438 \"/>\n",
       "</clipPath>\n",
       "<clipPath id=\"clip19\">\n",
       "  <path d=\"M 314 14.398438 L 316 14.398438 L 316 252 L 314 252 Z M 314 14.398438 \"/>\n",
       "</clipPath>\n",
       "<clipPath id=\"clip20\">\n",
       "  <path d=\"M 402 14.398438 L 403 14.398438 L 403 252 L 402 252 Z M 402 14.398438 \"/>\n",
       "</clipPath>\n",
       "<clipPath id=\"clip21\">\n",
       "  <path d=\"M 35.429688 14.398438 L 418.597656 14.398438 L 418.597656 252 L 35.429688 252 Z M 35.429688 14.398438 \"/>\n",
       "</clipPath>\n",
       "</defs>\n",
       "<g id=\"surface26\">\n",
       "<rect x=\"0\" y=\"0\" width=\"432\" height=\"288\" style=\"fill:rgb(100%,100%,100%);fill-opacity:1;stroke:none;\"/>\n",
       "<rect x=\"0\" y=\"0\" width=\"432\" height=\"288\" style=\"fill:rgb(100%,100%,100%);fill-opacity:1;stroke:none;\"/>\n",
       "<path style=\"fill:none;stroke-width:1.062992;stroke-linecap:round;stroke-linejoin:round;stroke:rgb(100%,100%,100%);stroke-opacity:1;stroke-miterlimit:10;\" d=\"M 0 288 L 432 288 L 432 0 L 0 0 Z M 0 288 \"/>\n",
       "<g clip-path=\"url(#clip1)\" clip-rule=\"nonzero\">\n",
       "<path style=\" stroke:none;fill-rule:nonzero;fill:rgb(100%,100%,100%);fill-opacity:1;\" d=\"M 35.429688 251.027344 L 417.597656 251.027344 L 417.597656 14.398438 L 35.429688 14.398438 Z M 35.429688 251.027344 \"/>\n",
       "</g>\n",
       "<g clip-path=\"url(#clip2)\" clip-rule=\"nonzero\">\n",
       "<path style=\"fill:none;stroke-width:1.062992;stroke-linecap:butt;stroke-linejoin:round;stroke:rgb(98.039216%,98.039216%,98.039216%);stroke-opacity:1;stroke-miterlimit:10;\" d=\"M 35.429688 209.675781 L 417.601562 209.675781 \"/>\n",
       "</g>\n",
       "<g clip-path=\"url(#clip3)\" clip-rule=\"nonzero\">\n",
       "<path style=\"fill:none;stroke-width:1.062992;stroke-linecap:butt;stroke-linejoin:round;stroke:rgb(98.039216%,98.039216%,98.039216%);stroke-opacity:1;stroke-miterlimit:10;\" d=\"M 35.429688 164.101562 L 417.601562 164.101562 \"/>\n",
       "</g>\n",
       "<g clip-path=\"url(#clip4)\" clip-rule=\"nonzero\">\n",
       "<path style=\"fill:none;stroke-width:1.062992;stroke-linecap:butt;stroke-linejoin:round;stroke:rgb(98.039216%,98.039216%,98.039216%);stroke-opacity:1;stroke-miterlimit:10;\" d=\"M 35.429688 118.527344 L 417.601562 118.527344 \"/>\n",
       "</g>\n",
       "<g clip-path=\"url(#clip5)\" clip-rule=\"nonzero\">\n",
       "<path style=\"fill:none;stroke-width:1.062992;stroke-linecap:butt;stroke-linejoin:round;stroke:rgb(98.039216%,98.039216%,98.039216%);stroke-opacity:1;stroke-miterlimit:10;\" d=\"M 35.429688 72.949219 L 417.601562 72.949219 \"/>\n",
       "</g>\n",
       "<g clip-path=\"url(#clip6)\" clip-rule=\"nonzero\">\n",
       "<path style=\"fill:none;stroke-width:1.062992;stroke-linecap:butt;stroke-linejoin:round;stroke:rgb(98.039216%,98.039216%,98.039216%);stroke-opacity:1;stroke-miterlimit:10;\" d=\"M 35.429688 27.375 L 417.601562 27.375 \"/>\n",
       "</g>\n",
       "<g clip-path=\"url(#clip7)\" clip-rule=\"nonzero\">\n",
       "<path style=\"fill:none;stroke-width:1.062992;stroke-linecap:butt;stroke-linejoin:round;stroke:rgb(98.039216%,98.039216%,98.039216%);stroke-opacity:1;stroke-miterlimit:10;\" d=\"M 96.527344 251.027344 L 96.527344 14.398438 \"/>\n",
       "</g>\n",
       "<g clip-path=\"url(#clip8)\" clip-rule=\"nonzero\">\n",
       "<path style=\"fill:none;stroke-width:1.062992;stroke-linecap:butt;stroke-linejoin:round;stroke:rgb(98.039216%,98.039216%,98.039216%);stroke-opacity:1;stroke-miterlimit:10;\" d=\"M 183.980469 251.027344 L 183.980469 14.398438 \"/>\n",
       "</g>\n",
       "<g clip-path=\"url(#clip9)\" clip-rule=\"nonzero\">\n",
       "<path style=\"fill:none;stroke-width:1.062992;stroke-linecap:butt;stroke-linejoin:round;stroke:rgb(98.039216%,98.039216%,98.039216%);stroke-opacity:1;stroke-miterlimit:10;\" d=\"M 271.433594 251.027344 L 271.433594 14.398438 \"/>\n",
       "</g>\n",
       "<g clip-path=\"url(#clip10)\" clip-rule=\"nonzero\">\n",
       "<path style=\"fill:none;stroke-width:1.062992;stroke-linecap:butt;stroke-linejoin:round;stroke:rgb(98.039216%,98.039216%,98.039216%);stroke-opacity:1;stroke-miterlimit:10;\" d=\"M 358.882812 251.027344 L 358.882812 14.398438 \"/>\n",
       "</g>\n",
       "<g clip-path=\"url(#clip11)\" clip-rule=\"nonzero\">\n",
       "<path style=\"fill:none;stroke-width:0.425197;stroke-linecap:butt;stroke-linejoin:round;stroke:rgb(89.803922%,89.803922%,89.803922%);stroke-opacity:1;stroke-miterlimit:10;\" d=\"M 35.429688 232.464844 L 417.601562 232.464844 \"/>\n",
       "</g>\n",
       "<g clip-path=\"url(#clip12)\" clip-rule=\"nonzero\">\n",
       "<path style=\"fill:none;stroke-width:0.425197;stroke-linecap:butt;stroke-linejoin:round;stroke:rgb(89.803922%,89.803922%,89.803922%);stroke-opacity:1;stroke-miterlimit:10;\" d=\"M 35.429688 186.890625 L 417.601562 186.890625 \"/>\n",
       "</g>\n",
       "<g clip-path=\"url(#clip13)\" clip-rule=\"nonzero\">\n",
       "<path style=\"fill:none;stroke-width:0.425197;stroke-linecap:butt;stroke-linejoin:round;stroke:rgb(89.803922%,89.803922%,89.803922%);stroke-opacity:1;stroke-miterlimit:10;\" d=\"M 35.429688 141.3125 L 417.601562 141.3125 \"/>\n",
       "</g>\n",
       "<g clip-path=\"url(#clip14)\" clip-rule=\"nonzero\">\n",
       "<path style=\"fill:none;stroke-width:0.425197;stroke-linecap:butt;stroke-linejoin:round;stroke:rgb(89.803922%,89.803922%,89.803922%);stroke-opacity:1;stroke-miterlimit:10;\" d=\"M 35.429688 95.738281 L 417.601562 95.738281 \"/>\n",
       "</g>\n",
       "<g clip-path=\"url(#clip15)\" clip-rule=\"nonzero\">\n",
       "<path style=\"fill:none;stroke-width:0.425197;stroke-linecap:butt;stroke-linejoin:round;stroke:rgb(89.803922%,89.803922%,89.803922%);stroke-opacity:1;stroke-miterlimit:10;\" d=\"M 35.429688 50.164062 L 417.601562 50.164062 \"/>\n",
       "</g>\n",
       "<g clip-path=\"url(#clip16)\" clip-rule=\"nonzero\">\n",
       "<path style=\"fill:none;stroke-width:0.425197;stroke-linecap:butt;stroke-linejoin:round;stroke:rgb(89.803922%,89.803922%,89.803922%);stroke-opacity:1;stroke-miterlimit:10;\" d=\"M 52.804688 251.027344 L 52.804688 14.398438 \"/>\n",
       "</g>\n",
       "<g clip-path=\"url(#clip17)\" clip-rule=\"nonzero\">\n",
       "<path style=\"fill:none;stroke-width:0.425197;stroke-linecap:butt;stroke-linejoin:round;stroke:rgb(89.803922%,89.803922%,89.803922%);stroke-opacity:1;stroke-miterlimit:10;\" d=\"M 140.253906 251.027344 L 140.253906 14.398438 \"/>\n",
       "</g>\n",
       "<g clip-path=\"url(#clip18)\" clip-rule=\"nonzero\">\n",
       "<path style=\"fill:none;stroke-width:0.425197;stroke-linecap:butt;stroke-linejoin:round;stroke:rgb(89.803922%,89.803922%,89.803922%);stroke-opacity:1;stroke-miterlimit:10;\" d=\"M 227.707031 251.027344 L 227.707031 14.398438 \"/>\n",
       "</g>\n",
       "<g clip-path=\"url(#clip19)\" clip-rule=\"nonzero\">\n",
       "<path style=\"fill:none;stroke-width:0.425197;stroke-linecap:butt;stroke-linejoin:round;stroke:rgb(89.803922%,89.803922%,89.803922%);stroke-opacity:1;stroke-miterlimit:10;\" d=\"M 315.15625 251.027344 L 315.15625 14.398438 \"/>\n",
       "</g>\n",
       "<g clip-path=\"url(#clip20)\" clip-rule=\"nonzero\">\n",
       "<path style=\"fill:none;stroke-width:0.425197;stroke-linecap:butt;stroke-linejoin:round;stroke:rgb(89.803922%,89.803922%,89.803922%);stroke-opacity:1;stroke-miterlimit:10;\" d=\"M 402.609375 251.027344 L 402.609375 14.398438 \"/>\n",
       "</g>\n",
       "<path style=\" stroke:none;fill-rule:nonzero;fill:rgb(60%,60%,60%);fill-opacity:0.4;\" d=\"M 52.804688 175.625 L 57.199219 174.308594 L 61.597656 172.992188 L 79.191406 167.710938 L 83.585938 166.386719 L 105.578125 159.765625 L 109.972656 158.441406 L 114.371094 157.121094 L 127.566406 153.148438 L 131.964844 151.820312 L 136.359375 150.496094 L 145.15625 147.839844 L 153.953125 145.175781 L 158.351562 143.835938 L 162.746094 142.496094 L 171.542969 139.800781 L 180.339844 137.089844 L 184.738281 135.730469 L 189.132812 134.375 L 193.53125 133.019531 L 197.929688 131.675781 L 202.328125 130.347656 L 206.726562 129.039062 L 211.125 127.761719 L 215.519531 126.519531 L 219.917969 125.324219 L 224.316406 124.179688 L 228.714844 123.09375 L 233.113281 122.074219 L 237.511719 121.128906 L 241.90625 120.265625 L 246.304688 119.484375 L 250.703125 118.789062 L 255.101562 118.1875 L 259.5 117.675781 L 263.898438 117.257812 L 268.292969 116.925781 L 272.691406 116.675781 L 277.089844 116.496094 L 281.488281 116.363281 L 285.886719 116.246094 L 290.285156 116.097656 L 294.679688 115.859375 L 299.078125 115.527344 L 303.476562 115.105469 L 307.875 114.59375 L 312.273438 113.957031 L 316.671875 113.082031 L 321.070312 111.78125 L 325.464844 109.984375 L 329.863281 107.859375 L 334.261719 105.574219 L 338.660156 102.996094 L 343.058594 100.015625 L 347.457031 96.761719 L 351.851562 93.160156 L 356.25 89.15625 L 360.648438 84.777344 L 365.046875 79.957031 L 369.445312 74.730469 L 373.84375 69.019531 L 378.238281 62.824219 L 382.636719 56.113281 L 387.035156 48.980469 L 391.433594 41.410156 L 395.832031 33.429688 L 400.230469 25.15625 L 400.230469 57.664062 L 395.832031 60.460938 L 391.433594 63.542969 L 387.035156 67.011719 L 382.636719 70.886719 L 378.238281 75.136719 L 373.84375 79.761719 L 369.445312 84.550781 L 365.046875 89.328125 L 360.648438 93.835938 L 356.25 97.992188 L 351.851562 101.664062 L 347.457031 104.910156 L 343.058594 107.773438 L 338.660156 110.253906 L 334.261719 112.535156 L 329.863281 114.558594 L 325.464844 116.203125 L 321.070312 117.617188 L 316.671875 118.945312 L 312.273438 120.105469 L 307.875 120.949219 L 303.476562 121.46875 L 299.078125 121.753906 L 294.679688 121.90625 L 290.285156 122.050781 L 285.886719 122.289062 L 281.488281 122.675781 L 277.089844 123.210938 L 272.691406 123.851562 L 268.292969 124.585938 L 263.898438 125.386719 L 259.5 126.253906 L 255.101562 127.171875 L 250.703125 128.144531 L 246.304688 129.167969 L 241.90625 130.238281 L 237.511719 131.359375 L 233.113281 132.535156 L 228.714844 133.761719 L 224.316406 135.046875 L 219.917969 136.398438 L 215.519531 137.8125 L 211.125 139.296875 L 206.726562 140.859375 L 202.328125 142.503906 L 197.929688 144.230469 L 193.53125 146.042969 L 189.132812 147.949219 L 184.738281 149.949219 L 180.339844 152.039062 L 175.941406 154.222656 L 171.542969 156.496094 L 167.144531 158.859375 L 162.746094 161.308594 L 158.351562 163.835938 L 153.953125 166.445312 L 149.554688 169.128906 L 145.15625 171.886719 L 140.757812 174.707031 L 136.359375 177.597656 L 131.964844 180.546875 L 127.566406 183.550781 L 123.167969 186.609375 L 118.769531 189.71875 L 114.371094 192.878906 L 109.972656 196.078125 L 105.578125 199.320312 L 101.179688 202.597656 L 96.78125 205.910156 L 92.382812 209.253906 L 87.984375 212.628906 L 83.585938 216.023438 L 79.191406 219.445312 L 74.792969 222.882812 L 70.394531 226.339844 L 65.996094 229.808594 L 61.597656 233.289062 L 57.199219 236.78125 L 52.804688 240.273438 Z M 52.804688 175.625 \"/>\n",
       "<path style=\"fill:none;stroke-width:1.062992;stroke-linecap:butt;stroke-linejoin:round;stroke:rgb(20%,40%,100%);stroke-opacity:1;stroke-miterlimit:1;\" d=\"M 52.804688 207.949219 L 57.199219 205.542969 L 61.597656 203.140625 L 65.996094 200.742188 L 70.394531 198.347656 L 74.792969 195.957031 L 79.191406 193.578125 L 83.585938 191.207031 L 87.984375 188.84375 L 92.382812 186.496094 L 96.78125 184.164062 L 101.179688 181.84375 L 105.578125 179.542969 L 109.972656 177.261719 L 114.371094 175 L 118.769531 172.757812 L 123.167969 170.542969 L 127.566406 168.347656 L 131.964844 166.183594 L 136.359375 164.046875 L 140.757812 161.9375 L 145.15625 159.863281 L 149.554688 157.820312 L 153.953125 155.808594 L 158.351562 153.835938 L 162.746094 151.902344 L 167.144531 150.003906 L 171.542969 148.148438 L 175.941406 146.335938 L 180.339844 144.566406 L 184.738281 142.839844 L 189.132812 141.160156 L 193.53125 139.53125 L 197.929688 137.953125 L 202.328125 136.425781 L 206.726562 134.949219 L 211.125 133.53125 L 215.519531 132.167969 L 219.917969 130.859375 L 224.316406 129.613281 L 228.714844 128.425781 L 233.113281 127.304688 L 237.511719 126.246094 L 241.90625 125.25 L 246.304688 124.324219 L 250.703125 123.46875 L 255.101562 122.679688 L 259.5 121.964844 L 263.898438 121.320312 L 268.292969 120.753906 L 272.691406 120.265625 L 277.089844 119.851562 L 281.488281 119.519531 L 285.886719 119.265625 L 290.285156 119.074219 L 294.679688 118.882812 L 299.078125 118.640625 L 303.476562 118.289062 L 307.875 117.769531 L 312.273438 117.03125 L 316.671875 116.015625 L 321.070312 114.699219 L 325.464844 113.09375 L 329.863281 111.210938 L 334.261719 109.054688 L 338.660156 106.625 L 343.058594 103.894531 L 347.457031 100.835938 L 351.851562 97.410156 L 356.25 93.574219 L 360.648438 89.304688 L 365.046875 84.644531 L 369.445312 79.640625 L 373.84375 74.390625 L 378.238281 68.980469 L 382.636719 63.5 L 387.035156 57.996094 L 391.433594 52.476562 L 395.832031 46.945312 L 400.230469 41.410156 \"/>\n",
       "<g clip-path=\"url(#clip21)\" clip-rule=\"nonzero\">\n",
       "<path style=\"fill:none;stroke-width:1.062992;stroke-linecap:round;stroke-linejoin:round;stroke:rgb(49.803922%,49.803922%,49.803922%);stroke-opacity:1;stroke-miterlimit:10;\" d=\"M 35.429688 251.027344 L 417.597656 251.027344 L 417.597656 14.398438 L 35.429688 14.398438 Z M 35.429688 251.027344 \"/>\n",
       "</g>\n",
       "<g style=\"fill:rgb(0%,0%,0%);fill-opacity:1;\">\n",
       "  <use xlink:href=\"#glyph0-1\" x=\"23.007812\" y=\"235.902344\"/>\n",
       "</g>\n",
       "<g style=\"fill:rgb(0%,0%,0%);fill-opacity:1;\">\n",
       "  <use xlink:href=\"#glyph0-2\" x=\"23.007812\" y=\"190.328125\"/>\n",
       "</g>\n",
       "<g style=\"fill:rgb(0%,0%,0%);fill-opacity:1;\">\n",
       "  <use xlink:href=\"#glyph0-3\" x=\"23.007812\" y=\"144.75\"/>\n",
       "</g>\n",
       "<g style=\"fill:rgb(0%,0%,0%);fill-opacity:1;\">\n",
       "  <use xlink:href=\"#glyph0-4\" x=\"23.007812\" y=\"99.175781\"/>\n",
       "</g>\n",
       "<g style=\"fill:rgb(0%,0%,0%);fill-opacity:1;\">\n",
       "  <use xlink:href=\"#glyph0-5\" x=\"23.007812\" y=\"53.601562\"/>\n",
       "</g>\n",
       "<path style=\"fill:none;stroke-width:1.062992;stroke-linecap:butt;stroke-linejoin:round;stroke:rgb(0%,0%,0%);stroke-opacity:1;stroke-miterlimit:10;\" d=\"M 31.179688 232.464844 L 35.429688 232.464844 \"/>\n",
       "<path style=\"fill:none;stroke-width:1.062992;stroke-linecap:butt;stroke-linejoin:round;stroke:rgb(0%,0%,0%);stroke-opacity:1;stroke-miterlimit:10;\" d=\"M 31.179688 186.890625 L 35.429688 186.890625 \"/>\n",
       "<path style=\"fill:none;stroke-width:1.062992;stroke-linecap:butt;stroke-linejoin:round;stroke:rgb(0%,0%,0%);stroke-opacity:1;stroke-miterlimit:10;\" d=\"M 31.179688 141.3125 L 35.429688 141.3125 \"/>\n",
       "<path style=\"fill:none;stroke-width:1.062992;stroke-linecap:butt;stroke-linejoin:round;stroke:rgb(0%,0%,0%);stroke-opacity:1;stroke-miterlimit:10;\" d=\"M 31.179688 95.738281 L 35.429688 95.738281 \"/>\n",
       "<path style=\"fill:none;stroke-width:1.062992;stroke-linecap:butt;stroke-linejoin:round;stroke:rgb(0%,0%,0%);stroke-opacity:1;stroke-miterlimit:10;\" d=\"M 31.179688 50.164062 L 35.429688 50.164062 \"/>\n",
       "<path style=\"fill:none;stroke-width:1.062992;stroke-linecap:butt;stroke-linejoin:round;stroke:rgb(0%,0%,0%);stroke-opacity:1;stroke-miterlimit:10;\" d=\"M 52.804688 255.28125 L 52.804688 251.027344 \"/>\n",
       "<path style=\"fill:none;stroke-width:1.062992;stroke-linecap:butt;stroke-linejoin:round;stroke:rgb(0%,0%,0%);stroke-opacity:1;stroke-miterlimit:10;\" d=\"M 140.253906 255.28125 L 140.253906 251.027344 \"/>\n",
       "<path style=\"fill:none;stroke-width:1.062992;stroke-linecap:butt;stroke-linejoin:round;stroke:rgb(0%,0%,0%);stroke-opacity:1;stroke-miterlimit:10;\" d=\"M 227.707031 255.28125 L 227.707031 251.027344 \"/>\n",
       "<path style=\"fill:none;stroke-width:1.062992;stroke-linecap:butt;stroke-linejoin:round;stroke:rgb(0%,0%,0%);stroke-opacity:1;stroke-miterlimit:10;\" d=\"M 315.15625 255.28125 L 315.15625 251.027344 \"/>\n",
       "<path style=\"fill:none;stroke-width:1.062992;stroke-linecap:butt;stroke-linejoin:round;stroke:rgb(0%,0%,0%);stroke-opacity:1;stroke-miterlimit:10;\" d=\"M 402.609375 255.28125 L 402.609375 251.027344 \"/>\n",
       "<g style=\"fill:rgb(0%,0%,0%);fill-opacity:1;\">\n",
       "  <use xlink:href=\"#glyph0-1\" x=\"50.136719\" y=\"264.992188\"/>\n",
       "</g>\n",
       "<g style=\"fill:rgb(0%,0%,0%);fill-opacity:1;\">\n",
       "  <use xlink:href=\"#glyph0-3\" x=\"137.585938\" y=\"264.992188\"/>\n",
       "</g>\n",
       "<g style=\"fill:rgb(0%,0%,0%);fill-opacity:1;\">\n",
       "  <use xlink:href=\"#glyph0-5\" x=\"225.039062\" y=\"264.992188\"/>\n",
       "</g>\n",
       "<g style=\"fill:rgb(0%,0%,0%);fill-opacity:1;\">\n",
       "  <use xlink:href=\"#glyph0-6\" x=\"312.488281\" y=\"264.992188\"/>\n",
       "</g>\n",
       "<g style=\"fill:rgb(0%,0%,0%);fill-opacity:1;\">\n",
       "  <use xlink:href=\"#glyph0-7\" x=\"399.941406\" y=\"264.992188\"/>\n",
       "</g>\n",
       "<g style=\"fill:rgb(0%,0%,0%);fill-opacity:1;\">\n",
       "  <use xlink:href=\"#glyph1-1\" x=\"190.828125\" y=\"277.199219\"/>\n",
       "  <use xlink:href=\"#glyph1-2\" x=\"193.494141\" y=\"277.199219\"/>\n",
       "  <use xlink:href=\"#glyph1-3\" x=\"200.167969\" y=\"277.199219\"/>\n",
       "  <use xlink:href=\"#glyph1-4\" x=\"206.841797\" y=\"277.199219\"/>\n",
       "  <use xlink:href=\"#glyph1-5\" x=\"213.515625\" y=\"277.199219\"/>\n",
       "  <use xlink:href=\"#glyph1-6\" x=\"220.189453\" y=\"277.199219\"/>\n",
       "  <use xlink:href=\"#glyph1-7\" x=\"224.185547\" y=\"277.199219\"/>\n",
       "  <use xlink:href=\"#glyph1-8\" x=\"227.519531\" y=\"277.199219\"/>\n",
       "  <use xlink:href=\"#glyph1-9\" x=\"234.193359\" y=\"277.199219\"/>\n",
       "  <use xlink:href=\"#glyph1-10\" x=\"240.867188\" y=\"277.199219\"/>\n",
       "  <use xlink:href=\"#glyph1-11\" x=\"247.541016\" y=\"277.199219\"/>\n",
       "  <use xlink:href=\"#glyph1-8\" x=\"251.537109\" y=\"277.199219\"/>\n",
       "  <use xlink:href=\"#glyph1-12\" x=\"258.210938\" y=\"277.199219\"/>\n",
       "</g>\n",
       "<g style=\"fill:rgb(0%,0%,0%);fill-opacity:1;\">\n",
       "  <use xlink:href=\"#glyph2-1\" x=\"19.410156\" y=\"163.394531\"/>\n",
       "  <use xlink:href=\"#glyph2-2\" x=\"19.410156\" y=\"160.728516\"/>\n",
       "  <use xlink:href=\"#glyph2-3\" x=\"19.410156\" y=\"154.054688\"/>\n",
       "  <use xlink:href=\"#glyph2-4\" x=\"19.410156\" y=\"147.380859\"/>\n",
       "  <use xlink:href=\"#glyph2-5\" x=\"19.410156\" y=\"140.707031\"/>\n",
       "  <use xlink:href=\"#glyph2-6\" x=\"19.410156\" y=\"134.033203\"/>\n",
       "  <use xlink:href=\"#glyph2-1\" x=\"19.410156\" y=\"130.037109\"/>\n",
       "  <use xlink:href=\"#glyph2-7\" x=\"19.410156\" y=\"127.371094\"/>\n",
       "  <use xlink:href=\"#glyph2-8\" x=\"19.410156\" y=\"124.705078\"/>\n",
       "  <use xlink:href=\"#glyph2-9\" x=\"19.410156\" y=\"118.705078\"/>\n",
       "  <use xlink:href=\"#glyph2-10\" x=\"19.410156\" y=\"112.03125\"/>\n",
       "  <use xlink:href=\"#glyph2-11\" x=\"19.410156\" y=\"106.03125\"/>\n",
       "</g>\n",
       "</g>\n",
       "</svg>\n"
      ],
      "text/plain": [
       "plot without title"
      ]
     },
     "metadata": {
      "image/svg+xml": {
       "isolated": true
      }
     },
     "output_type": "display_data"
    }
   ],
   "source": [
    "ggplot(\n",
    "    aes(x = log1p(tenure), y = log1p(likes)),\n",
    "    data = ps\n",
    ") + \n",
    "geom_smooth()"
   ]
  },
  {
   "cell_type": "markdown",
   "metadata": {},
   "source": [
    "## Exercises\n",
    "Compare regression adjustment with post-stratification and blocking (ie pre-stratification).\n",
    "\n",
    "Conduct similar analysis of another data set."
   ]
  },
  {
   "cell_type": "code",
   "execution_count": null,
   "metadata": {
    "collapsed": true
   },
   "outputs": [],
   "source": []
  }
 ],
 "metadata": {
  "kernelspec": {
   "display_name": "R",
   "language": "R",
   "name": "ir"
  },
  "language_info": {
   "codemirror_mode": "r",
   "file_extension": ".r",
   "mimetype": "text/x-r-source",
   "name": "R",
   "pygments_lexer": "r",
   "version": "3.2.2"
  }
 },
 "nbformat": 4,
 "nbformat_minor": 0
}
