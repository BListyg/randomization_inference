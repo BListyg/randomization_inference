{
 "cells": [
  {
   "cell_type": "markdown",
   "metadata": {},
   "source": [
    "# Randomization inference\n",
    "This notebook illustrates Fisherian randomization inference."
   ]
  },
  {
   "cell_type": "code",
   "execution_count": 2,
   "metadata": {
    "collapsed": false
   },
   "outputs": [],
   "source": [
    "options(digits = 3)\n",
    "library(ggplot2)\n",
    "theme_set(theme_bw())\n",
    "options(repr.plot.width = 6)\n",
    "options(repr.plot.height = 4)\n",
    "\n",
    "library(icsw)\n",
    "library(foreach)\n",
    "\n",
    "\n"
   ]
  },
  {
   "cell_type": "markdown",
   "metadata": {},
   "source": [
    "We are going to analyze an experiment in which respondents were randomly assigned to be encouraged to view a particular debate before the U.S. Presidental Election in 1996. This is provided in the `icsw` package."
   ]
  },
  {
   "cell_type": "code",
   "execution_count": 4,
   "metadata": {
    "collapsed": false
   },
   "outputs": [
    {
     "data": {
      "text/html": [
       "<table>\n",
       "<thead><tr><th></th><th scope=col>partyid</th><th scope=col>pnintst</th><th scope=col>watchnat</th><th scope=col>educad</th><th scope=col>readnews</th><th scope=col>gender</th><th scope=col>income</th><th scope=col>white</th><th scope=col>infopro</th><th scope=col>support</th><th scope=col>watchpro</th><th scope=col>conditn</th></tr></thead>\n",
       "<tbody>\n",
       "\t<tr><th scope=row>63</th><td>2</td><td>4</td><td>7</td><td>11</td><td>7</td><td>0</td><td>11</td><td>1</td><td>2</td><td>0</td><td>0</td><td>0</td></tr>\n",
       "\t<tr><th scope=row>335</th><td>3</td><td>4</td><td>7</td><td>11</td><td>6</td><td>1</td><td>10</td><td>1</td><td>3</td><td>0</td><td>0</td><td>0</td></tr>\n",
       "\t<tr><th scope=row>179</th><td>4</td><td>3</td><td>6</td><td>13</td><td>5</td><td>0</td><td>5.9</td><td>1</td><td>3</td><td>NA</td><td>0</td><td>0</td></tr>\n",
       "\t<tr><th scope=row>363</th><td>7</td><td>3</td><td>7</td><td>11</td><td>7</td><td>1</td><td>6</td><td>1</td><td>3</td><td>0</td><td>0</td><td>0</td></tr>\n",
       "\t<tr><th scope=row>156</th><td>5</td><td>4</td><td>7</td><td>9</td><td>7</td><td>0</td><td>7</td><td>1</td><td>4</td><td>0</td><td>1</td><td>1</td></tr>\n",
       "\t<tr><th scope=row>319</th><td>1</td><td>4</td><td>7</td><td>11</td><td>7</td><td>1</td><td>6</td><td>1</td><td>4</td><td>1</td><td>0</td><td>0</td></tr>\n",
       "</tbody>\n",
       "</table>\n"
      ],
      "text/latex": [
       "\\begin{tabular}{r|llllllllllll}\n",
       "  & partyid & pnintst & watchnat & educad & readnews & gender & income & white & infopro & support & watchpro & conditn\\\\\n",
       "\\hline\n",
       "\t63 & 2 & 4 & 7 & 11 & 7 & 0 & 11 & 1 & 2 & 0 & 0 & 0\\\\\n",
       "\t335 & 3 & 4 & 7 & 11 & 6 & 1 & 10 & 1 & 3 & 0 & 0 & 0\\\\\n",
       "\t179 & 4 & 3 & 6 & 13 & 5 & 0 & 5.9 & 1 & 3 & NA & 0 & 0\\\\\n",
       "\t363 & 7 & 3 & 7 & 11 & 7 & 1 & 6 & 1 & 3 & 0 & 0 & 0\\\\\n",
       "\t156 & 5 & 4 & 7 & 9 & 7 & 0 & 7 & 1 & 4 & 0 & 1 & 1\\\\\n",
       "\t319 & 1 & 4 & 7 & 11 & 7 & 1 & 6 & 1 & 4 & 1 & 0 & 0\\\\\n",
       "\\end{tabular}\n"
      ],
      "text/plain": [
       "    partyid pnintst watchnat educad readnews gender income white infopro support watchpro conditn\n",
       "63        2       4        7     11        7      0   11.0     1       2       0        0       0\n",
       "335       3       4        7     11        6      1   10.0     1       3       0        0       0\n",
       "179       4       3        6     13        5      0    5.9     1       3      NA        0       0\n",
       "363       7       3        7     11        7      1    6.0     1       3       0        0       0\n",
       "156       5       4        7      9        7      0    7.0     1       4       0        1       1\n",
       "319       1       4        7     11        7      1    6.0     1       4       1        0       0"
      ]
     },
     "execution_count": 4,
     "metadata": {},
     "output_type": "execute_result"
    }
   ],
   "source": [
    "data(FoxDebate)\n",
    "head(FoxDebate[sample.int(507, 6),])"
   ]
  },
  {
   "cell_type": "code",
   "execution_count": 8,
   "metadata": {
    "collapsed": false
   },
   "outputs": [
    {
     "name": "stdout",
     "output_type": "stream",
     "text": [
      "'data.frame':\t507 obs. of  12 variables:\n",
      " $ partyid : num  1 2 7 1 2 2 7 7 6 2 ...\n",
      " $ pnintst : num  4 4 4 4 3 2 4 3 3 3 ...\n",
      " $ watchnat: num  4 6 7 6 6 6 7 1 6 6 ...\n",
      " $ educad  : num  11 9 11 11 11 6 12 12 11 11 ...\n",
      " $ readnews: num  2 7 7 7 7 7 7 6 1 6 ...\n",
      " $ gender  : num  0 0 1 1 0 0 0 1 1 0 ...\n",
      " $ income  : num  5 2 3 7 9 ...\n",
      " $ white   : num  1 1 1 1 1 1 0 1 1 0 ...\n",
      " $ infopro : num  4 3 3 3 4 4 3 2 3 2 ...\n",
      " $ support : num  1 1 NA 1 1 1 0 0 1 1 ...\n",
      " $ watchpro: int  0 1 1 1 0 0 0 0 0 0 ...\n",
      " $ conditn : int  1 1 1 1 0 1 1 0 0 1 ...\n"
     ]
    }
   ],
   "source": [
    "str(FoxDebate)"
   ]
  },
  {
   "cell_type": "markdown",
   "metadata": {},
   "source": [
    "We care about the randomly assigned condition `conditn`. We can look for effects on whether they watched the debate `watchpro` (subjects didn't always \"comply\") and their support for affirmative action `support`."
   ]
  },
  {
   "cell_type": "markdown",
   "metadata": {},
   "source": [
    "Under the sharp null hypothesis of no effect of random assignment on support for affirmation action, we can infer the unobserved values of support under the other treatment -- they are exactly the same.\n",
    "\n",
    "Let's first just test for whether the random assignment to encouragement to watch the debate affected wathcing the debate."
   ]
  },
  {
   "cell_type": "code",
   "execution_count": 9,
   "metadata": {
    "collapsed": false,
    "scrolled": false
   },
   "outputs": [
    {
     "name": "stdout",
     "output_type": "stream",
     "text": [
      "[1] 0.407\n"
     ]
    }
   ],
   "source": [
    "diff.in.means <- function(z, y) {\n",
    "    mean(y[z == 1]) - mean(y[z == 0])\n",
    "}\n",
    "\n",
    "obs.ate <- diff.in.means(FoxDebate$conditn, FoxDebate$watchpro)\n",
    "print(obs.ate)"
   ]
  },
  {
   "cell_type": "markdown",
   "metadata": {},
   "source": [
    "Watching the debate occured for 40% more subjects encouraged than not encouraged. This seems large, so unlikely due to chance with 500 observations. But to formally test this, we can do randomization inference: we compare this observed difference in means to the distribution of the difference in means under the null.\n",
    "\n",
    "We could do this by considering all possible (and equally probable!) treatment assignment vectors (permuations of the observed vector). Or we could just work with a large sample of them:"
   ]
  },
  {
   "cell_type": "code",
   "execution_count": 10,
   "metadata": {
    "collapsed": false
   },
   "outputs": [],
   "source": [
    "do.permutations <- function(R = 1000, z, y, fnc = diff.in.means) {\n",
    "    foreach(i = 1:R, .combine = 'c') %do% {\n",
    "        zp <- sample(z) # this draws a sample of the same size without replacement (ie a permutation)\n",
    "        fnc(zp, y) # apply our function\n",
    "    }\n",
    "}"
   ]
  },
  {
   "cell_type": "code",
   "execution_count": 12,
   "metadata": {
    "collapsed": false
   },
   "outputs": [
    {
     "data": {
      "text/html": [
       "<ol class=list-inline>\n",
       "\t<li>-0.0741063644289451</li>\n",
       "\t<li>-0.0425333167268651</li>\n",
       "\t<li>0.00482625482625482</li>\n",
       "\t<li>0.0521858263793748</li>\n",
       "\t<li>-0.0109602690247851</li>\n",
       "\t<li>-0.0346400548013451</li>\n",
       "\t<li>-0.0504265786523851</li>\n",
       "\t<li>-0.0109602690247851</li>\n",
       "\t<li>-0.0188535309503051</li>\n",
       "\t<li>0.00482625482625482</li>\n",
       "</ol>\n"
      ],
      "text/latex": [
       "\\begin{enumerate*}\n",
       "\\item -0.0741063644289451\n",
       "\\item -0.0425333167268651\n",
       "\\item 0.00482625482625482\n",
       "\\item 0.0521858263793748\n",
       "\\item -0.0109602690247851\n",
       "\\item -0.0346400548013451\n",
       "\\item -0.0504265786523851\n",
       "\\item -0.0109602690247851\n",
       "\\item -0.0188535309503051\n",
       "\\item 0.00482625482625482\n",
       "\\end{enumerate*}\n"
      ],
      "text/markdown": [
       "1. -0.0741063644289451\n",
       "2. -0.0425333167268651\n",
       "3. 0.00482625482625482\n",
       "4. 0.0521858263793748\n",
       "5. -0.0109602690247851\n",
       "6. -0.0346400548013451\n",
       "7. -0.0504265786523851\n",
       "8. -0.0109602690247851\n",
       "9. -0.0188535309503051\n",
       "10. 0.00482625482625482\n",
       "\n",
       "\n"
      ],
      "text/plain": [
       " [1] -0.07411 -0.04253  0.00483  0.05219 -0.01096 -0.03464 -0.05043 -0.01096 -0.01885  0.00483"
      ]
     },
     "execution_count": 12,
     "metadata": {},
     "output_type": "execute_result"
    }
   ],
   "source": [
    "do.permutations(10, FoxDebate$conditn, FoxDebate$watchpro)"
   ]
  },
  {
   "cell_type": "markdown",
   "metadata": {},
   "source": [
    "These all are much smaller than the observed value. We can examine how extreme the observed value really is."
   ]
  },
  {
   "cell_type": "code",
   "execution_count": 13,
   "metadata": {
    "collapsed": true
   },
   "outputs": [],
   "source": [
    "null.ates <- do.permutations(1e4, FoxDebate$conditn, FoxDebate$watchpro)"
   ]
  },
  {
   "cell_type": "code",
   "execution_count": 14,
   "metadata": {
    "collapsed": false
   },
   "outputs": [
    {
     "data": {
      "text/plain": [
       "   Min. 1st Qu.  Median    Mean 3rd Qu.    Max. \n",
       "-0.1770 -0.0267 -0.0031 -0.0003  0.0285  0.1550 "
      ]
     },
     "execution_count": 14,
     "metadata": {},
     "output_type": "execute_result"
    }
   ],
   "source": [
    "summary(null.ates)"
   ]
  },
  {
   "cell_type": "markdown",
   "metadata": {},
   "source": [
    "We plot a histogram of the samples of the differences in means from the null distribution:"
   ]
  },
  {
   "cell_type": "code",
   "execution_count": null,
   "metadata": {
    "collapsed": true
   },
   "outputs": [],
   "source": []
  },
  {
   "cell_type": "code",
   "execution_count": 57,
   "metadata": {
    "collapsed": false
   },
   "outputs": [
    {
     "name": "stderr",
     "output_type": "stream",
     "text": [
      "stat_bin: binwidth defaulted to range/30. Use 'binwidth = x' to adjust this.\n"
     ]
    },
    {
     "data": {
      "image/png": "[encoded data removed]",
      "image/svg+xml": [
       "<?xml version=\"1.0\" encoding=\"UTF-8\"?>\n",
       "<svg xmlns=\"http://www.w3.org/2000/svg\" xmlns:xlink=\"http://www.w3.org/1999/xlink\" width=\"432pt\" height=\"288pt\" viewBox=\"0 0 432 288\" version=\"1.1\">\n",
       "<defs>\n",
       "<g>\n",
       "<symbol overflow=\"visible\" id=\"glyph0-0\">\n",
       "<path style=\"stroke:none;\" d=\"M 0.3125 0 L 0.3125 -6.875 L 5.765625 -6.875 L 5.765625 0 Z M 4.90625 -0.859375 L 4.90625 -6.015625 L 1.171875 -6.015625 L 1.171875 -0.859375 Z M 4.90625 -0.859375 \"/>\n",
       "</symbol>\n",
       "<symbol overflow=\"visible\" id=\"glyph0-1\">\n",
       "<path style=\"stroke:none;\" d=\"M 2.59375 -6.703125 C 3.457031 -6.703125 4.085938 -6.347656 4.484375 -5.640625 C 4.773438 -5.085938 4.921875 -4.328125 4.921875 -3.359375 C 4.921875 -2.453125 4.785156 -1.695312 4.515625 -1.09375 C 4.128906 -0.238281 3.488281 0.1875 2.59375 0.1875 C 1.78125 0.1875 1.179688 -0.160156 0.796875 -0.859375 C 0.460938 -1.453125 0.296875 -2.238281 0.296875 -3.21875 C 0.296875 -3.976562 0.394531 -4.632812 0.59375 -5.1875 C 0.957031 -6.195312 1.625 -6.703125 2.59375 -6.703125 Z M 2.578125 -0.578125 C 3.015625 -0.578125 3.363281 -0.769531 3.625 -1.15625 C 3.882812 -1.550781 4.015625 -2.273438 4.015625 -3.328125 C 4.015625 -4.085938 3.921875 -4.710938 3.734375 -5.203125 C 3.546875 -5.703125 3.179688 -5.953125 2.640625 -5.953125 C 2.148438 -5.953125 1.789062 -5.71875 1.5625 -5.25 C 1.332031 -4.78125 1.21875 -4.09375 1.21875 -3.1875 C 1.21875 -2.5 1.289062 -1.945312 1.4375 -1.53125 C 1.65625 -0.894531 2.035156 -0.578125 2.578125 -0.578125 Z M 2.578125 -0.578125 \"/>\n",
       "</symbol>\n",
       "<symbol overflow=\"visible\" id=\"glyph0-2\">\n",
       "<path style=\"stroke:none;\" d=\"M 1.1875 -1.703125 C 1.238281 -1.222656 1.460938 -0.894531 1.859375 -0.71875 C 2.054688 -0.625 2.285156 -0.578125 2.546875 -0.578125 C 3.046875 -0.578125 3.414062 -0.734375 3.65625 -1.046875 C 3.894531 -1.367188 4.015625 -1.722656 4.015625 -2.109375 C 4.015625 -2.578125 3.867188 -2.9375 3.578125 -3.1875 C 3.296875 -3.445312 2.957031 -3.578125 2.5625 -3.578125 C 2.269531 -3.578125 2.019531 -3.519531 1.8125 -3.40625 C 1.601562 -3.289062 1.425781 -3.132812 1.28125 -2.9375 L 0.546875 -2.984375 L 1.0625 -6.59375 L 4.546875 -6.59375 L 4.546875 -5.78125 L 1.703125 -5.78125 L 1.40625 -3.921875 C 1.5625 -4.035156 1.710938 -4.125 1.859375 -4.1875 C 2.109375 -4.289062 2.394531 -4.34375 2.71875 -4.34375 C 3.332031 -4.34375 3.851562 -4.140625 4.28125 -3.734375 C 4.707031 -3.335938 4.921875 -2.835938 4.921875 -2.234375 C 4.921875 -1.597656 4.722656 -1.035156 4.328125 -0.546875 C 3.941406 -0.0664062 3.320312 0.171875 2.46875 0.171875 C 1.914062 0.171875 1.429688 0.0195312 1.015625 -0.28125 C 0.597656 -0.59375 0.363281 -1.066406 0.3125 -1.703125 Z M 1.1875 -1.703125 \"/>\n",
       "</symbol>\n",
       "<symbol overflow=\"visible\" id=\"glyph0-3\">\n",
       "<path style=\"stroke:none;\" d=\"M 0.921875 -4.75 L 0.921875 -5.390625 C 1.523438 -5.453125 1.945312 -5.550781 2.1875 -5.6875 C 2.425781 -5.832031 2.609375 -6.164062 2.734375 -6.6875 L 3.390625 -6.6875 L 3.390625 0 L 2.5 0 L 2.5 -4.75 Z M 0.921875 -4.75 \"/>\n",
       "</symbol>\n",
       "<symbol overflow=\"visible\" id=\"glyph0-4\">\n",
       "<path style=\"stroke:none;\" d=\"M 0.390625 -3.109375 L 2.75 -3.109375 L 2.75 -2.234375 L 0.390625 -2.234375 Z M 0.390625 -3.109375 \"/>\n",
       "</symbol>\n",
       "<symbol overflow=\"visible\" id=\"glyph0-5\">\n",
       "<path style=\"stroke:none;\" d=\"M 0.8125 -1.015625 L 1.796875 -1.015625 L 1.796875 0 L 0.8125 0 Z M 0.8125 -1.015625 \"/>\n",
       "</symbol>\n",
       "<symbol overflow=\"visible\" id=\"glyph1-0\">\n",
       "<path style=\"stroke:none;\" d=\"M 0.390625 0 L 0.390625 -8.609375 L 7.21875 -8.609375 L 7.21875 0 Z M 6.140625 -1.078125 L 6.140625 -7.53125 L 1.46875 -7.53125 L 1.46875 -1.078125 Z M 6.140625 -1.078125 \"/>\n",
       "</symbol>\n",
       "<symbol overflow=\"visible\" id=\"glyph1-1\">\n",
       "<path style=\"stroke:none;\" d=\"M 0.78125 -6.28125 L 1.78125 -6.28125 L 1.78125 -5.390625 C 2.070312 -5.753906 2.382812 -6.015625 2.71875 -6.171875 C 3.050781 -6.335938 3.421875 -6.421875 3.828125 -6.421875 C 4.710938 -6.421875 5.3125 -6.109375 5.625 -5.484375 C 5.800781 -5.140625 5.890625 -4.65625 5.890625 -4.03125 L 5.890625 0 L 4.8125 0 L 4.8125 -3.953125 C 4.8125 -4.335938 4.753906 -4.644531 4.640625 -4.875 C 4.453125 -5.269531 4.113281 -5.46875 3.625 -5.46875 C 3.375 -5.46875 3.171875 -5.441406 3.015625 -5.390625 C 2.722656 -5.304688 2.46875 -5.132812 2.25 -4.875 C 2.070312 -4.664062 1.957031 -4.453125 1.90625 -4.234375 C 1.851562 -4.015625 1.828125 -3.695312 1.828125 -3.28125 L 1.828125 0 L 0.78125 0 Z M 3.25 -6.421875 Z M 3.25 -6.421875 \"/>\n",
       "</symbol>\n",
       "<symbol overflow=\"visible\" id=\"glyph1-2\">\n",
       "<path style=\"stroke:none;\" d=\"M 1.828125 -6.28125 L 1.828125 -2.109375 C 1.828125 -1.785156 1.878906 -1.523438 1.984375 -1.328125 C 2.171875 -0.953125 2.519531 -0.765625 3.03125 -0.765625 C 3.757812 -0.765625 4.257812 -1.09375 4.53125 -1.75 C 4.675781 -2.101562 4.75 -2.582031 4.75 -3.1875 L 4.75 -6.28125 L 5.796875 -6.28125 L 5.796875 0 L 4.8125 0 L 4.8125 -0.921875 C 4.675781 -0.679688 4.507812 -0.484375 4.3125 -0.328125 C 3.90625 0.00390625 3.414062 0.171875 2.84375 0.171875 C 1.945312 0.171875 1.335938 -0.128906 1.015625 -0.734375 C 0.835938 -1.046875 0.75 -1.472656 0.75 -2.015625 L 0.75 -6.28125 Z M 3.28125 -6.421875 Z M 3.28125 -6.421875 \"/>\n",
       "</symbol>\n",
       "<symbol overflow=\"visible\" id=\"glyph1-3\">\n",
       "<path style=\"stroke:none;\" d=\"M 0.796875 -8.609375 L 1.859375 -8.609375 L 1.859375 0 L 0.796875 0 Z M 0.796875 -8.609375 \"/>\n",
       "</symbol>\n",
       "<symbol overflow=\"visible\" id=\"glyph1-4\">\n",
       "<path style=\"stroke:none;\" d=\"M 1.03125 -1.28125 L 2.25 -1.28125 L 2.25 0 L 1.03125 0 Z M 1.03125 -1.28125 \"/>\n",
       "</symbol>\n",
       "<symbol overflow=\"visible\" id=\"glyph1-5\">\n",
       "<path style=\"stroke:none;\" d=\"M 1.578125 -1.671875 C 1.578125 -1.367188 1.6875 -1.128906 1.90625 -0.953125 C 2.132812 -0.773438 2.398438 -0.6875 2.703125 -0.6875 C 3.078125 -0.6875 3.4375 -0.769531 3.78125 -0.9375 C 4.375 -1.226562 4.671875 -1.695312 4.671875 -2.34375 L 4.671875 -3.1875 C 4.535156 -3.113281 4.363281 -3.046875 4.15625 -2.984375 C 3.957031 -2.929688 3.757812 -2.894531 3.5625 -2.875 L 2.9375 -2.796875 C 2.550781 -2.742188 2.257812 -2.660156 2.0625 -2.546875 C 1.738281 -2.367188 1.578125 -2.078125 1.578125 -1.671875 Z M 4.140625 -3.796875 C 4.378906 -3.828125 4.539062 -3.929688 4.625 -4.109375 C 4.664062 -4.203125 4.6875 -4.335938 4.6875 -4.515625 C 4.6875 -4.867188 4.554688 -5.125 4.296875 -5.28125 C 4.046875 -5.445312 3.6875 -5.53125 3.21875 -5.53125 C 2.664062 -5.53125 2.273438 -5.382812 2.046875 -5.09375 C 1.910156 -4.925781 1.820312 -4.679688 1.78125 -4.359375 L 0.796875 -4.359375 C 0.816406 -5.128906 1.066406 -5.664062 1.546875 -5.96875 C 2.035156 -6.269531 2.597656 -6.421875 3.234375 -6.421875 C 3.972656 -6.421875 4.570312 -6.28125 5.03125 -6 C 5.488281 -5.71875 5.71875 -5.28125 5.71875 -4.6875 L 5.71875 -1.078125 C 5.71875 -0.972656 5.738281 -0.882812 5.78125 -0.8125 C 5.832031 -0.75 5.929688 -0.71875 6.078125 -0.71875 C 6.117188 -0.71875 6.164062 -0.71875 6.21875 -0.71875 C 6.28125 -0.726562 6.347656 -0.738281 6.421875 -0.75 L 6.421875 0.03125 C 6.253906 0.0703125 6.125 0.0976562 6.03125 0.109375 C 5.945312 0.128906 5.832031 0.140625 5.6875 0.140625 C 5.320312 0.140625 5.0625 0.0078125 4.90625 -0.25 C 4.8125 -0.382812 4.75 -0.578125 4.71875 -0.828125 C 4.5 -0.546875 4.1875 -0.300781 3.78125 -0.09375 C 3.382812 0.113281 2.945312 0.21875 2.46875 0.21875 C 1.882812 0.21875 1.40625 0.0390625 1.03125 -0.3125 C 0.664062 -0.664062 0.484375 -1.109375 0.484375 -1.640625 C 0.484375 -2.222656 0.664062 -2.675781 1.03125 -3 C 1.394531 -3.320312 1.867188 -3.519531 2.453125 -3.59375 Z M 3.265625 -6.421875 Z M 3.265625 -6.421875 \"/>\n",
       "</symbol>\n",
       "<symbol overflow=\"visible\" id=\"glyph1-6\">\n",
       "<path style=\"stroke:none;\" d=\"M 0.984375 -8.03125 L 2.046875 -8.03125 L 2.046875 -6.28125 L 3.046875 -6.28125 L 3.046875 -5.421875 L 2.046875 -5.421875 L 2.046875 -1.3125 C 2.046875 -1.09375 2.125 -0.945312 2.28125 -0.875 C 2.351562 -0.832031 2.488281 -0.8125 2.6875 -0.8125 C 2.738281 -0.8125 2.789062 -0.8125 2.84375 -0.8125 C 2.90625 -0.820312 2.972656 -0.828125 3.046875 -0.828125 L 3.046875 0 C 2.929688 0.03125 2.804688 0.0507812 2.671875 0.0625 C 2.546875 0.0820312 2.40625 0.09375 2.25 0.09375 C 1.757812 0.09375 1.425781 -0.03125 1.25 -0.28125 C 1.070312 -0.53125 0.984375 -0.859375 0.984375 -1.265625 L 0.984375 -5.421875 L 0.140625 -5.421875 L 0.140625 -6.28125 L 0.984375 -6.28125 Z M 0.984375 -8.03125 \"/>\n",
       "</symbol>\n",
       "<symbol overflow=\"visible\" id=\"glyph1-7\">\n",
       "<path style=\"stroke:none;\" d=\"M 3.390625 -6.421875 C 3.835938 -6.421875 4.269531 -6.316406 4.6875 -6.109375 C 5.101562 -5.898438 5.421875 -5.628906 5.640625 -5.296875 C 5.847656 -4.972656 5.988281 -4.601562 6.0625 -4.1875 C 6.125 -3.894531 6.15625 -3.429688 6.15625 -2.796875 L 1.546875 -2.796875 C 1.566406 -2.160156 1.71875 -1.648438 2 -1.265625 C 2.28125 -0.878906 2.71875 -0.6875 3.3125 -0.6875 C 3.863281 -0.6875 4.300781 -0.867188 4.625 -1.234375 C 4.8125 -1.441406 4.945312 -1.6875 5.03125 -1.96875 L 6.0625 -1.96875 C 6.039062 -1.738281 5.953125 -1.484375 5.796875 -1.203125 C 5.640625 -0.921875 5.46875 -0.6875 5.28125 -0.5 C 4.957031 -0.1875 4.554688 0.0195312 4.078125 0.125 C 3.828125 0.1875 3.539062 0.21875 3.21875 0.21875 C 2.4375 0.21875 1.773438 -0.0625 1.234375 -0.625 C 0.691406 -1.195312 0.421875 -1.992188 0.421875 -3.015625 C 0.421875 -4.023438 0.691406 -4.84375 1.234375 -5.46875 C 1.785156 -6.101562 2.503906 -6.421875 3.390625 -6.421875 Z M 5.0625 -3.640625 C 5.019531 -4.097656 4.921875 -4.460938 4.765625 -4.734375 C 4.484375 -5.242188 4.003906 -5.5 3.328125 -5.5 C 2.835938 -5.5 2.425781 -5.320312 2.09375 -4.96875 C 1.769531 -4.625 1.597656 -4.179688 1.578125 -3.640625 Z M 3.28125 -6.421875 Z M 3.28125 -6.421875 \"/>\n",
       "</symbol>\n",
       "<symbol overflow=\"visible\" id=\"glyph1-8\">\n",
       "<path style=\"stroke:none;\" d=\"M 1.40625 -1.96875 C 1.4375 -1.613281 1.523438 -1.34375 1.671875 -1.15625 C 1.929688 -0.820312 2.390625 -0.65625 3.046875 -0.65625 C 3.441406 -0.65625 3.785156 -0.738281 4.078125 -0.90625 C 4.378906 -1.070312 4.53125 -1.332031 4.53125 -1.6875 C 4.53125 -1.957031 4.410156 -2.164062 4.171875 -2.3125 C 4.015625 -2.394531 3.710938 -2.492188 3.265625 -2.609375 L 2.421875 -2.8125 C 1.890625 -2.945312 1.5 -3.097656 1.25 -3.265625 C 0.789062 -3.546875 0.5625 -3.941406 0.5625 -4.453125 C 0.5625 -5.046875 0.773438 -5.523438 1.203125 -5.890625 C 1.628906 -6.253906 2.207031 -6.4375 2.9375 -6.4375 C 3.875 -6.4375 4.550781 -6.160156 4.96875 -5.609375 C 5.238281 -5.253906 5.367188 -4.875 5.359375 -4.46875 L 4.359375 -4.46875 C 4.335938 -4.707031 4.253906 -4.925781 4.109375 -5.125 C 3.867188 -5.394531 3.445312 -5.53125 2.84375 -5.53125 C 2.445312 -5.53125 2.144531 -5.453125 1.9375 -5.296875 C 1.738281 -5.148438 1.640625 -4.953125 1.640625 -4.703125 C 1.640625 -4.429688 1.773438 -4.210938 2.046875 -4.046875 C 2.203125 -3.953125 2.429688 -3.867188 2.734375 -3.796875 L 3.421875 -3.625 C 4.179688 -3.4375 4.691406 -3.257812 4.953125 -3.09375 C 5.359375 -2.820312 5.5625 -2.394531 5.5625 -1.8125 C 5.5625 -1.257812 5.347656 -0.78125 4.921875 -0.375 C 4.503906 0.03125 3.863281 0.234375 3 0.234375 C 2.0625 0.234375 1.394531 0.0234375 1 -0.390625 C 0.613281 -0.816406 0.410156 -1.34375 0.390625 -1.96875 Z M 2.953125 -6.421875 Z M 2.953125 -6.421875 \"/>\n",
       "</symbol>\n",
       "<symbol overflow=\"visible\" id=\"glyph2-0\">\n",
       "<path style=\"stroke:none;\" d=\"M 0 -0.390625 L -8.609375 -0.390625 L -8.609375 -7.21875 L 0 -7.21875 Z M -1.078125 -6.140625 L -7.53125 -6.140625 L -7.53125 -1.46875 L -1.078125 -1.46875 Z M -1.078125 -6.140625 \"/>\n",
       "</symbol>\n",
       "<symbol overflow=\"visible\" id=\"glyph2-1\">\n",
       "<path style=\"stroke:none;\" d=\"M -6.453125 -3.1875 C -6.453125 -3.894531 -6.28125 -4.46875 -5.9375 -4.90625 C -5.59375 -5.351562 -5.003906 -5.625 -4.171875 -5.71875 L -4.171875 -4.6875 C -4.554688 -4.625 -4.875 -4.484375 -5.125 -4.265625 C -5.382812 -4.046875 -5.515625 -3.6875 -5.515625 -3.1875 C -5.515625 -2.519531 -5.1875 -2.039062 -4.53125 -1.75 C -4.101562 -1.5625 -3.578125 -1.46875 -2.953125 -1.46875 C -2.328125 -1.46875 -1.796875 -1.597656 -1.359375 -1.859375 C -0.929688 -2.128906 -0.71875 -2.550781 -0.71875 -3.125 C -0.71875 -3.5625 -0.851562 -3.90625 -1.125 -4.15625 C -1.394531 -4.414062 -1.757812 -4.59375 -2.21875 -4.6875 L -2.21875 -5.71875 C -1.382812 -5.601562 -0.773438 -5.3125 -0.390625 -4.84375 C -0.00390625 -4.375 0.1875 -3.773438 0.1875 -3.046875 C 0.1875 -2.222656 -0.113281 -1.566406 -0.71875 -1.078125 C -1.320312 -0.585938 -2.070312 -0.34375 -2.96875 -0.34375 C -4.070312 -0.34375 -4.925781 -0.609375 -5.53125 -1.140625 C -6.144531 -1.679688 -6.453125 -2.363281 -6.453125 -3.1875 Z M -6.421875 -3.03125 Z M -6.421875 -3.03125 \"/>\n",
       "</symbol>\n",
       "<symbol overflow=\"visible\" id=\"glyph2-2\">\n",
       "<path style=\"stroke:none;\" d=\"M -0.6875 -3.265625 C -0.6875 -3.960938 -0.945312 -4.441406 -1.46875 -4.703125 C -2 -4.960938 -2.585938 -5.09375 -3.234375 -5.09375 C -3.828125 -5.09375 -4.304688 -5 -4.671875 -4.8125 C -5.242188 -4.507812 -5.53125 -4 -5.53125 -3.28125 C -5.53125 -2.632812 -5.285156 -2.164062 -4.796875 -1.875 C -4.304688 -1.582031 -3.710938 -1.4375 -3.015625 -1.4375 C -2.347656 -1.4375 -1.789062 -1.582031 -1.34375 -1.875 C -0.90625 -2.164062 -0.6875 -2.628906 -0.6875 -3.265625 Z M -6.453125 -3.3125 C -6.453125 -4.113281 -6.179688 -4.789062 -5.640625 -5.34375 C -5.109375 -5.90625 -4.316406 -6.1875 -3.265625 -6.1875 C -2.253906 -6.1875 -1.414062 -5.941406 -0.75 -5.453125 C -0.09375 -4.960938 0.234375 -4.203125 0.234375 -3.171875 C 0.234375 -2.304688 -0.0546875 -1.617188 -0.640625 -1.109375 C -1.234375 -0.597656 -2.019531 -0.34375 -3 -0.34375 C -4.050781 -0.34375 -4.890625 -0.609375 -5.515625 -1.140625 C -6.140625 -1.679688 -6.453125 -2.40625 -6.453125 -3.3125 Z M -6.421875 -3.265625 Z M -6.421875 -3.265625 \"/>\n",
       "</symbol>\n",
       "<symbol overflow=\"visible\" id=\"glyph2-3\">\n",
       "<path style=\"stroke:none;\" d=\"M -6.28125 -1.828125 L -2.109375 -1.828125 C -1.785156 -1.828125 -1.523438 -1.878906 -1.328125 -1.984375 C -0.953125 -2.171875 -0.765625 -2.519531 -0.765625 -3.03125 C -0.765625 -3.757812 -1.09375 -4.257812 -1.75 -4.53125 C -2.101562 -4.675781 -2.582031 -4.75 -3.1875 -4.75 L -6.28125 -4.75 L -6.28125 -5.796875 L 0 -5.796875 L 0 -4.8125 L -0.921875 -4.8125 C -0.679688 -4.675781 -0.484375 -4.507812 -0.328125 -4.3125 C 0.00390625 -3.90625 0.171875 -3.414062 0.171875 -2.84375 C 0.171875 -1.945312 -0.128906 -1.335938 -0.734375 -1.015625 C -1.046875 -0.835938 -1.472656 -0.75 -2.015625 -0.75 L -6.28125 -0.75 Z M -6.421875 -3.28125 Z M -6.421875 -3.28125 \"/>\n",
       "</symbol>\n",
       "<symbol overflow=\"visible\" id=\"glyph2-4\">\n",
       "<path style=\"stroke:none;\" d=\"M -6.28125 -0.78125 L -6.28125 -1.78125 L -5.390625 -1.78125 C -5.753906 -2.070312 -6.015625 -2.382812 -6.171875 -2.71875 C -6.335938 -3.050781 -6.421875 -3.421875 -6.421875 -3.828125 C -6.421875 -4.710938 -6.109375 -5.3125 -5.484375 -5.625 C -5.140625 -5.800781 -4.65625 -5.890625 -4.03125 -5.890625 L 0 -5.890625 L 0 -4.8125 L -3.953125 -4.8125 C -4.335938 -4.8125 -4.644531 -4.753906 -4.875 -4.640625 C -5.269531 -4.453125 -5.46875 -4.113281 -5.46875 -3.625 C -5.46875 -3.375 -5.441406 -3.171875 -5.390625 -3.015625 C -5.304688 -2.722656 -5.132812 -2.46875 -4.875 -2.25 C -4.664062 -2.070312 -4.453125 -1.957031 -4.234375 -1.90625 C -4.015625 -1.851562 -3.695312 -1.828125 -3.28125 -1.828125 L 0 -1.828125 L 0 -0.78125 Z M -6.421875 -3.25 Z M -6.421875 -3.25 \"/>\n",
       "</symbol>\n",
       "<symbol overflow=\"visible\" id=\"glyph2-5\">\n",
       "<path style=\"stroke:none;\" d=\"M -8.03125 -0.984375 L -8.03125 -2.046875 L -6.28125 -2.046875 L -6.28125 -3.046875 L -5.421875 -3.046875 L -5.421875 -2.046875 L -1.3125 -2.046875 C -1.09375 -2.046875 -0.945312 -2.125 -0.875 -2.28125 C -0.832031 -2.351562 -0.8125 -2.488281 -0.8125 -2.6875 C -0.8125 -2.738281 -0.8125 -2.789062 -0.8125 -2.84375 C -0.820312 -2.90625 -0.828125 -2.972656 -0.828125 -3.046875 L 0 -3.046875 C 0.03125 -2.929688 0.0507812 -2.804688 0.0625 -2.671875 C 0.0820312 -2.546875 0.09375 -2.40625 0.09375 -2.25 C 0.09375 -1.757812 -0.03125 -1.425781 -0.28125 -1.25 C -0.53125 -1.070312 -0.859375 -0.984375 -1.265625 -0.984375 L -5.421875 -0.984375 L -5.421875 -0.140625 L -6.28125 -0.140625 L -6.28125 -0.984375 Z M -8.03125 -0.984375 \"/>\n",
       "</symbol>\n",
       "</g>\n",
       "<clipPath id=\"clip1\">\n",
       "  <path d=\"M 51.4375 14.398438 L 418 14.398438 L 418 252 L 51.4375 252 Z M 51.4375 14.398438 \"/>\n",
       "</clipPath>\n",
       "<clipPath id=\"clip2\">\n",
       "  <path d=\"M 51.4375 204 L 418.597656 204 L 418.597656 206 L 51.4375 206 Z M 51.4375 204 \"/>\n",
       "</clipPath>\n",
       "<clipPath id=\"clip3\">\n",
       "  <path d=\"M 51.4375 132 L 418.597656 132 L 418.597656 134 L 51.4375 134 Z M 51.4375 132 \"/>\n",
       "</clipPath>\n",
       "<clipPath id=\"clip4\">\n",
       "  <path d=\"M 51.4375 61 L 418.597656 61 L 418.597656 63 L 51.4375 63 Z M 51.4375 61 \"/>\n",
       "</clipPath>\n",
       "<clipPath id=\"clip5\">\n",
       "  <path d=\"M 73 14.398438 L 75 14.398438 L 75 252 L 73 252 Z M 73 14.398438 \"/>\n",
       "</clipPath>\n",
       "<clipPath id=\"clip6\">\n",
       "  <path d=\"M 177 14.398438 L 179 14.398438 L 179 252 L 177 252 Z M 177 14.398438 \"/>\n",
       "</clipPath>\n",
       "<clipPath id=\"clip7\">\n",
       "  <path d=\"M 280 14.398438 L 282 14.398438 L 282 252 L 280 252 Z M 280 14.398438 \"/>\n",
       "</clipPath>\n",
       "<clipPath id=\"clip8\">\n",
       "  <path d=\"M 384 14.398438 L 386 14.398438 L 386 252 L 384 252 Z M 384 14.398438 \"/>\n",
       "</clipPath>\n",
       "<clipPath id=\"clip9\">\n",
       "  <path d=\"M 51.4375 240 L 418 240 L 418 241 L 51.4375 241 Z M 51.4375 240 \"/>\n",
       "</clipPath>\n",
       "<clipPath id=\"clip10\">\n",
       "  <path d=\"M 51.4375 168 L 418 168 L 418 170 L 51.4375 170 Z M 51.4375 168 \"/>\n",
       "</clipPath>\n",
       "<clipPath id=\"clip11\">\n",
       "  <path d=\"M 51.4375 97 L 418 97 L 418 98 L 51.4375 98 Z M 51.4375 97 \"/>\n",
       "</clipPath>\n",
       "<clipPath id=\"clip12\">\n",
       "  <path d=\"M 51.4375 26 L 418 26 L 418 27 L 51.4375 27 Z M 51.4375 26 \"/>\n",
       "</clipPath>\n",
       "<clipPath id=\"clip13\">\n",
       "  <path d=\"M 125 14.398438 L 127 14.398438 L 127 252 L 125 252 Z M 125 14.398438 \"/>\n",
       "</clipPath>\n",
       "<clipPath id=\"clip14\">\n",
       "  <path d=\"M 229 14.398438 L 230 14.398438 L 230 252 L 229 252 Z M 229 14.398438 \"/>\n",
       "</clipPath>\n",
       "<clipPath id=\"clip15\">\n",
       "  <path d=\"M 332 14.398438 L 334 14.398438 L 334 252 L 332 252 Z M 332 14.398438 \"/>\n",
       "</clipPath>\n",
       "<clipPath id=\"clip16\">\n",
       "  <path d=\"M 51.4375 14.398438 L 418.597656 14.398438 L 418.597656 252 L 51.4375 252 Z M 51.4375 14.398438 \"/>\n",
       "</clipPath>\n",
       "</defs>\n",
       "<g id=\"surface16\">\n",
       "<rect x=\"0\" y=\"0\" width=\"432\" height=\"288\" style=\"fill:rgb(100%,100%,100%);fill-opacity:1;stroke:none;\"/>\n",
       "<rect x=\"0\" y=\"0\" width=\"432\" height=\"288\" style=\"fill:rgb(100%,100%,100%);fill-opacity:1;stroke:none;\"/>\n",
       "<path style=\"fill:none;stroke-width:1.062992;stroke-linecap:round;stroke-linejoin:round;stroke:rgb(100%,100%,100%);stroke-opacity:1;stroke-miterlimit:10;\" d=\"M 0 288 L 432 288 L 432 0 L 0 0 Z M 0 288 \"/>\n",
       "<g clip-path=\"url(#clip1)\" clip-rule=\"nonzero\">\n",
       "<path style=\" stroke:none;fill-rule:nonzero;fill:rgb(100%,100%,100%);fill-opacity:1;\" d=\"M 51.4375 251.027344 L 417.597656 251.027344 L 417.597656 14.398438 L 51.4375 14.398438 Z M 51.4375 251.027344 \"/>\n",
       "</g>\n",
       "<g clip-path=\"url(#clip2)\" clip-rule=\"nonzero\">\n",
       "<path style=\"fill:none;stroke-width:1.062992;stroke-linecap:butt;stroke-linejoin:round;stroke:rgb(98.039216%,98.039216%,98.039216%);stroke-opacity:1;stroke-miterlimit:10;\" d=\"M 51.4375 204.609375 L 417.601562 204.609375 \"/>\n",
       "</g>\n",
       "<g clip-path=\"url(#clip3)\" clip-rule=\"nonzero\">\n",
       "<path style=\"fill:none;stroke-width:1.062992;stroke-linecap:butt;stroke-linejoin:round;stroke:rgb(98.039216%,98.039216%,98.039216%);stroke-opacity:1;stroke-miterlimit:10;\" d=\"M 51.4375 133.285156 L 417.601562 133.285156 \"/>\n",
       "</g>\n",
       "<g clip-path=\"url(#clip4)\" clip-rule=\"nonzero\">\n",
       "<path style=\"fill:none;stroke-width:1.062992;stroke-linecap:butt;stroke-linejoin:round;stroke:rgb(98.039216%,98.039216%,98.039216%);stroke-opacity:1;stroke-miterlimit:10;\" d=\"M 51.4375 61.960938 L 417.601562 61.960938 \"/>\n",
       "</g>\n",
       "<g clip-path=\"url(#clip5)\" clip-rule=\"nonzero\">\n",
       "<path style=\"fill:none;stroke-width:1.062992;stroke-linecap:butt;stroke-linejoin:round;stroke:rgb(98.039216%,98.039216%,98.039216%);stroke-opacity:1;stroke-miterlimit:10;\" d=\"M 74.050781 251.027344 L 74.050781 14.398438 \"/>\n",
       "</g>\n",
       "<g clip-path=\"url(#clip6)\" clip-rule=\"nonzero\">\n",
       "<path style=\"fill:none;stroke-width:1.062992;stroke-linecap:butt;stroke-linejoin:round;stroke:rgb(98.039216%,98.039216%,98.039216%);stroke-opacity:1;stroke-miterlimit:10;\" d=\"M 177.667969 251.027344 L 177.667969 14.398438 \"/>\n",
       "</g>\n",
       "<g clip-path=\"url(#clip7)\" clip-rule=\"nonzero\">\n",
       "<path style=\"fill:none;stroke-width:1.062992;stroke-linecap:butt;stroke-linejoin:round;stroke:rgb(98.039216%,98.039216%,98.039216%);stroke-opacity:1;stroke-miterlimit:10;\" d=\"M 281.285156 251.027344 L 281.285156 14.398438 \"/>\n",
       "</g>\n",
       "<g clip-path=\"url(#clip8)\" clip-rule=\"nonzero\">\n",
       "<path style=\"fill:none;stroke-width:1.062992;stroke-linecap:butt;stroke-linejoin:round;stroke:rgb(98.039216%,98.039216%,98.039216%);stroke-opacity:1;stroke-miterlimit:10;\" d=\"M 384.902344 251.027344 L 384.902344 14.398438 \"/>\n",
       "</g>\n",
       "<g clip-path=\"url(#clip9)\" clip-rule=\"nonzero\">\n",
       "<path style=\"fill:none;stroke-width:0.425197;stroke-linecap:butt;stroke-linejoin:round;stroke:rgb(89.803922%,89.803922%,89.803922%);stroke-opacity:1;stroke-miterlimit:10;\" d=\"M 51.4375 240.273438 L 417.601562 240.273438 \"/>\n",
       "</g>\n",
       "<g clip-path=\"url(#clip10)\" clip-rule=\"nonzero\">\n",
       "<path style=\"fill:none;stroke-width:0.425197;stroke-linecap:butt;stroke-linejoin:round;stroke:rgb(89.803922%,89.803922%,89.803922%);stroke-opacity:1;stroke-miterlimit:10;\" d=\"M 51.4375 168.949219 L 417.601562 168.949219 \"/>\n",
       "</g>\n",
       "<g clip-path=\"url(#clip11)\" clip-rule=\"nonzero\">\n",
       "<path style=\"fill:none;stroke-width:0.425197;stroke-linecap:butt;stroke-linejoin:round;stroke:rgb(89.803922%,89.803922%,89.803922%);stroke-opacity:1;stroke-miterlimit:10;\" d=\"M 51.4375 97.621094 L 417.601562 97.621094 \"/>\n",
       "</g>\n",
       "<g clip-path=\"url(#clip12)\" clip-rule=\"nonzero\">\n",
       "<path style=\"fill:none;stroke-width:0.425197;stroke-linecap:butt;stroke-linejoin:round;stroke:rgb(89.803922%,89.803922%,89.803922%);stroke-opacity:1;stroke-miterlimit:10;\" d=\"M 51.4375 26.296875 L 417.601562 26.296875 \"/>\n",
       "</g>\n",
       "<g clip-path=\"url(#clip13)\" clip-rule=\"nonzero\">\n",
       "<path style=\"fill:none;stroke-width:0.425197;stroke-linecap:butt;stroke-linejoin:round;stroke:rgb(89.803922%,89.803922%,89.803922%);stroke-opacity:1;stroke-miterlimit:10;\" d=\"M 125.859375 251.027344 L 125.859375 14.398438 \"/>\n",
       "</g>\n",
       "<g clip-path=\"url(#clip14)\" clip-rule=\"nonzero\">\n",
       "<path style=\"fill:none;stroke-width:0.425197;stroke-linecap:butt;stroke-linejoin:round;stroke:rgb(89.803922%,89.803922%,89.803922%);stroke-opacity:1;stroke-miterlimit:10;\" d=\"M 229.476562 251.027344 L 229.476562 14.398438 \"/>\n",
       "</g>\n",
       "<g clip-path=\"url(#clip15)\" clip-rule=\"nonzero\">\n",
       "<path style=\"fill:none;stroke-width:0.425197;stroke-linecap:butt;stroke-linejoin:round;stroke:rgb(89.803922%,89.803922%,89.803922%);stroke-opacity:1;stroke-miterlimit:10;\" d=\"M 333.09375 251.027344 L 333.09375 14.398438 \"/>\n",
       "</g>\n",
       "<path style=\" stroke:none;fill-rule:nonzero;fill:rgb(20%,20%,20%);fill-opacity:1;\" d=\"M 78.167969 240.273438 L 88.253906 240.273438 L 88.253906 239.84375 L 78.167969 239.84375 Z M 78.167969 240.273438 \"/>\n",
       "<path style=\" stroke:none;fill-rule:nonzero;fill:rgb(20%,20%,20%);fill-opacity:1;\" d=\"M 88.257812 240.273438 L 98.34375 240.273438 L 98.34375 240.128906 L 88.257812 240.128906 Z M 88.257812 240.273438 \"/>\n",
       "<path style=\" stroke:none;fill-rule:nonzero;fill:rgb(20%,20%,20%);fill-opacity:1;\" d=\"M 98.34375 240.273438 L 108.429688 240.273438 L 108.429688 239.84375 L 98.34375 239.84375 Z M 98.34375 240.273438 \"/>\n",
       "<path style=\" stroke:none;fill-rule:nonzero;fill:rgb(20%,20%,20%);fill-opacity:1;\" d=\"M 108.429688 240.273438 L 118.515625 240.273438 L 118.515625 238.277344 L 108.429688 238.277344 Z M 108.429688 240.273438 \"/>\n",
       "<path style=\" stroke:none;fill-rule:nonzero;fill:rgb(20%,20%,20%);fill-opacity:1;\" d=\"M 118.515625 240.273438 L 128.601562 240.273438 L 128.601562 233 L 118.515625 233 Z M 118.515625 240.273438 \"/>\n",
       "<path style=\" stroke:none;fill-rule:nonzero;fill:rgb(20%,20%,20%);fill-opacity:1;\" d=\"M 128.605469 240.273438 L 138.691406 240.273438 L 138.691406 234.851562 L 128.605469 234.851562 Z M 128.605469 240.273438 \"/>\n",
       "<path style=\" stroke:none;fill-rule:nonzero;fill:rgb(20%,20%,20%);fill-opacity:1;\" d=\"M 138.691406 240.273438 L 148.777344 240.273438 L 148.777344 228.289062 L 138.691406 228.289062 Z M 138.691406 240.273438 \"/>\n",
       "<path style=\" stroke:none;fill-rule:nonzero;fill:rgb(20%,20%,20%);fill-opacity:1;\" d=\"M 148.777344 240.273438 L 158.863281 240.273438 L 158.863281 220.730469 L 148.777344 220.730469 Z M 148.777344 240.273438 \"/>\n",
       "<path style=\" stroke:none;fill-rule:nonzero;fill:rgb(20%,20%,20%);fill-opacity:1;\" d=\"M 158.867188 240.273438 L 168.953125 240.273438 L 168.953125 210.03125 L 158.867188 210.03125 Z M 158.867188 240.273438 \"/>\n",
       "<path style=\" stroke:none;fill-rule:nonzero;fill:rgb(20%,20%,20%);fill-opacity:1;\" d=\"M 168.953125 240.273438 L 179.039062 240.273438 L 179.039062 151.402344 L 168.953125 151.402344 Z M 168.953125 240.273438 \"/>\n",
       "<path style=\" stroke:none;fill-rule:nonzero;fill:rgb(20%,20%,20%);fill-opacity:1;\" d=\"M 179.039062 240.273438 L 189.125 240.273438 L 189.125 170.945312 L 179.039062 170.945312 Z M 179.039062 240.273438 \"/>\n",
       "<path style=\" stroke:none;fill-rule:nonzero;fill:rgb(20%,20%,20%);fill-opacity:1;\" d=\"M 189.128906 240.273438 L 199.214844 240.273438 L 199.214844 165.097656 L 189.128906 165.097656 Z M 189.128906 240.273438 \"/>\n",
       "<path style=\" stroke:none;fill-rule:nonzero;fill:rgb(20%,20%,20%);fill-opacity:1;\" d=\"M 199.214844 240.273438 L 209.300781 240.273438 L 209.300781 151.117188 L 199.214844 151.117188 Z M 199.214844 240.273438 \"/>\n",
       "<path style=\" stroke:none;fill-rule:nonzero;fill:rgb(20%,20%,20%);fill-opacity:1;\" d=\"M 209.300781 240.273438 L 219.386719 240.273438 L 219.386719 25.15625 L 209.300781 25.15625 Z M 209.300781 240.273438 \"/>\n",
       "<path style=\" stroke:none;fill-rule:nonzero;fill:rgb(20%,20%,20%);fill-opacity:1;\" d=\"M 219.386719 240.273438 L 229.472656 240.273438 L 229.472656 128.71875 L 219.386719 128.71875 Z M 219.386719 240.273438 \"/>\n",
       "<path style=\" stroke:none;fill-rule:nonzero;fill:rgb(20%,20%,20%);fill-opacity:1;\" d=\"M 229.476562 240.273438 L 239.5625 240.273438 L 239.5625 123.871094 L 229.476562 123.871094 Z M 229.476562 240.273438 \"/>\n",
       "<path style=\" stroke:none;fill-rule:nonzero;fill:rgb(20%,20%,20%);fill-opacity:1;\" d=\"M 239.5625 240.273438 L 249.648438 240.273438 L 249.648438 128.148438 L 239.5625 128.148438 Z M 239.5625 240.273438 \"/>\n",
       "<path style=\" stroke:none;fill-rule:nonzero;fill:rgb(20%,20%,20%);fill-opacity:1;\" d=\"M 249.648438 240.273438 L 259.734375 240.273438 L 259.734375 52.402344 L 249.648438 52.402344 Z M 249.648438 240.273438 \"/>\n",
       "<path style=\" stroke:none;fill-rule:nonzero;fill:rgb(20%,20%,20%);fill-opacity:1;\" d=\"M 259.738281 240.273438 L 269.824219 240.273438 L 269.824219 171.660156 L 259.738281 171.660156 Z M 259.738281 240.273438 \"/>\n",
       "<path style=\" stroke:none;fill-rule:nonzero;fill:rgb(20%,20%,20%);fill-opacity:1;\" d=\"M 269.824219 240.273438 L 279.910156 240.273438 L 279.910156 182.070312 L 269.824219 182.070312 Z M 269.824219 240.273438 \"/>\n",
       "<path style=\" stroke:none;fill-rule:nonzero;fill:rgb(20%,20%,20%);fill-opacity:1;\" d=\"M 279.910156 240.273438 L 289.996094 240.273438 L 289.996094 189.773438 L 279.910156 189.773438 Z M 279.910156 240.273438 \"/>\n",
       "<path style=\" stroke:none;fill-rule:nonzero;fill:rgb(20%,20%,20%);fill-opacity:1;\" d=\"M 290 240.273438 L 300.085938 240.273438 L 300.085938 178.21875 L 290 178.21875 Z M 290 240.273438 \"/>\n",
       "<path style=\" stroke:none;fill-rule:nonzero;fill:rgb(20%,20%,20%);fill-opacity:1;\" d=\"M 300.085938 240.273438 L 310.171875 240.273438 L 310.171875 223.296875 L 300.085938 223.296875 Z M 300.085938 240.273438 \"/>\n",
       "<path style=\" stroke:none;fill-rule:nonzero;fill:rgb(20%,20%,20%);fill-opacity:1;\" d=\"M 310.171875 240.273438 L 320.257812 240.273438 L 320.257812 229.433594 L 310.171875 229.433594 Z M 310.171875 240.273438 \"/>\n",
       "<path style=\" stroke:none;fill-rule:nonzero;fill:rgb(20%,20%,20%);fill-opacity:1;\" d=\"M 320.257812 240.273438 L 330.34375 240.273438 L 330.34375 233 L 320.257812 233 Z M 320.257812 240.273438 \"/>\n",
       "<path style=\" stroke:none;fill-rule:nonzero;fill:rgb(20%,20%,20%);fill-opacity:1;\" d=\"M 330.347656 240.273438 L 340.433594 240.273438 L 340.433594 235.421875 L 330.347656 235.421875 Z M 330.347656 240.273438 \"/>\n",
       "<path style=\" stroke:none;fill-rule:nonzero;fill:rgb(20%,20%,20%);fill-opacity:1;\" d=\"M 340.433594 240.273438 L 350.519531 240.273438 L 350.519531 237.5625 L 340.433594 237.5625 Z M 340.433594 240.273438 \"/>\n",
       "<path style=\" stroke:none;fill-rule:nonzero;fill:rgb(20%,20%,20%);fill-opacity:1;\" d=\"M 350.519531 240.273438 L 360.605469 240.273438 L 360.605469 239.558594 L 350.519531 239.558594 Z M 350.519531 240.273438 \"/>\n",
       "<path style=\" stroke:none;fill-rule:nonzero;fill:rgb(20%,20%,20%);fill-opacity:1;\" d=\"M 360.609375 240.273438 L 370.695312 240.273438 L 370.695312 239.703125 L 360.609375 239.703125 Z M 360.609375 240.273438 \"/>\n",
       "<path style=\" stroke:none;fill-rule:nonzero;fill:rgb(20%,20%,20%);fill-opacity:1;\" d=\"M 380.78125 240.273438 L 390.867188 240.273438 L 390.867188 240.128906 L 380.78125 240.128906 Z M 380.78125 240.273438 \"/>\n",
       "<g clip-path=\"url(#clip16)\" clip-rule=\"nonzero\">\n",
       "<path style=\"fill:none;stroke-width:1.062992;stroke-linecap:round;stroke-linejoin:round;stroke:rgb(49.803922%,49.803922%,49.803922%);stroke-opacity:1;stroke-miterlimit:10;\" d=\"M 51.4375 251.027344 L 417.597656 251.027344 L 417.597656 14.398438 L 51.4375 14.398438 Z M 51.4375 251.027344 \"/>\n",
       "</g>\n",
       "<g style=\"fill:rgb(0%,0%,0%);fill-opacity:1;\">\n",
       "  <use xlink:href=\"#glyph0-1\" x=\"39.015625\" y=\"243.710938\"/>\n",
       "</g>\n",
       "<g style=\"fill:rgb(0%,0%,0%);fill-opacity:1;\">\n",
       "  <use xlink:href=\"#glyph0-2\" x=\"28.34375\" y=\"172.386719\"/>\n",
       "  <use xlink:href=\"#glyph0-1\" x=\"33.679337\" y=\"172.386719\"/>\n",
       "  <use xlink:href=\"#glyph0-1\" x=\"39.014923\" y=\"172.386719\"/>\n",
       "</g>\n",
       "<g style=\"fill:rgb(0%,0%,0%);fill-opacity:1;\">\n",
       "  <use xlink:href=\"#glyph0-3\" x=\"23.007812\" y=\"101.058594\"/>\n",
       "  <use xlink:href=\"#glyph0-1\" x=\"28.343399\" y=\"101.058594\"/>\n",
       "  <use xlink:href=\"#glyph0-1\" x=\"33.678986\" y=\"101.058594\"/>\n",
       "  <use xlink:href=\"#glyph0-1\" x=\"39.014572\" y=\"101.058594\"/>\n",
       "</g>\n",
       "<g style=\"fill:rgb(0%,0%,0%);fill-opacity:1;\">\n",
       "  <use xlink:href=\"#glyph0-3\" x=\"23.007812\" y=\"29.734375\"/>\n",
       "  <use xlink:href=\"#glyph0-2\" x=\"28.343399\" y=\"29.734375\"/>\n",
       "  <use xlink:href=\"#glyph0-1\" x=\"33.678986\" y=\"29.734375\"/>\n",
       "  <use xlink:href=\"#glyph0-1\" x=\"39.014572\" y=\"29.734375\"/>\n",
       "</g>\n",
       "<path style=\"fill:none;stroke-width:1.062992;stroke-linecap:butt;stroke-linejoin:round;stroke:rgb(0%,0%,0%);stroke-opacity:1;stroke-miterlimit:10;\" d=\"M 47.1875 240.273438 L 51.4375 240.273438 \"/>\n",
       "<path style=\"fill:none;stroke-width:1.062992;stroke-linecap:butt;stroke-linejoin:round;stroke:rgb(0%,0%,0%);stroke-opacity:1;stroke-miterlimit:10;\" d=\"M 47.1875 168.949219 L 51.4375 168.949219 \"/>\n",
       "<path style=\"fill:none;stroke-width:1.062992;stroke-linecap:butt;stroke-linejoin:round;stroke:rgb(0%,0%,0%);stroke-opacity:1;stroke-miterlimit:10;\" d=\"M 47.1875 97.621094 L 51.4375 97.621094 \"/>\n",
       "<path style=\"fill:none;stroke-width:1.062992;stroke-linecap:butt;stroke-linejoin:round;stroke:rgb(0%,0%,0%);stroke-opacity:1;stroke-miterlimit:10;\" d=\"M 47.1875 26.296875 L 51.4375 26.296875 \"/>\n",
       "<path style=\"fill:none;stroke-width:1.062992;stroke-linecap:butt;stroke-linejoin:round;stroke:rgb(0%,0%,0%);stroke-opacity:1;stroke-miterlimit:10;\" d=\"M 125.859375 255.28125 L 125.859375 251.027344 \"/>\n",
       "<path style=\"fill:none;stroke-width:1.062992;stroke-linecap:butt;stroke-linejoin:round;stroke:rgb(0%,0%,0%);stroke-opacity:1;stroke-miterlimit:10;\" d=\"M 229.476562 255.28125 L 229.476562 251.027344 \"/>\n",
       "<path style=\"fill:none;stroke-width:1.062992;stroke-linecap:butt;stroke-linejoin:round;stroke:rgb(0%,0%,0%);stroke-opacity:1;stroke-miterlimit:10;\" d=\"M 333.09375 255.28125 L 333.09375 251.027344 \"/>\n",
       "<g style=\"fill:rgb(0%,0%,0%);fill-opacity:1;\">\n",
       "  <use xlink:href=\"#glyph0-4\" x=\"117.59375\" y=\"264.992188\"/>\n",
       "  <use xlink:href=\"#glyph0-1\" x=\"120.788544\" y=\"264.992188\"/>\n",
       "  <use xlink:href=\"#glyph0-5\" x=\"126.12413\" y=\"264.992188\"/>\n",
       "  <use xlink:href=\"#glyph0-3\" x=\"128.789581\" y=\"264.992188\"/>\n",
       "</g>\n",
       "<g style=\"fill:rgb(0%,0%,0%);fill-opacity:1;\">\n",
       "  <use xlink:href=\"#glyph0-1\" x=\"222.808594\" y=\"264.992188\"/>\n",
       "  <use xlink:href=\"#glyph0-5\" x=\"228.14418\" y=\"264.992188\"/>\n",
       "  <use xlink:href=\"#glyph0-1\" x=\"230.809631\" y=\"264.992188\"/>\n",
       "</g>\n",
       "<g style=\"fill:rgb(0%,0%,0%);fill-opacity:1;\">\n",
       "  <use xlink:href=\"#glyph0-1\" x=\"326.425781\" y=\"264.992188\"/>\n",
       "  <use xlink:href=\"#glyph0-5\" x=\"331.761368\" y=\"264.992188\"/>\n",
       "  <use xlink:href=\"#glyph0-3\" x=\"334.426819\" y=\"264.992188\"/>\n",
       "</g>\n",
       "<g style=\"fill:rgb(0%,0%,0%);fill-opacity:1;\">\n",
       "  <use xlink:href=\"#glyph1-1\" x=\"212.171875\" y=\"277.199219\"/>\n",
       "  <use xlink:href=\"#glyph1-2\" x=\"218.845703\" y=\"277.199219\"/>\n",
       "  <use xlink:href=\"#glyph1-3\" x=\"225.519531\" y=\"277.199219\"/>\n",
       "  <use xlink:href=\"#glyph1-3\" x=\"228.185547\" y=\"277.199219\"/>\n",
       "  <use xlink:href=\"#glyph1-4\" x=\"230.851562\" y=\"277.199219\"/>\n",
       "  <use xlink:href=\"#glyph1-5\" x=\"234.185547\" y=\"277.199219\"/>\n",
       "  <use xlink:href=\"#glyph1-6\" x=\"240.859375\" y=\"277.199219\"/>\n",
       "  <use xlink:href=\"#glyph1-7\" x=\"244.193359\" y=\"277.199219\"/>\n",
       "  <use xlink:href=\"#glyph1-8\" x=\"250.867188\" y=\"277.199219\"/>\n",
       "</g>\n",
       "<g style=\"fill:rgb(0%,0%,0%);fill-opacity:1;\">\n",
       "  <use xlink:href=\"#glyph2-1\" x=\"19.410156\" y=\"147.394531\"/>\n",
       "  <use xlink:href=\"#glyph2-2\" x=\"19.410156\" y=\"141.394531\"/>\n",
       "  <use xlink:href=\"#glyph2-3\" x=\"19.410156\" y=\"134.720703\"/>\n",
       "  <use xlink:href=\"#glyph2-4\" x=\"19.410156\" y=\"128.046875\"/>\n",
       "  <use xlink:href=\"#glyph2-5\" x=\"19.410156\" y=\"121.373047\"/>\n",
       "</g>\n",
       "</g>\n",
       "</svg>\n"
      ],
      "text/plain": [
       "plot without title"
      ]
     },
     "metadata": {
      "image/svg+xml": {
       "isolated": true
      }
     },
     "output_type": "display_data"
    }
   ],
   "source": [
    "ggplot(\n",
    "    aes(x = null.ates),\n",
    "    data = data.frame(null.ates)\n",
    ") +\n",
    "geom_histogram() "
   ]
  },
  {
   "cell_type": "markdown",
   "metadata": {},
   "source": [
    "And add a line for the observed difference in means, which is clearly extreme."
   ]
  },
  {
   "cell_type": "code",
   "execution_count": 59,
   "metadata": {
    "collapsed": false
   },
   "outputs": [
    {
     "name": "stderr",
     "output_type": "stream",
     "text": [
      "stat_bin: binwidth defaulted to range/30. Use 'binwidth = x' to adjust this.\n"
     ]
    },
    {
     "data": {
      "image/png": "[encoded data removed]",
      "image/svg+xml": [
       "<?xml version=\"1.0\" encoding=\"UTF-8\"?>\n",
       "<svg xmlns=\"http://www.w3.org/2000/svg\" xmlns:xlink=\"http://www.w3.org/1999/xlink\" width=\"432pt\" height=\"288pt\" viewBox=\"0 0 432 288\" version=\"1.1\">\n",
       "<defs>\n",
       "<g>\n",
       "<symbol overflow=\"visible\" id=\"glyph0-0\">\n",
       "<path style=\"stroke:none;\" d=\"M 0.3125 0 L 0.3125 -6.875 L 5.765625 -6.875 L 5.765625 0 Z M 4.90625 -0.859375 L 4.90625 -6.015625 L 1.171875 -6.015625 L 1.171875 -0.859375 Z M 4.90625 -0.859375 \"/>\n",
       "</symbol>\n",
       "<symbol overflow=\"visible\" id=\"glyph0-1\">\n",
       "<path style=\"stroke:none;\" d=\"M 2.59375 -6.703125 C 3.457031 -6.703125 4.085938 -6.347656 4.484375 -5.640625 C 4.773438 -5.085938 4.921875 -4.328125 4.921875 -3.359375 C 4.921875 -2.453125 4.785156 -1.695312 4.515625 -1.09375 C 4.128906 -0.238281 3.488281 0.1875 2.59375 0.1875 C 1.78125 0.1875 1.179688 -0.160156 0.796875 -0.859375 C 0.460938 -1.453125 0.296875 -2.238281 0.296875 -3.21875 C 0.296875 -3.976562 0.394531 -4.632812 0.59375 -5.1875 C 0.957031 -6.195312 1.625 -6.703125 2.59375 -6.703125 Z M 2.578125 -0.578125 C 3.015625 -0.578125 3.363281 -0.769531 3.625 -1.15625 C 3.882812 -1.550781 4.015625 -2.273438 4.015625 -3.328125 C 4.015625 -4.085938 3.921875 -4.710938 3.734375 -5.203125 C 3.546875 -5.703125 3.179688 -5.953125 2.640625 -5.953125 C 2.148438 -5.953125 1.789062 -5.71875 1.5625 -5.25 C 1.332031 -4.78125 1.21875 -4.09375 1.21875 -3.1875 C 1.21875 -2.5 1.289062 -1.945312 1.4375 -1.53125 C 1.65625 -0.894531 2.035156 -0.578125 2.578125 -0.578125 Z M 2.578125 -0.578125 \"/>\n",
       "</symbol>\n",
       "<symbol overflow=\"visible\" id=\"glyph0-2\">\n",
       "<path style=\"stroke:none;\" d=\"M 1.1875 -1.703125 C 1.238281 -1.222656 1.460938 -0.894531 1.859375 -0.71875 C 2.054688 -0.625 2.285156 -0.578125 2.546875 -0.578125 C 3.046875 -0.578125 3.414062 -0.734375 3.65625 -1.046875 C 3.894531 -1.367188 4.015625 -1.722656 4.015625 -2.109375 C 4.015625 -2.578125 3.867188 -2.9375 3.578125 -3.1875 C 3.296875 -3.445312 2.957031 -3.578125 2.5625 -3.578125 C 2.269531 -3.578125 2.019531 -3.519531 1.8125 -3.40625 C 1.601562 -3.289062 1.425781 -3.132812 1.28125 -2.9375 L 0.546875 -2.984375 L 1.0625 -6.59375 L 4.546875 -6.59375 L 4.546875 -5.78125 L 1.703125 -5.78125 L 1.40625 -3.921875 C 1.5625 -4.035156 1.710938 -4.125 1.859375 -4.1875 C 2.109375 -4.289062 2.394531 -4.34375 2.71875 -4.34375 C 3.332031 -4.34375 3.851562 -4.140625 4.28125 -3.734375 C 4.707031 -3.335938 4.921875 -2.835938 4.921875 -2.234375 C 4.921875 -1.597656 4.722656 -1.035156 4.328125 -0.546875 C 3.941406 -0.0664062 3.320312 0.171875 2.46875 0.171875 C 1.914062 0.171875 1.429688 0.0195312 1.015625 -0.28125 C 0.597656 -0.59375 0.363281 -1.066406 0.3125 -1.703125 Z M 1.1875 -1.703125 \"/>\n",
       "</symbol>\n",
       "<symbol overflow=\"visible\" id=\"glyph0-3\">\n",
       "<path style=\"stroke:none;\" d=\"M 0.921875 -4.75 L 0.921875 -5.390625 C 1.523438 -5.453125 1.945312 -5.550781 2.1875 -5.6875 C 2.425781 -5.832031 2.609375 -6.164062 2.734375 -6.6875 L 3.390625 -6.6875 L 3.390625 0 L 2.5 0 L 2.5 -4.75 Z M 0.921875 -4.75 \"/>\n",
       "</symbol>\n",
       "<symbol overflow=\"visible\" id=\"glyph0-4\">\n",
       "<path style=\"stroke:none;\" d=\"M 0.8125 -1.015625 L 1.796875 -1.015625 L 1.796875 0 L 0.8125 0 Z M 0.8125 -1.015625 \"/>\n",
       "</symbol>\n",
       "<symbol overflow=\"visible\" id=\"glyph0-5\">\n",
       "<path style=\"stroke:none;\" d=\"M 0.296875 0 C 0.328125 -0.570312 0.445312 -1.070312 0.65625 -1.5 C 0.863281 -1.9375 1.269531 -2.328125 1.875 -2.671875 L 2.765625 -3.1875 C 3.171875 -3.425781 3.457031 -3.628906 3.625 -3.796875 C 3.875 -4.054688 4 -4.351562 4 -4.6875 C 4 -5.070312 3.878906 -5.378906 3.640625 -5.609375 C 3.410156 -5.835938 3.101562 -5.953125 2.71875 -5.953125 C 2.132812 -5.953125 1.734375 -5.734375 1.515625 -5.296875 C 1.398438 -5.066406 1.335938 -4.742188 1.328125 -4.328125 L 0.46875 -4.328125 C 0.476562 -4.910156 0.582031 -5.382812 0.78125 -5.75 C 1.144531 -6.40625 1.789062 -6.734375 2.71875 -6.734375 C 3.488281 -6.734375 4.050781 -6.523438 4.40625 -6.109375 C 4.757812 -5.691406 4.9375 -5.226562 4.9375 -4.71875 C 4.9375 -4.1875 4.75 -3.726562 4.375 -3.34375 C 4.15625 -3.125 3.757812 -2.851562 3.1875 -2.53125 L 2.546875 -2.1875 C 2.242188 -2.019531 2.003906 -1.859375 1.828125 -1.703125 C 1.515625 -1.429688 1.316406 -1.128906 1.234375 -0.796875 L 4.90625 -0.796875 L 4.90625 0 Z M 0.296875 0 \"/>\n",
       "</symbol>\n",
       "<symbol overflow=\"visible\" id=\"glyph0-6\">\n",
       "<path style=\"stroke:none;\" d=\"M 3.171875 -2.375 L 3.171875 -5.421875 L 1.015625 -2.375 Z M 3.1875 0 L 3.1875 -1.640625 L 0.25 -1.640625 L 0.25 -2.46875 L 3.3125 -6.734375 L 4.03125 -6.734375 L 4.03125 -2.375 L 5.015625 -2.375 L 5.015625 -1.640625 L 4.03125 -1.640625 L 4.03125 0 Z M 3.1875 0 \"/>\n",
       "</symbol>\n",
       "<symbol overflow=\"visible\" id=\"glyph1-0\">\n",
       "<path style=\"stroke:none;\" d=\"M 0.390625 0 L 0.390625 -8.609375 L 7.21875 -8.609375 L 7.21875 0 Z M 6.140625 -1.078125 L 6.140625 -7.53125 L 1.46875 -7.53125 L 1.46875 -1.078125 Z M 6.140625 -1.078125 \"/>\n",
       "</symbol>\n",
       "<symbol overflow=\"visible\" id=\"glyph1-1\">\n",
       "<path style=\"stroke:none;\" d=\"M 0.78125 -6.28125 L 1.78125 -6.28125 L 1.78125 -5.390625 C 2.070312 -5.753906 2.382812 -6.015625 2.71875 -6.171875 C 3.050781 -6.335938 3.421875 -6.421875 3.828125 -6.421875 C 4.710938 -6.421875 5.3125 -6.109375 5.625 -5.484375 C 5.800781 -5.140625 5.890625 -4.65625 5.890625 -4.03125 L 5.890625 0 L 4.8125 0 L 4.8125 -3.953125 C 4.8125 -4.335938 4.753906 -4.644531 4.640625 -4.875 C 4.453125 -5.269531 4.113281 -5.46875 3.625 -5.46875 C 3.375 -5.46875 3.171875 -5.441406 3.015625 -5.390625 C 2.722656 -5.304688 2.46875 -5.132812 2.25 -4.875 C 2.070312 -4.664062 1.957031 -4.453125 1.90625 -4.234375 C 1.851562 -4.015625 1.828125 -3.695312 1.828125 -3.28125 L 1.828125 0 L 0.78125 0 Z M 3.25 -6.421875 Z M 3.25 -6.421875 \"/>\n",
       "</symbol>\n",
       "<symbol overflow=\"visible\" id=\"glyph1-2\">\n",
       "<path style=\"stroke:none;\" d=\"M 1.828125 -6.28125 L 1.828125 -2.109375 C 1.828125 -1.785156 1.878906 -1.523438 1.984375 -1.328125 C 2.171875 -0.953125 2.519531 -0.765625 3.03125 -0.765625 C 3.757812 -0.765625 4.257812 -1.09375 4.53125 -1.75 C 4.675781 -2.101562 4.75 -2.582031 4.75 -3.1875 L 4.75 -6.28125 L 5.796875 -6.28125 L 5.796875 0 L 4.8125 0 L 4.8125 -0.921875 C 4.675781 -0.679688 4.507812 -0.484375 4.3125 -0.328125 C 3.90625 0.00390625 3.414062 0.171875 2.84375 0.171875 C 1.945312 0.171875 1.335938 -0.128906 1.015625 -0.734375 C 0.835938 -1.046875 0.75 -1.472656 0.75 -2.015625 L 0.75 -6.28125 Z M 3.28125 -6.421875 Z M 3.28125 -6.421875 \"/>\n",
       "</symbol>\n",
       "<symbol overflow=\"visible\" id=\"glyph1-3\">\n",
       "<path style=\"stroke:none;\" d=\"M 0.796875 -8.609375 L 1.859375 -8.609375 L 1.859375 0 L 0.796875 0 Z M 0.796875 -8.609375 \"/>\n",
       "</symbol>\n",
       "<symbol overflow=\"visible\" id=\"glyph1-4\">\n",
       "<path style=\"stroke:none;\" d=\"M 1.03125 -1.28125 L 2.25 -1.28125 L 2.25 0 L 1.03125 0 Z M 1.03125 -1.28125 \"/>\n",
       "</symbol>\n",
       "<symbol overflow=\"visible\" id=\"glyph1-5\">\n",
       "<path style=\"stroke:none;\" d=\"M 1.578125 -1.671875 C 1.578125 -1.367188 1.6875 -1.128906 1.90625 -0.953125 C 2.132812 -0.773438 2.398438 -0.6875 2.703125 -0.6875 C 3.078125 -0.6875 3.4375 -0.769531 3.78125 -0.9375 C 4.375 -1.226562 4.671875 -1.695312 4.671875 -2.34375 L 4.671875 -3.1875 C 4.535156 -3.113281 4.363281 -3.046875 4.15625 -2.984375 C 3.957031 -2.929688 3.757812 -2.894531 3.5625 -2.875 L 2.9375 -2.796875 C 2.550781 -2.742188 2.257812 -2.660156 2.0625 -2.546875 C 1.738281 -2.367188 1.578125 -2.078125 1.578125 -1.671875 Z M 4.140625 -3.796875 C 4.378906 -3.828125 4.539062 -3.929688 4.625 -4.109375 C 4.664062 -4.203125 4.6875 -4.335938 4.6875 -4.515625 C 4.6875 -4.867188 4.554688 -5.125 4.296875 -5.28125 C 4.046875 -5.445312 3.6875 -5.53125 3.21875 -5.53125 C 2.664062 -5.53125 2.273438 -5.382812 2.046875 -5.09375 C 1.910156 -4.925781 1.820312 -4.679688 1.78125 -4.359375 L 0.796875 -4.359375 C 0.816406 -5.128906 1.066406 -5.664062 1.546875 -5.96875 C 2.035156 -6.269531 2.597656 -6.421875 3.234375 -6.421875 C 3.972656 -6.421875 4.570312 -6.28125 5.03125 -6 C 5.488281 -5.71875 5.71875 -5.28125 5.71875 -4.6875 L 5.71875 -1.078125 C 5.71875 -0.972656 5.738281 -0.882812 5.78125 -0.8125 C 5.832031 -0.75 5.929688 -0.71875 6.078125 -0.71875 C 6.117188 -0.71875 6.164062 -0.71875 6.21875 -0.71875 C 6.28125 -0.726562 6.347656 -0.738281 6.421875 -0.75 L 6.421875 0.03125 C 6.253906 0.0703125 6.125 0.0976562 6.03125 0.109375 C 5.945312 0.128906 5.832031 0.140625 5.6875 0.140625 C 5.320312 0.140625 5.0625 0.0078125 4.90625 -0.25 C 4.8125 -0.382812 4.75 -0.578125 4.71875 -0.828125 C 4.5 -0.546875 4.1875 -0.300781 3.78125 -0.09375 C 3.382812 0.113281 2.945312 0.21875 2.46875 0.21875 C 1.882812 0.21875 1.40625 0.0390625 1.03125 -0.3125 C 0.664062 -0.664062 0.484375 -1.109375 0.484375 -1.640625 C 0.484375 -2.222656 0.664062 -2.675781 1.03125 -3 C 1.394531 -3.320312 1.867188 -3.519531 2.453125 -3.59375 Z M 3.265625 -6.421875 Z M 3.265625 -6.421875 \"/>\n",
       "</symbol>\n",
       "<symbol overflow=\"visible\" id=\"glyph1-6\">\n",
       "<path style=\"stroke:none;\" d=\"M 0.984375 -8.03125 L 2.046875 -8.03125 L 2.046875 -6.28125 L 3.046875 -6.28125 L 3.046875 -5.421875 L 2.046875 -5.421875 L 2.046875 -1.3125 C 2.046875 -1.09375 2.125 -0.945312 2.28125 -0.875 C 2.351562 -0.832031 2.488281 -0.8125 2.6875 -0.8125 C 2.738281 -0.8125 2.789062 -0.8125 2.84375 -0.8125 C 2.90625 -0.820312 2.972656 -0.828125 3.046875 -0.828125 L 3.046875 0 C 2.929688 0.03125 2.804688 0.0507812 2.671875 0.0625 C 2.546875 0.0820312 2.40625 0.09375 2.25 0.09375 C 1.757812 0.09375 1.425781 -0.03125 1.25 -0.28125 C 1.070312 -0.53125 0.984375 -0.859375 0.984375 -1.265625 L 0.984375 -5.421875 L 0.140625 -5.421875 L 0.140625 -6.28125 L 0.984375 -6.28125 Z M 0.984375 -8.03125 \"/>\n",
       "</symbol>\n",
       "<symbol overflow=\"visible\" id=\"glyph1-7\">\n",
       "<path style=\"stroke:none;\" d=\"M 3.390625 -6.421875 C 3.835938 -6.421875 4.269531 -6.316406 4.6875 -6.109375 C 5.101562 -5.898438 5.421875 -5.628906 5.640625 -5.296875 C 5.847656 -4.972656 5.988281 -4.601562 6.0625 -4.1875 C 6.125 -3.894531 6.15625 -3.429688 6.15625 -2.796875 L 1.546875 -2.796875 C 1.566406 -2.160156 1.71875 -1.648438 2 -1.265625 C 2.28125 -0.878906 2.71875 -0.6875 3.3125 -0.6875 C 3.863281 -0.6875 4.300781 -0.867188 4.625 -1.234375 C 4.8125 -1.441406 4.945312 -1.6875 5.03125 -1.96875 L 6.0625 -1.96875 C 6.039062 -1.738281 5.953125 -1.484375 5.796875 -1.203125 C 5.640625 -0.921875 5.46875 -0.6875 5.28125 -0.5 C 4.957031 -0.1875 4.554688 0.0195312 4.078125 0.125 C 3.828125 0.1875 3.539062 0.21875 3.21875 0.21875 C 2.4375 0.21875 1.773438 -0.0625 1.234375 -0.625 C 0.691406 -1.195312 0.421875 -1.992188 0.421875 -3.015625 C 0.421875 -4.023438 0.691406 -4.84375 1.234375 -5.46875 C 1.785156 -6.101562 2.503906 -6.421875 3.390625 -6.421875 Z M 5.0625 -3.640625 C 5.019531 -4.097656 4.921875 -4.460938 4.765625 -4.734375 C 4.484375 -5.242188 4.003906 -5.5 3.328125 -5.5 C 2.835938 -5.5 2.425781 -5.320312 2.09375 -4.96875 C 1.769531 -4.625 1.597656 -4.179688 1.578125 -3.640625 Z M 3.28125 -6.421875 Z M 3.28125 -6.421875 \"/>\n",
       "</symbol>\n",
       "<symbol overflow=\"visible\" id=\"glyph1-8\">\n",
       "<path style=\"stroke:none;\" d=\"M 1.40625 -1.96875 C 1.4375 -1.613281 1.523438 -1.34375 1.671875 -1.15625 C 1.929688 -0.820312 2.390625 -0.65625 3.046875 -0.65625 C 3.441406 -0.65625 3.785156 -0.738281 4.078125 -0.90625 C 4.378906 -1.070312 4.53125 -1.332031 4.53125 -1.6875 C 4.53125 -1.957031 4.410156 -2.164062 4.171875 -2.3125 C 4.015625 -2.394531 3.710938 -2.492188 3.265625 -2.609375 L 2.421875 -2.8125 C 1.890625 -2.945312 1.5 -3.097656 1.25 -3.265625 C 0.789062 -3.546875 0.5625 -3.941406 0.5625 -4.453125 C 0.5625 -5.046875 0.773438 -5.523438 1.203125 -5.890625 C 1.628906 -6.253906 2.207031 -6.4375 2.9375 -6.4375 C 3.875 -6.4375 4.550781 -6.160156 4.96875 -5.609375 C 5.238281 -5.253906 5.367188 -4.875 5.359375 -4.46875 L 4.359375 -4.46875 C 4.335938 -4.707031 4.253906 -4.925781 4.109375 -5.125 C 3.867188 -5.394531 3.445312 -5.53125 2.84375 -5.53125 C 2.445312 -5.53125 2.144531 -5.453125 1.9375 -5.296875 C 1.738281 -5.148438 1.640625 -4.953125 1.640625 -4.703125 C 1.640625 -4.429688 1.773438 -4.210938 2.046875 -4.046875 C 2.203125 -3.953125 2.429688 -3.867188 2.734375 -3.796875 L 3.421875 -3.625 C 4.179688 -3.4375 4.691406 -3.257812 4.953125 -3.09375 C 5.359375 -2.820312 5.5625 -2.394531 5.5625 -1.8125 C 5.5625 -1.257812 5.347656 -0.78125 4.921875 -0.375 C 4.503906 0.03125 3.863281 0.234375 3 0.234375 C 2.0625 0.234375 1.394531 0.0234375 1 -0.390625 C 0.613281 -0.816406 0.410156 -1.34375 0.390625 -1.96875 Z M 2.953125 -6.421875 Z M 2.953125 -6.421875 \"/>\n",
       "</symbol>\n",
       "<symbol overflow=\"visible\" id=\"glyph2-0\">\n",
       "<path style=\"stroke:none;\" d=\"M 0 -0.390625 L -8.609375 -0.390625 L -8.609375 -7.21875 L 0 -7.21875 Z M -1.078125 -6.140625 L -7.53125 -6.140625 L -7.53125 -1.46875 L -1.078125 -1.46875 Z M -1.078125 -6.140625 \"/>\n",
       "</symbol>\n",
       "<symbol overflow=\"visible\" id=\"glyph2-1\">\n",
       "<path style=\"stroke:none;\" d=\"M -6.453125 -3.1875 C -6.453125 -3.894531 -6.28125 -4.46875 -5.9375 -4.90625 C -5.59375 -5.351562 -5.003906 -5.625 -4.171875 -5.71875 L -4.171875 -4.6875 C -4.554688 -4.625 -4.875 -4.484375 -5.125 -4.265625 C -5.382812 -4.046875 -5.515625 -3.6875 -5.515625 -3.1875 C -5.515625 -2.519531 -5.1875 -2.039062 -4.53125 -1.75 C -4.101562 -1.5625 -3.578125 -1.46875 -2.953125 -1.46875 C -2.328125 -1.46875 -1.796875 -1.597656 -1.359375 -1.859375 C -0.929688 -2.128906 -0.71875 -2.550781 -0.71875 -3.125 C -0.71875 -3.5625 -0.851562 -3.90625 -1.125 -4.15625 C -1.394531 -4.414062 -1.757812 -4.59375 -2.21875 -4.6875 L -2.21875 -5.71875 C -1.382812 -5.601562 -0.773438 -5.3125 -0.390625 -4.84375 C -0.00390625 -4.375 0.1875 -3.773438 0.1875 -3.046875 C 0.1875 -2.222656 -0.113281 -1.566406 -0.71875 -1.078125 C -1.320312 -0.585938 -2.070312 -0.34375 -2.96875 -0.34375 C -4.070312 -0.34375 -4.925781 -0.609375 -5.53125 -1.140625 C -6.144531 -1.679688 -6.453125 -2.363281 -6.453125 -3.1875 Z M -6.421875 -3.03125 Z M -6.421875 -3.03125 \"/>\n",
       "</symbol>\n",
       "<symbol overflow=\"visible\" id=\"glyph2-2\">\n",
       "<path style=\"stroke:none;\" d=\"M -0.6875 -3.265625 C -0.6875 -3.960938 -0.945312 -4.441406 -1.46875 -4.703125 C -2 -4.960938 -2.585938 -5.09375 -3.234375 -5.09375 C -3.828125 -5.09375 -4.304688 -5 -4.671875 -4.8125 C -5.242188 -4.507812 -5.53125 -4 -5.53125 -3.28125 C -5.53125 -2.632812 -5.285156 -2.164062 -4.796875 -1.875 C -4.304688 -1.582031 -3.710938 -1.4375 -3.015625 -1.4375 C -2.347656 -1.4375 -1.789062 -1.582031 -1.34375 -1.875 C -0.90625 -2.164062 -0.6875 -2.628906 -0.6875 -3.265625 Z M -6.453125 -3.3125 C -6.453125 -4.113281 -6.179688 -4.789062 -5.640625 -5.34375 C -5.109375 -5.90625 -4.316406 -6.1875 -3.265625 -6.1875 C -2.253906 -6.1875 -1.414062 -5.941406 -0.75 -5.453125 C -0.09375 -4.960938 0.234375 -4.203125 0.234375 -3.171875 C 0.234375 -2.304688 -0.0546875 -1.617188 -0.640625 -1.109375 C -1.234375 -0.597656 -2.019531 -0.34375 -3 -0.34375 C -4.050781 -0.34375 -4.890625 -0.609375 -5.515625 -1.140625 C -6.140625 -1.679688 -6.453125 -2.40625 -6.453125 -3.3125 Z M -6.421875 -3.265625 Z M -6.421875 -3.265625 \"/>\n",
       "</symbol>\n",
       "<symbol overflow=\"visible\" id=\"glyph2-3\">\n",
       "<path style=\"stroke:none;\" d=\"M -6.28125 -1.828125 L -2.109375 -1.828125 C -1.785156 -1.828125 -1.523438 -1.878906 -1.328125 -1.984375 C -0.953125 -2.171875 -0.765625 -2.519531 -0.765625 -3.03125 C -0.765625 -3.757812 -1.09375 -4.257812 -1.75 -4.53125 C -2.101562 -4.675781 -2.582031 -4.75 -3.1875 -4.75 L -6.28125 -4.75 L -6.28125 -5.796875 L 0 -5.796875 L 0 -4.8125 L -0.921875 -4.8125 C -0.679688 -4.675781 -0.484375 -4.507812 -0.328125 -4.3125 C 0.00390625 -3.90625 0.171875 -3.414062 0.171875 -2.84375 C 0.171875 -1.945312 -0.128906 -1.335938 -0.734375 -1.015625 C -1.046875 -0.835938 -1.472656 -0.75 -2.015625 -0.75 L -6.28125 -0.75 Z M -6.421875 -3.28125 Z M -6.421875 -3.28125 \"/>\n",
       "</symbol>\n",
       "<symbol overflow=\"visible\" id=\"glyph2-4\">\n",
       "<path style=\"stroke:none;\" d=\"M -6.28125 -0.78125 L -6.28125 -1.78125 L -5.390625 -1.78125 C -5.753906 -2.070312 -6.015625 -2.382812 -6.171875 -2.71875 C -6.335938 -3.050781 -6.421875 -3.421875 -6.421875 -3.828125 C -6.421875 -4.710938 -6.109375 -5.3125 -5.484375 -5.625 C -5.140625 -5.800781 -4.65625 -5.890625 -4.03125 -5.890625 L 0 -5.890625 L 0 -4.8125 L -3.953125 -4.8125 C -4.335938 -4.8125 -4.644531 -4.753906 -4.875 -4.640625 C -5.269531 -4.453125 -5.46875 -4.113281 -5.46875 -3.625 C -5.46875 -3.375 -5.441406 -3.171875 -5.390625 -3.015625 C -5.304688 -2.722656 -5.132812 -2.46875 -4.875 -2.25 C -4.664062 -2.070312 -4.453125 -1.957031 -4.234375 -1.90625 C -4.015625 -1.851562 -3.695312 -1.828125 -3.28125 -1.828125 L 0 -1.828125 L 0 -0.78125 Z M -6.421875 -3.25 Z M -6.421875 -3.25 \"/>\n",
       "</symbol>\n",
       "<symbol overflow=\"visible\" id=\"glyph2-5\">\n",
       "<path style=\"stroke:none;\" d=\"M -8.03125 -0.984375 L -8.03125 -2.046875 L -6.28125 -2.046875 L -6.28125 -3.046875 L -5.421875 -3.046875 L -5.421875 -2.046875 L -1.3125 -2.046875 C -1.09375 -2.046875 -0.945312 -2.125 -0.875 -2.28125 C -0.832031 -2.351562 -0.8125 -2.488281 -0.8125 -2.6875 C -0.8125 -2.738281 -0.8125 -2.789062 -0.8125 -2.84375 C -0.820312 -2.90625 -0.828125 -2.972656 -0.828125 -3.046875 L 0 -3.046875 C 0.03125 -2.929688 0.0507812 -2.804688 0.0625 -2.671875 C 0.0820312 -2.546875 0.09375 -2.40625 0.09375 -2.25 C 0.09375 -1.757812 -0.03125 -1.425781 -0.28125 -1.25 C -0.53125 -1.070312 -0.859375 -0.984375 -1.265625 -0.984375 L -5.421875 -0.984375 L -5.421875 -0.140625 L -6.28125 -0.140625 L -6.28125 -0.984375 Z M -8.03125 -0.984375 \"/>\n",
       "</symbol>\n",
       "</g>\n",
       "<clipPath id=\"clip1\">\n",
       "  <path d=\"M 51.4375 14.398438 L 418 14.398438 L 418 252 L 51.4375 252 Z M 51.4375 14.398438 \"/>\n",
       "</clipPath>\n",
       "<clipPath id=\"clip2\">\n",
       "  <path d=\"M 51.4375 211 L 418.597656 211 L 418.597656 213 L 51.4375 213 Z M 51.4375 211 \"/>\n",
       "</clipPath>\n",
       "<clipPath id=\"clip3\">\n",
       "  <path d=\"M 51.4375 153 L 418.597656 153 L 418.597656 156 L 51.4375 156 Z M 51.4375 153 \"/>\n",
       "</clipPath>\n",
       "<clipPath id=\"clip4\">\n",
       "  <path d=\"M 51.4375 96 L 418.597656 96 L 418.597656 98 L 51.4375 98 Z M 51.4375 96 \"/>\n",
       "</clipPath>\n",
       "<clipPath id=\"clip5\">\n",
       "  <path d=\"M 51.4375 39 L 418.597656 39 L 418.597656 41 L 51.4375 41 Z M 51.4375 39 \"/>\n",
       "</clipPath>\n",
       "<clipPath id=\"clip6\">\n",
       "  <path d=\"M 103 14.398438 L 105 14.398438 L 105 252 L 103 252 Z M 103 14.398438 \"/>\n",
       "</clipPath>\n",
       "<clipPath id=\"clip7\">\n",
       "  <path d=\"M 213 14.398438 L 215 14.398438 L 215 252 L 213 252 Z M 213 14.398438 \"/>\n",
       "</clipPath>\n",
       "<clipPath id=\"clip8\">\n",
       "  <path d=\"M 322 14.398438 L 324 14.398438 L 324 252 L 322 252 Z M 322 14.398438 \"/>\n",
       "</clipPath>\n",
       "<clipPath id=\"clip9\">\n",
       "  <path d=\"M 51.4375 240 L 418 240 L 418 241 L 51.4375 241 Z M 51.4375 240 \"/>\n",
       "</clipPath>\n",
       "<clipPath id=\"clip10\">\n",
       "  <path d=\"M 51.4375 182 L 418 182 L 418 184 L 51.4375 184 Z M 51.4375 182 \"/>\n",
       "</clipPath>\n",
       "<clipPath id=\"clip11\">\n",
       "  <path d=\"M 51.4375 125 L 418 125 L 418 127 L 51.4375 127 Z M 51.4375 125 \"/>\n",
       "</clipPath>\n",
       "<clipPath id=\"clip12\">\n",
       "  <path d=\"M 51.4375 68 L 418 68 L 418 69 L 51.4375 69 Z M 51.4375 68 \"/>\n",
       "</clipPath>\n",
       "<clipPath id=\"clip13\">\n",
       "  <path d=\"M 158 14.398438 L 160 14.398438 L 160 252 L 158 252 Z M 158 14.398438 \"/>\n",
       "</clipPath>\n",
       "<clipPath id=\"clip14\">\n",
       "  <path d=\"M 268 14.398438 L 269 14.398438 L 269 252 L 268 252 Z M 268 14.398438 \"/>\n",
       "</clipPath>\n",
       "<clipPath id=\"clip15\">\n",
       "  <path d=\"M 377 14.398438 L 379 14.398438 L 379 252 L 377 252 Z M 377 14.398438 \"/>\n",
       "</clipPath>\n",
       "<clipPath id=\"clip16\">\n",
       "  <path d=\"M 381 14.398438 L 383 14.398438 L 383 252 L 381 252 Z M 381 14.398438 \"/>\n",
       "</clipPath>\n",
       "<clipPath id=\"clip17\">\n",
       "  <path d=\"M 51.4375 14.398438 L 418.597656 14.398438 L 418.597656 252 L 51.4375 252 Z M 51.4375 14.398438 \"/>\n",
       "</clipPath>\n",
       "</defs>\n",
       "<g id=\"surface26\">\n",
       "<rect x=\"0\" y=\"0\" width=\"432\" height=\"288\" style=\"fill:rgb(100%,100%,100%);fill-opacity:1;stroke:none;\"/>\n",
       "<rect x=\"0\" y=\"0\" width=\"432\" height=\"288\" style=\"fill:rgb(100%,100%,100%);fill-opacity:1;stroke:none;\"/>\n",
       "<path style=\"fill:none;stroke-width:1.062992;stroke-linecap:round;stroke-linejoin:round;stroke:rgb(100%,100%,100%);stroke-opacity:1;stroke-miterlimit:10;\" d=\"M 0 288 L 432 288 L 432 0 L 0 0 Z M 0 288 \"/>\n",
       "<g clip-path=\"url(#clip1)\" clip-rule=\"nonzero\">\n",
       "<path style=\" stroke:none;fill-rule:nonzero;fill:rgb(100%,100%,100%);fill-opacity:1;\" d=\"M 51.4375 251.027344 L 417.597656 251.027344 L 417.597656 14.398438 L 51.4375 14.398438 Z M 51.4375 251.027344 \"/>\n",
       "</g>\n",
       "<g clip-path=\"url(#clip2)\" clip-rule=\"nonzero\">\n",
       "<path style=\"fill:none;stroke-width:1.062992;stroke-linecap:butt;stroke-linejoin:round;stroke:rgb(98.039216%,98.039216%,98.039216%);stroke-opacity:1;stroke-miterlimit:10;\" d=\"M 51.4375 211.683594 L 417.601562 211.683594 \"/>\n",
       "</g>\n",
       "<g clip-path=\"url(#clip3)\" clip-rule=\"nonzero\">\n",
       "<path style=\"fill:none;stroke-width:1.062992;stroke-linecap:butt;stroke-linejoin:round;stroke:rgb(98.039216%,98.039216%,98.039216%);stroke-opacity:1;stroke-miterlimit:10;\" d=\"M 51.4375 154.5 L 417.601562 154.5 \"/>\n",
       "</g>\n",
       "<g clip-path=\"url(#clip4)\" clip-rule=\"nonzero\">\n",
       "<path style=\"fill:none;stroke-width:1.062992;stroke-linecap:butt;stroke-linejoin:round;stroke:rgb(98.039216%,98.039216%,98.039216%);stroke-opacity:1;stroke-miterlimit:10;\" d=\"M 51.4375 97.320312 L 417.601562 97.320312 \"/>\n",
       "</g>\n",
       "<g clip-path=\"url(#clip5)\" clip-rule=\"nonzero\">\n",
       "<path style=\"fill:none;stroke-width:1.062992;stroke-linecap:butt;stroke-linejoin:round;stroke:rgb(98.039216%,98.039216%,98.039216%);stroke-opacity:1;stroke-miterlimit:10;\" d=\"M 51.4375 40.136719 L 417.601562 40.136719 \"/>\n",
       "</g>\n",
       "<g clip-path=\"url(#clip6)\" clip-rule=\"nonzero\">\n",
       "<path style=\"fill:none;stroke-width:1.062992;stroke-linecap:butt;stroke-linejoin:round;stroke:rgb(98.039216%,98.039216%,98.039216%);stroke-opacity:1;stroke-miterlimit:10;\" d=\"M 104.097656 251.027344 L 104.097656 14.398438 \"/>\n",
       "</g>\n",
       "<g clip-path=\"url(#clip7)\" clip-rule=\"nonzero\">\n",
       "<path style=\"fill:none;stroke-width:1.062992;stroke-linecap:butt;stroke-linejoin:round;stroke:rgb(98.039216%,98.039216%,98.039216%);stroke-opacity:1;stroke-miterlimit:10;\" d=\"M 213.632812 251.027344 L 213.632812 14.398438 \"/>\n",
       "</g>\n",
       "<g clip-path=\"url(#clip8)\" clip-rule=\"nonzero\">\n",
       "<path style=\"fill:none;stroke-width:1.062992;stroke-linecap:butt;stroke-linejoin:round;stroke:rgb(98.039216%,98.039216%,98.039216%);stroke-opacity:1;stroke-miterlimit:10;\" d=\"M 323.171875 251.027344 L 323.171875 14.398438 \"/>\n",
       "</g>\n",
       "<g clip-path=\"url(#clip9)\" clip-rule=\"nonzero\">\n",
       "<path style=\"fill:none;stroke-width:0.425197;stroke-linecap:butt;stroke-linejoin:round;stroke:rgb(89.803922%,89.803922%,89.803922%);stroke-opacity:1;stroke-miterlimit:10;\" d=\"M 51.4375 240.273438 L 417.601562 240.273438 \"/>\n",
       "</g>\n",
       "<g clip-path=\"url(#clip10)\" clip-rule=\"nonzero\">\n",
       "<path style=\"fill:none;stroke-width:0.425197;stroke-linecap:butt;stroke-linejoin:round;stroke:rgb(89.803922%,89.803922%,89.803922%);stroke-opacity:1;stroke-miterlimit:10;\" d=\"M 51.4375 183.089844 L 417.601562 183.089844 \"/>\n",
       "</g>\n",
       "<g clip-path=\"url(#clip11)\" clip-rule=\"nonzero\">\n",
       "<path style=\"fill:none;stroke-width:0.425197;stroke-linecap:butt;stroke-linejoin:round;stroke:rgb(89.803922%,89.803922%,89.803922%);stroke-opacity:1;stroke-miterlimit:10;\" d=\"M 51.4375 125.910156 L 417.601562 125.910156 \"/>\n",
       "</g>\n",
       "<g clip-path=\"url(#clip12)\" clip-rule=\"nonzero\">\n",
       "<path style=\"fill:none;stroke-width:0.425197;stroke-linecap:butt;stroke-linejoin:round;stroke:rgb(89.803922%,89.803922%,89.803922%);stroke-opacity:1;stroke-miterlimit:10;\" d=\"M 51.4375 68.726562 L 417.601562 68.726562 \"/>\n",
       "</g>\n",
       "<g clip-path=\"url(#clip13)\" clip-rule=\"nonzero\">\n",
       "<path style=\"fill:none;stroke-width:0.425197;stroke-linecap:butt;stroke-linejoin:round;stroke:rgb(89.803922%,89.803922%,89.803922%);stroke-opacity:1;stroke-miterlimit:10;\" d=\"M 158.867188 251.027344 L 158.867188 14.398438 \"/>\n",
       "</g>\n",
       "<g clip-path=\"url(#clip14)\" clip-rule=\"nonzero\">\n",
       "<path style=\"fill:none;stroke-width:0.425197;stroke-linecap:butt;stroke-linejoin:round;stroke:rgb(89.803922%,89.803922%,89.803922%);stroke-opacity:1;stroke-miterlimit:10;\" d=\"M 268.402344 251.027344 L 268.402344 14.398438 \"/>\n",
       "</g>\n",
       "<g clip-path=\"url(#clip15)\" clip-rule=\"nonzero\">\n",
       "<path style=\"fill:none;stroke-width:0.425197;stroke-linecap:butt;stroke-linejoin:round;stroke:rgb(89.803922%,89.803922%,89.803922%);stroke-opacity:1;stroke-miterlimit:10;\" d=\"M 377.941406 251.027344 L 377.941406 14.398438 \"/>\n",
       "</g>\n",
       "<path style=\" stroke:none;fill-rule:nonzero;fill:rgb(20%,20%,20%);fill-opacity:1;\" d=\"M 78.167969 240.273438 L 88.253906 240.273438 L 88.253906 239.816406 L 78.167969 239.816406 Z M 78.167969 240.273438 \"/>\n",
       "<path style=\" stroke:none;fill-rule:nonzero;fill:rgb(20%,20%,20%);fill-opacity:1;\" d=\"M 88.257812 240.273438 L 98.34375 240.273438 L 98.34375 238.328125 L 88.257812 238.328125 Z M 88.257812 240.273438 \"/>\n",
       "<path style=\" stroke:none;fill-rule:nonzero;fill:rgb(20%,20%,20%);fill-opacity:1;\" d=\"M 98.34375 240.273438 L 108.429688 240.273438 L 108.429688 234.441406 L 98.34375 234.441406 Z M 98.34375 240.273438 \"/>\n",
       "<path style=\" stroke:none;fill-rule:nonzero;fill:rgb(20%,20%,20%);fill-opacity:1;\" d=\"M 108.429688 240.273438 L 118.515625 240.273438 L 118.515625 210.652344 L 108.429688 210.652344 Z M 108.429688 240.273438 \"/>\n",
       "<path style=\" stroke:none;fill-rule:nonzero;fill:rgb(20%,20%,20%);fill-opacity:1;\" d=\"M 118.515625 240.273438 L 128.601562 240.273438 L 128.601562 184.808594 L 118.515625 184.808594 Z M 118.515625 240.273438 \"/>\n",
       "<path style=\" stroke:none;fill-rule:nonzero;fill:rgb(20%,20%,20%);fill-opacity:1;\" d=\"M 128.605469 240.273438 L 138.691406 240.273438 L 138.691406 144.664062 L 128.605469 144.664062 Z M 128.605469 240.273438 \"/>\n",
       "<path style=\" stroke:none;fill-rule:nonzero;fill:rgb(20%,20%,20%);fill-opacity:1;\" d=\"M 138.691406 240.273438 L 148.777344 240.273438 L 148.777344 25.15625 L 138.691406 25.15625 Z M 138.691406 240.273438 \"/>\n",
       "<path style=\" stroke:none;fill-rule:nonzero;fill:rgb(20%,20%,20%);fill-opacity:1;\" d=\"M 148.777344 240.273438 L 158.863281 240.273438 L 158.863281 61.753906 L 148.777344 61.753906 Z M 148.777344 240.273438 \"/>\n",
       "<path style=\" stroke:none;fill-rule:nonzero;fill:rgb(20%,20%,20%);fill-opacity:1;\" d=\"M 158.867188 240.273438 L 168.953125 240.273438 L 168.953125 57.0625 L 158.867188 57.0625 Z M 158.867188 240.273438 \"/>\n",
       "<path style=\" stroke:none;fill-rule:nonzero;fill:rgb(20%,20%,20%);fill-opacity:1;\" d=\"M 168.953125 240.273438 L 179.039062 240.273438 L 179.039062 34.648438 L 168.953125 34.648438 Z M 168.953125 240.273438 \"/>\n",
       "<path style=\" stroke:none;fill-rule:nonzero;fill:rgb(20%,20%,20%);fill-opacity:1;\" d=\"M 179.039062 240.273438 L 189.125 240.273438 L 189.125 153.128906 L 179.039062 153.128906 Z M 179.039062 240.273438 \"/>\n",
       "<path style=\" stroke:none;fill-rule:nonzero;fill:rgb(20%,20%,20%);fill-opacity:1;\" d=\"M 189.128906 240.273438 L 199.214844 240.273438 L 199.214844 190.527344 L 189.128906 190.527344 Z M 189.128906 240.273438 \"/>\n",
       "<path style=\" stroke:none;fill-rule:nonzero;fill:rgb(20%,20%,20%);fill-opacity:1;\" d=\"M 199.214844 240.273438 L 209.300781 240.273438 L 209.300781 212.140625 L 199.214844 212.140625 Z M 199.214844 240.273438 \"/>\n",
       "<path style=\" stroke:none;fill-rule:nonzero;fill:rgb(20%,20%,20%);fill-opacity:1;\" d=\"M 209.300781 240.273438 L 219.386719 240.273438 L 219.386719 235.128906 L 209.300781 235.128906 Z M 209.300781 240.273438 \"/>\n",
       "<path style=\" stroke:none;fill-rule:nonzero;fill:rgb(20%,20%,20%);fill-opacity:1;\" d=\"M 219.386719 240.273438 L 229.472656 240.273438 L 229.472656 238.785156 L 219.386719 238.785156 Z M 219.386719 240.273438 \"/>\n",
       "<path style=\" stroke:none;fill-rule:nonzero;fill:rgb(20%,20%,20%);fill-opacity:1;\" d=\"M 229.476562 240.273438 L 239.5625 240.273438 L 239.5625 239.703125 L 229.476562 239.703125 Z M 229.476562 240.273438 \"/>\n",
       "<g clip-path=\"url(#clip16)\" clip-rule=\"nonzero\">\n",
       "<path style=\"fill:none;stroke-width:1.062992;stroke-linecap:butt;stroke-linejoin:round;stroke:rgb(100%,0%,0%);stroke-opacity:1;stroke-miterlimit:10;\" d=\"M 381.984375 251.027344 L 381.984375 14.398438 \"/>\n",
       "</g>\n",
       "<g clip-path=\"url(#clip17)\" clip-rule=\"nonzero\">\n",
       "<path style=\"fill:none;stroke-width:1.062992;stroke-linecap:round;stroke-linejoin:round;stroke:rgb(49.803922%,49.803922%,49.803922%);stroke-opacity:1;stroke-miterlimit:10;\" d=\"M 51.4375 251.027344 L 417.597656 251.027344 L 417.597656 14.398438 L 51.4375 14.398438 Z M 51.4375 251.027344 \"/>\n",
       "</g>\n",
       "<g style=\"fill:rgb(0%,0%,0%);fill-opacity:1;\">\n",
       "  <use xlink:href=\"#glyph0-1\" x=\"39.015625\" y=\"243.710938\"/>\n",
       "</g>\n",
       "<g style=\"fill:rgb(0%,0%,0%);fill-opacity:1;\">\n",
       "  <use xlink:href=\"#glyph0-2\" x=\"28.34375\" y=\"186.527344\"/>\n",
       "  <use xlink:href=\"#glyph0-1\" x=\"33.679337\" y=\"186.527344\"/>\n",
       "  <use xlink:href=\"#glyph0-1\" x=\"39.014923\" y=\"186.527344\"/>\n",
       "</g>\n",
       "<g style=\"fill:rgb(0%,0%,0%);fill-opacity:1;\">\n",
       "  <use xlink:href=\"#glyph0-3\" x=\"23.007812\" y=\"129.347656\"/>\n",
       "  <use xlink:href=\"#glyph0-1\" x=\"28.343399\" y=\"129.347656\"/>\n",
       "  <use xlink:href=\"#glyph0-1\" x=\"33.678986\" y=\"129.347656\"/>\n",
       "  <use xlink:href=\"#glyph0-1\" x=\"39.014572\" y=\"129.347656\"/>\n",
       "</g>\n",
       "<g style=\"fill:rgb(0%,0%,0%);fill-opacity:1;\">\n",
       "  <use xlink:href=\"#glyph0-3\" x=\"23.007812\" y=\"72.164062\"/>\n",
       "  <use xlink:href=\"#glyph0-2\" x=\"28.343399\" y=\"72.164062\"/>\n",
       "  <use xlink:href=\"#glyph0-1\" x=\"33.678986\" y=\"72.164062\"/>\n",
       "  <use xlink:href=\"#glyph0-1\" x=\"39.014572\" y=\"72.164062\"/>\n",
       "</g>\n",
       "<path style=\"fill:none;stroke-width:1.062992;stroke-linecap:butt;stroke-linejoin:round;stroke:rgb(0%,0%,0%);stroke-opacity:1;stroke-miterlimit:10;\" d=\"M 47.1875 240.273438 L 51.4375 240.273438 \"/>\n",
       "<path style=\"fill:none;stroke-width:1.062992;stroke-linecap:butt;stroke-linejoin:round;stroke:rgb(0%,0%,0%);stroke-opacity:1;stroke-miterlimit:10;\" d=\"M 47.1875 183.089844 L 51.4375 183.089844 \"/>\n",
       "<path style=\"fill:none;stroke-width:1.062992;stroke-linecap:butt;stroke-linejoin:round;stroke:rgb(0%,0%,0%);stroke-opacity:1;stroke-miterlimit:10;\" d=\"M 47.1875 125.910156 L 51.4375 125.910156 \"/>\n",
       "<path style=\"fill:none;stroke-width:1.062992;stroke-linecap:butt;stroke-linejoin:round;stroke:rgb(0%,0%,0%);stroke-opacity:1;stroke-miterlimit:10;\" d=\"M 47.1875 68.726562 L 51.4375 68.726562 \"/>\n",
       "<path style=\"fill:none;stroke-width:1.062992;stroke-linecap:butt;stroke-linejoin:round;stroke:rgb(0%,0%,0%);stroke-opacity:1;stroke-miterlimit:10;\" d=\"M 158.867188 255.28125 L 158.867188 251.027344 \"/>\n",
       "<path style=\"fill:none;stroke-width:1.062992;stroke-linecap:butt;stroke-linejoin:round;stroke:rgb(0%,0%,0%);stroke-opacity:1;stroke-miterlimit:10;\" d=\"M 268.402344 255.28125 L 268.402344 251.027344 \"/>\n",
       "<path style=\"fill:none;stroke-width:1.062992;stroke-linecap:butt;stroke-linejoin:round;stroke:rgb(0%,0%,0%);stroke-opacity:1;stroke-miterlimit:10;\" d=\"M 377.941406 255.28125 L 377.941406 251.027344 \"/>\n",
       "<g style=\"fill:rgb(0%,0%,0%);fill-opacity:1;\">\n",
       "  <use xlink:href=\"#glyph0-1\" x=\"152.199219\" y=\"264.992188\"/>\n",
       "  <use xlink:href=\"#glyph0-4\" x=\"157.534805\" y=\"264.992188\"/>\n",
       "  <use xlink:href=\"#glyph0-1\" x=\"160.200256\" y=\"264.992188\"/>\n",
       "</g>\n",
       "<g style=\"fill:rgb(0%,0%,0%);fill-opacity:1;\">\n",
       "  <use xlink:href=\"#glyph0-1\" x=\"261.734375\" y=\"264.992188\"/>\n",
       "  <use xlink:href=\"#glyph0-4\" x=\"267.069962\" y=\"264.992188\"/>\n",
       "  <use xlink:href=\"#glyph0-5\" x=\"269.735413\" y=\"264.992188\"/>\n",
       "</g>\n",
       "<g style=\"fill:rgb(0%,0%,0%);fill-opacity:1;\">\n",
       "  <use xlink:href=\"#glyph0-1\" x=\"371.273438\" y=\"264.992188\"/>\n",
       "  <use xlink:href=\"#glyph0-4\" x=\"376.609024\" y=\"264.992188\"/>\n",
       "  <use xlink:href=\"#glyph0-6\" x=\"379.274475\" y=\"264.992188\"/>\n",
       "</g>\n",
       "<g style=\"fill:rgb(0%,0%,0%);fill-opacity:1;\">\n",
       "  <use xlink:href=\"#glyph1-1\" x=\"212.171875\" y=\"277.199219\"/>\n",
       "  <use xlink:href=\"#glyph1-2\" x=\"218.845703\" y=\"277.199219\"/>\n",
       "  <use xlink:href=\"#glyph1-3\" x=\"225.519531\" y=\"277.199219\"/>\n",
       "  <use xlink:href=\"#glyph1-3\" x=\"228.185547\" y=\"277.199219\"/>\n",
       "  <use xlink:href=\"#glyph1-4\" x=\"230.851562\" y=\"277.199219\"/>\n",
       "  <use xlink:href=\"#glyph1-5\" x=\"234.185547\" y=\"277.199219\"/>\n",
       "  <use xlink:href=\"#glyph1-6\" x=\"240.859375\" y=\"277.199219\"/>\n",
       "  <use xlink:href=\"#glyph1-7\" x=\"244.193359\" y=\"277.199219\"/>\n",
       "  <use xlink:href=\"#glyph1-8\" x=\"250.867188\" y=\"277.199219\"/>\n",
       "</g>\n",
       "<g style=\"fill:rgb(0%,0%,0%);fill-opacity:1;\">\n",
       "  <use xlink:href=\"#glyph2-1\" x=\"19.410156\" y=\"147.394531\"/>\n",
       "  <use xlink:href=\"#glyph2-2\" x=\"19.410156\" y=\"141.394531\"/>\n",
       "  <use xlink:href=\"#glyph2-3\" x=\"19.410156\" y=\"134.720703\"/>\n",
       "  <use xlink:href=\"#glyph2-4\" x=\"19.410156\" y=\"128.046875\"/>\n",
       "  <use xlink:href=\"#glyph2-5\" x=\"19.410156\" y=\"121.373047\"/>\n",
       "</g>\n",
       "</g>\n",
       "</svg>\n"
      ],
      "text/plain": [
       "plot without title"
      ]
     },
     "metadata": {
      "image/svg+xml": {
       "isolated": true
      }
     },
     "output_type": "display_data"
    }
   ],
   "source": [
    "ggplot(\n",
    "    aes(x = null.ates),\n",
    "    data = data.frame(null.ates)\n",
    ") +\n",
    "geom_histogram() +\n",
    "geom_vline(xintercept = obs.ate, color = \"red\")"
   ]
  },
  {
   "cell_type": "code",
   "execution_count": 16,
   "metadata": {
    "collapsed": false
   },
   "outputs": [
    {
     "data": {
      "text/html": [
       "10.634991305618"
      ],
      "text/latex": [
       "10.634991305618"
      ],
      "text/markdown": [
       "10.634991305618"
      ],
      "text/plain": [
       "[1] 10.6"
      ]
     },
     "execution_count": 16,
     "metadata": {},
     "output_type": "execute_result"
    }
   ],
   "source": [
    "obs.ate / sd(null.ates)"
   ]
  },
  {
   "cell_type": "markdown",
   "metadata": {},
   "source": [
    "More formally, we can compute a p-value, the probability under the null of observing a test statistics (here, the difference in means) at least as extreme as what we observed."
   ]
  },
  {
   "cell_type": "code",
   "execution_count": 46,
   "metadata": {
    "collapsed": true
   },
   "outputs": [],
   "source": [
    "two.sided.p.value.perm <- function(obs, null.draws) {\n",
    "    lower.p <- mean(obs > null.draws)\n",
    "    upper.p <- mean(obs < null.draws)\n",
    "    2 * min(lower.p, upper.p)\n",
    "}"
   ]
  },
  {
   "cell_type": "code",
   "execution_count": 48,
   "metadata": {
    "collapsed": false
   },
   "outputs": [
    {
     "data": {
      "text/html": [
       "0"
      ],
      "text/latex": [
       "0"
      ],
      "text/markdown": [
       "0"
      ],
      "text/plain": [
       "[1] 0"
      ]
     },
     "execution_count": 48,
     "metadata": {},
     "output_type": "execute_result"
    }
   ],
   "source": [
    "two.sided.p.value.perm(obs.ate, null.ates)"
   ]
  },
  {
   "cell_type": "markdown",
   "metadata": {},
   "source": [
    "In this case, it turns out this is very close to zero, since even with 10,000 draws from the null, none is greater than our observed estimate."
   ]
  },
  {
   "cell_type": "markdown",
   "metadata": {},
   "source": [
    "## Exercise: Repeat for the \"real\" outcome of interest, `support`\n"
   ]
  },
  {
   "cell_type": "code",
   "execution_count": null,
   "metadata": {
    "collapsed": true
   },
   "outputs": [],
   "source": []
  }
 ],
 "metadata": {
  "kernelspec": {
   "display_name": "R",
   "language": "R",
   "name": "ir"
  },
  "language_info": {
   "codemirror_mode": "r",
   "file_extension": ".r",
   "mimetype": "text/x-r-source",
   "name": "R",
   "pygments_lexer": "r",
   "version": "3.2.2"
  }
 },
 "nbformat": 4,
 "nbformat_minor": 0
}
