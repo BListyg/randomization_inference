{
 "cells": [
  {
   "cell_type": "markdown",
   "metadata": {},
   "source": [
    "# Randomization inference for spillovers in networks\n",
    "\n",
    "This uses data from:\n",
    "Cai, Jing, Alain De Janvry, and Elisabeth Sadoulet. 2015. \"Social Networks and the Decision to Insure.\" American Economic Journal: Applied Economics, 7(2): 81-108.\n",
    "https://www.aeaweb.org/articles.php?doi=10.1257/app.20130442\n",
    "\n",
    "This paper examines spillover effects in rural Chinese farmers being encouraged to sign up for insurance. Households were randomly assigned to different periods in which to be encouraged to get insurance and whether that encouragement was 'intensive'.\n",
    "\n",
    "\"The social network survey asked household heads to list five close friends, either within or outside the village, with whom they most frequently discuss rice production or financial issues. Respondents were asked to rank these friends based on which one would be consulted first, second, etc.\"\n",
    "\n",
    "We are essentially re-doing Table 2 column 2 (there are some minor differences because of how we have simplified things a bit).\n"
   ]
  },
  {
   "cell_type": "code",
   "execution_count": 1,
   "metadata": {
    "collapsed": true
   },
   "outputs": [],
   "source": [
    "options(digits = 3)\n",
    "library(ggplot2)\n",
    "theme_set(theme_bw())\n",
    "options(repr.plot.width = 6)\n",
    "options(repr.plot.height = 4)\n",
    "\n",
    "library(icsw)\n",
    "library(foreach)\n",
    "library(Matrix)\n",
    "library(lfe)"
   ]
  },
  {
   "cell_type": "code",
   "execution_count": 2,
   "metadata": {
    "collapsed": false
   },
   "outputs": [],
   "source": [
    "cai <- read.table(\"cai_data/cai.main.tsv\", sep = \"\\t\")"
   ]
  },
  {
   "cell_type": "code",
   "execution_count": 3,
   "metadata": {
    "collapsed": false
   },
   "outputs": [
    {
     "data": {
      "text/html": [
       "<table>\n",
       "<thead><tr><th></th><th scope=col>id</th><th scope=col>address</th><th scope=col>region</th><th scope=col>village</th><th scope=col>takeup_survey</th><th scope=col>age</th><th scope=col>male</th><th scope=col>delay</th><th scope=col>intensive</th><th scope=col>info_none</th><th scope=col>intensive.nondelay.peers</th><th scope=col>n.peers</th></tr></thead>\n",
       "<tbody>\n",
       "\t<tr><th scope=row>1</th><td>1111385</td><td>fusheng67</td><td>1</td><td>fusheng</td><td>1</td><td>37</td><td>1</td><td>0</td><td>1</td><td>1</td><td>0</td><td>4</td></tr>\n",
       "\t<tr><th scope=row>2</th><td>1111035</td><td>fusheng21</td><td>1</td><td>fusheng</td><td>1</td><td>60</td><td>1</td><td>0</td><td>1</td><td>1</td><td>0</td><td>0</td></tr>\n",
       "\t<tr><th scope=row>3</th><td>1111363</td><td>fusheng5</td><td>1</td><td>fusheng</td><td>0</td><td>56</td><td>1</td><td>0</td><td>0</td><td>1</td><td>0</td><td>3</td></tr>\n",
       "\t<tr><th scope=row>4</th><td>1111042</td><td>fusheng21</td><td>1</td><td>fusheng</td><td>1</td><td>57</td><td>1</td><td>0</td><td>0</td><td>1</td><td>1</td><td>1</td></tr>\n",
       "\t<tr><th scope=row>5</th><td>1111045</td><td>fusheng21</td><td>1</td><td>fusheng</td><td>1</td><td>45</td><td>1</td><td>1</td><td>0</td><td>1</td><td>2</td><td>4</td></tr>\n",
       "\t<tr><th scope=row>6</th><td>1111038</td><td>fusheng21</td><td>1</td><td>fusheng</td><td>1</td><td>61</td><td>1</td><td>1</td><td>1</td><td>1</td><td>0</td><td>4</td></tr>\n",
       "</tbody>\n",
       "</table>\n"
      ],
      "text/latex": [
       "\\begin{tabular}{r|llllllllllll}\n",
       "  & id & address & region & village & takeup_survey & age & male & delay & intensive & info_none & intensive.nondelay.peers & n.peers\\\\\n",
       "\\hline\n",
       "\t1 & 1111385 & fusheng67 & 1 & fusheng & 1 & 37 & 1 & 0 & 1 & 1 & 0 & 4\\\\\n",
       "\t2 & 1111035 & fusheng21 & 1 & fusheng & 1 & 60 & 1 & 0 & 1 & 1 & 0 & 0\\\\\n",
       "\t3 & 1111363 & fusheng5 & 1 & fusheng & 0 & 56 & 1 & 0 & 0 & 1 & 0 & 3\\\\\n",
       "\t4 & 1111042 & fusheng21 & 1 & fusheng & 1 & 57 & 1 & 0 & 0 & 1 & 1 & 1\\\\\n",
       "\t5 & 1111045 & fusheng21 & 1 & fusheng & 1 & 45 & 1 & 1 & 0 & 1 & 2 & 4\\\\\n",
       "\t6 & 1111038 & fusheng21 & 1 & fusheng & 1 & 61 & 1 & 1 & 1 & 1 & 0 & 4\\\\\n",
       "\\end{tabular}\n"
      ],
      "text/plain": [
       "       id   address region village takeup_survey age male delay intensive info_none intensive.nondelay.peers n.peers\n",
       "1 1111385 fusheng67      1 fusheng             1  37    1     0         1         1                        0       4\n",
       "2 1111035 fusheng21      1 fusheng             1  60    1     0         1         1                        0       0\n",
       "3 1111363  fusheng5      1 fusheng             0  56    1     0         0         1                        0       3\n",
       "4 1111042 fusheng21      1 fusheng             1  57    1     0         0         1                        1       1\n",
       "5 1111045 fusheng21      1 fusheng             1  45    1     1         0         1                        2       4\n",
       "6 1111038 fusheng21      1 fusheng             1  61    1     1         1         1                        0       4"
      ]
     },
     "execution_count": 3,
     "metadata": {},
     "output_type": "execute_result"
    }
   ],
   "source": [
    "head(cai)"
   ]
  },
  {
   "cell_type": "markdown",
   "metadata": {},
   "source": [
    "The main outcome is whether they sign for insurance `takeup_survey`."
   ]
  },
  {
   "cell_type": "code",
   "execution_count": 4,
   "metadata": {
    "collapsed": false,
    "scrolled": true
   },
   "outputs": [
    {
     "name": "stderr",
     "output_type": "stream",
     "text": [
      "   [[ suppressing 10 column names ‘1111385’, ‘1111035’, ‘1111363’ ... ]]\n",
      "   [[ suppressing 10 column names ‘1111385’, ‘1111035’, ‘1111363’ ... ]]\n"
     ]
    },
    {
     "data": {
      "text/plain": [
       "10 x 10 sparse Matrix of class \"dgCMatrix\"\n",
       "                           \n",
       "1111385 . . . . . . . . . .\n",
       "1111035 . . . . . . . . . .\n",
       "1111363 . . . . . . . . . .\n",
       "1111042 . . . . . . . . . .\n",
       "1111045 . . . . . . . 1 . .\n",
       "1111038 . . . . . . . 1 1 .\n",
       "1111034 . . . . . . . . . 1\n",
       "1111055 . . . . 1 . . . . .\n",
       "1111050 . . . . 1 1 . 1 . 1\n",
       "1111031 . . . . 1 . . 1 . ."
      ]
     },
     "execution_count": 4,
     "metadata": {},
     "output_type": "execute_result"
    }
   ],
   "source": [
    "load(\"cai_data/cai.adjacency.RData\")\n",
    "A[1:10,1:10]"
   ]
  },
  {
   "cell_type": "markdown",
   "metadata": {},
   "source": [
    "Now let's estimate the relationship between how many peers were given the strong encouragement to sign up for insurance in the prior period, `intensive.nondelay.peers` and the outcome `takeup_survey`. We will only do this for egos who didn't get the treatment in the prior period and who didn't receive information, as part of their treatment, about the adoption rates in their area. (This is also what the paper does.)"
   ]
  },
  {
   "cell_type": "markdown",
   "metadata": {},
   "source": [
    "Now we can get a point estimate for the effects of peer treatments:"
   ]
  },
  {
   "cell_type": "code",
   "execution_count": 6,
   "metadata": {
    "collapsed": false
   },
   "outputs": [
    {
     "data": {
      "text/plain": [
       "\n",
       "Call:\n",
       "lm(formula = takeup_survey ~ intensive + I(intensive.nondelay.peers/n.peers) + \n",
       "    factor(n.peers), data = cai)\n",
       "\n",
       "Residuals:\n",
       "   Min     1Q Median     3Q    Max \n",
       "-0.576 -0.451 -0.373  0.533  0.688 \n",
       "\n",
       "Coefficients:\n",
       "                                    Estimate Std. Error t value Pr(>|t|)    \n",
       "(Intercept)                           0.3116     0.0340    9.16  < 2e-16 ***\n",
       "intensive                             0.0779     0.0148    5.26  1.5e-07 ***\n",
       "I(intensive.nondelay.peers/n.peers)   0.0508     0.0295    1.72  0.08469 .  \n",
       "factor(n.peers)2                      0.0563     0.0389    1.45  0.14796    \n",
       "factor(n.peers)3                      0.0610     0.0361    1.69  0.09071 .  \n",
       "factor(n.peers)4                      0.0833     0.0350    2.38  0.01746 *  \n",
       "factor(n.peers)5                      0.1356     0.0354    3.83  0.00013 ***\n",
       "---\n",
       "Signif. codes:  0 ‘***’ 0.001 ‘**’ 0.01 ‘*’ 0.05 ‘.’ 0.1 ‘ ’ 1\n",
       "\n",
       "Residual standard error: 0.494 on 4514 degrees of freedom\n",
       "  (256 observations deleted due to missingness)\n",
       "Multiple R-squared:  0.0124,\tAdjusted R-squared:  0.0111 \n",
       "F-statistic: 9.42 on 6 and 4514 DF,  p-value: 2.62e-10\n"
      ]
     },
     "execution_count": 6,
     "metadata": {},
     "output_type": "execute_result"
    }
   ],
   "source": [
    "lm.1 <- lm(\n",
    "    takeup_survey ~ intensive + I(intensive.nondelay.peers/n.peers) + factor(n.peers),\n",
    "    data = cai\n",
    ")\n",
    "summary(lm.1)"
   ]
  },
  {
   "cell_type": "markdown",
   "metadata": {},
   "source": [
    "There could be something here. We see both an effect of one's own treatment, and an effect of the fraction of peers treated in the early period.\n",
    "\n",
    "Note that depending on your number of peers, the fraction of treated peers can only take on some values. This violates the 'positivity' support assumption for causal inference. Even if this worked with the number of treated peers, and considered only 0 or more than 0 treated peers, the propensity scores would be heterogeneous. The author attempt to deal with this by adding the indicators for each number of friends.\n",
    "\n",
    "Make a function that, given the data (or permuted data) computes our test statistic -- the regression coefficient from above. We can see that it gives the same results as before:"
   ]
  },
  {
   "cell_type": "code",
   "execution_count": 49,
   "metadata": {
    "collapsed": false
   },
   "outputs": [
    {
     "name": "stdout",
     "output_type": "stream",
     "text": [
      "I(z.peers/n.peers) \n",
      "            0.0508 \n"
     ]
    }
   ],
   "source": [
    "peer.regression.coef <- function(z, z.peers, n.peers, y) {\n",
    "  coef(lm(y ~ z + I(z.peers / n.peers) + factor(n.peers)))[3]\n",
    "}\n",
    "\n",
    "obs.coef <- with(\n",
    "  cai,\n",
    "  peer.regression.coef(intensive, intensive.nondelay.peers, n.peers, takeup_survey)\n",
    ")\n",
    "print(obs.coef)"
   ]
  },
  {
   "cell_type": "markdown",
   "metadata": {},
   "source": [
    "Now we write a function to do the focal-auxillary permuation and compute the test statistic for each permutation."
   ]
  },
  {
   "cell_type": "code",
   "execution_count": 45,
   "metadata": {
    "collapsed": true
   },
   "outputs": [],
   "source": [
    "do.focal.aux.permutation <- function(adj.mat, z, n.peers, y,\n",
    "                           is.focal, R = 1e3,\n",
    "                           fnc = peer.regression.coef) {\n",
    "  foreach(i = 1:R, .combine = 'c') %do% {\n",
    "    zp <- z\n",
    "    zp[!is.focal] <- sample(z[!is.focal]) # permute treatments for auxillary vertices only\n",
    "    zp.peers <- as.vector(adj.mat %*% zp) # re-compute number of peers treated\n",
    "    fnc(z[is.focal], zp.peers[is.focal], n.peers[is.focal], y[is.focal])\n",
    "  }\n",
    "}\n"
   ]
  },
  {
   "cell_type": "markdown",
   "metadata": {},
   "source": [
    "We can now call this function to draw from the distribution of the test statistic under the null of no spillovers (but possible direct effects).\n",
    "\n",
    "Just for illustration, let's start by just selecting a random 2000 units as focal units."
   ]
  },
  {
   "cell_type": "markdown",
   "metadata": {},
   "source": [
    "Actually in the paper, they mainly don't focus on contemporaneous influence. Rather the authors look for effects of the assignment of peers treated in period 1 on egos only assigned in round 2."
   ]
  },
  {
   "cell_type": "code",
   "execution_count": 60,
   "metadata": {
    "collapsed": false
   },
   "outputs": [
    {
     "data": {
      "text/plain": [
       "   Min. 1st Qu.  Median    Mean 3rd Qu.    Max. \n",
       "-0.0744  0.0161  0.0353  0.0366  0.0562  0.1420 "
      ]
     },
     "execution_count": 60,
     "metadata": {},
     "output_type": "execute_result"
    }
   ],
   "source": [
    "\n",
    "cai$is.focal <- sample(c(rep(TRUE, 2000), rep(FALSE, nrow(cai) - 2000)))\n",
    "\n",
    "null.coefs <- do.focal.aux.permutation(\n",
    "  A,\n",
    "  cai$intensive,\n",
    "  cai$n.peers, cai$takeup_survey,\n",
    "  cai$is.focal,\n",
    "  R = 1e3\n",
    ")\n",
    "\n",
    "summary(null.coefs)"
   ]
  },
  {
   "cell_type": "code",
   "execution_count": 62,
   "metadata": {
    "collapsed": false
   },
   "outputs": [
    {
     "name": "stdout",
     "output_type": "stream",
     "text": [
      "I(z.peers/n.peers) \n",
      "             0.076 \n"
     ]
    }
   ],
   "source": [
    "obs.coef <- with(\n",
    "  subset(cai, is.focal),\n",
    "  peer.regression.coef(intensive, intensive.nondelay.peers, n.peers, takeup_survey)\n",
    ")\n",
    "print(obs.coef)"
   ]
  },
  {
   "cell_type": "code",
   "execution_count": 63,
   "metadata": {
    "collapsed": false
   },
   "outputs": [
    {
     "data": {
      "text/html": [
       "0.222"
      ],
      "text/latex": [
       "0.222"
      ],
      "text/markdown": [
       "0.222"
      ],
      "text/plain": [
       "[1] 0.222"
      ]
     },
     "execution_count": 63,
     "metadata": {},
     "output_type": "execute_result"
    }
   ],
   "source": [
    "two.sided.p.value.perm <- function(obs, null.draws) {\n",
    "    lower.p <- mean(obs > null.draws)\n",
    "    upper.p <- mean(obs < null.draws)\n",
    "    2 * min(lower.p, upper.p)\n",
    "}\n",
    "\n",
    "two.sided.p.value.perm(obs.coef, null.coefs)"
   ]
  },
  {
   "cell_type": "markdown",
   "metadata": {},
   "source": [
    "So actually this doesn't look statistically significant...\n",
    "\n",
    "But, in fact, in the paper they focus their analysis a bit more in a couple ways. One is onto households that were not, as part of the treatment, randomly assigned to get information about insurance adoption in their area. Perhaps that social information would reduce the impact of other social info. They also restrict attention to households treated in the second period."
   ]
  },
  {
   "cell_type": "code",
   "execution_count": 70,
   "metadata": {
    "collapsed": false
   },
   "outputs": [
    {
     "name": "stdout",
     "output_type": "stream",
     "text": [
      "I(z.peers/n.peers) \n",
      "            0.0508 \n"
     ]
    }
   ],
   "source": [
    "# a relevant subset\n",
    "cai$relevant.case <- with(cai, delay == 1 & info_none == 1)\n",
    "\n",
    "obs.coef <- with(\n",
    "  cai,\n",
    "  peer.regression.coef(intensive, intensive.nondelay.peers, n.peers, takeup_survey)\n",
    ")\n",
    "print(obs.coef)"
   ]
  },
  {
   "cell_type": "markdown",
   "metadata": {},
   "source": [
    "Since only some units have relevant outcomes now, we can make all of them the focal units."
   ]
  },
  {
   "cell_type": "code",
   "execution_count": 76,
   "metadata": {
    "collapsed": false
   },
   "outputs": [
    {
     "data": {
      "text/plain": [
       "   Min. 1st Qu.  Median    Mean 3rd Qu.    Max. \n",
       "-0.1020 -0.0016  0.0311  0.0295  0.0599  0.1600 "
      ]
     },
     "execution_count": 76,
     "metadata": {},
     "output_type": "execute_result"
    }
   ],
   "source": [
    "cai$is.focal <- cai$relevant.case\n",
    "\n",
    "null.coefs <- do.focal.aux.permutation(\n",
    "  A,\n",
    "  cai$intensive,\n",
    "  cai$n.peers, cai$takeup_survey,\n",
    "  cai$is.focal,\n",
    "  R = 1e3\n",
    ")\n",
    "\n",
    "summary(null.coefs)"
   ]
  },
  {
   "cell_type": "code",
   "execution_count": 73,
   "metadata": {
    "collapsed": false
   },
   "outputs": [
    {
     "name": "stdout",
     "output_type": "stream",
     "text": [
      "I(z.peers/n.peers) \n",
      "             0.197 \n"
     ]
    }
   ],
   "source": [
    "obs.coef <- with(\n",
    "  subset(cai, is.focal),\n",
    "  peer.regression.coef(intensive, intensive.nondelay.peers, n.peers, takeup_survey)\n",
    ")\n",
    "print(obs.coef)"
   ]
  },
  {
   "cell_type": "code",
   "execution_count": 77,
   "metadata": {
    "collapsed": false
   },
   "outputs": [
    {
     "data": {
      "text/html": [
       "0"
      ],
      "text/latex": [
       "0"
      ],
      "text/markdown": [
       "0"
      ],
      "text/plain": [
       "[1] 0"
      ]
     },
     "execution_count": 77,
     "metadata": {},
     "output_type": "execute_result"
    }
   ],
   "source": [
    "two.sided.p.value.perm(obs.coef, null.coefs)"
   ]
  },
  {
   "cell_type": "markdown",
   "metadata": {},
   "source": [
    "So the p-value is very close to 0. For this subpopulation, there is strong evidence."
   ]
  }
 ],
 "metadata": {
  "kernelspec": {
   "display_name": "R",
   "language": "R",
   "name": "ir"
  },
  "language_info": {
   "codemirror_mode": "r",
   "file_extension": ".r",
   "mimetype": "text/x-r-source",
   "name": "R",
   "pygments_lexer": "r",
   "version": "3.2.2"
  }
 },
 "nbformat": 4,
 "nbformat_minor": 0
}
